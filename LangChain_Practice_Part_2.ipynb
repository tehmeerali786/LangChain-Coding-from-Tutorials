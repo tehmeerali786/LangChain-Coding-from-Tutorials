{
  "nbformat": 4,
  "nbformat_minor": 0,
  "metadata": {
    "colab": {
      "provenance": []
    },
    "kernelspec": {
      "name": "python3",
      "display_name": "Python 3"
    },
    "language_info": {
      "name": "python"
    }
  },
  "cells": [
    {
      "cell_type": "markdown",
      "source": [
        "# 8 Exporing Indexes and Vectors\n"
      ],
      "metadata": {
        "id": "84uwHLTpxd-Z"
      }
    },
    {
      "cell_type": "markdown",
      "source": [
        "### 8a Document Loaders and Integration"
      ],
      "metadata": {
        "id": "cMw2PAhIxpDS"
      }
    },
    {
      "cell_type": "code",
      "execution_count": null,
      "metadata": {
        "colab": {
          "base_uri": "https://localhost:8080/"
        },
        "id": "FrEaYUPpxMEZ",
        "outputId": "bdb9c896-9db5-48e7-f958-99b645166c1f"
      },
      "outputs": [
        {
          "output_type": "stream",
          "name": "stdout",
          "text": [
            "Collecting langchain==0.0.235\n",
            "  Downloading langchain-0.0.235-py3-none-any.whl (1.3 MB)\n",
            "\u001b[2K     \u001b[90m━━━━━━━━━━━━━━━━━━━━━━━━━━━━━━━━━━━━━━━━\u001b[0m \u001b[32m1.3/1.3 MB\u001b[0m \u001b[31m9.1 MB/s\u001b[0m eta \u001b[36m0:00:00\u001b[0m\n",
            "\u001b[?25hRequirement already satisfied: PyYAML>=5.4.1 in /usr/local/lib/python3.10/dist-packages (from langchain==0.0.235) (6.0.1)\n",
            "Requirement already satisfied: SQLAlchemy<3,>=1.4 in /usr/local/lib/python3.10/dist-packages (from langchain==0.0.235) (2.0.23)\n",
            "Requirement already satisfied: aiohttp<4.0.0,>=3.8.3 in /usr/local/lib/python3.10/dist-packages (from langchain==0.0.235) (3.9.1)\n",
            "Requirement already satisfied: async-timeout<5.0.0,>=4.0.0 in /usr/local/lib/python3.10/dist-packages (from langchain==0.0.235) (4.0.3)\n",
            "Collecting dataclasses-json<0.6.0,>=0.5.7 (from langchain==0.0.235)\n",
            "  Downloading dataclasses_json-0.5.14-py3-none-any.whl (26 kB)\n",
            "Collecting langsmith<0.0.8,>=0.0.7 (from langchain==0.0.235)\n",
            "  Downloading langsmith-0.0.7-py3-none-any.whl (26 kB)\n",
            "Requirement already satisfied: numexpr<3.0.0,>=2.8.4 in /usr/local/lib/python3.10/dist-packages (from langchain==0.0.235) (2.8.7)\n",
            "Requirement already satisfied: numpy<2,>=1 in /usr/local/lib/python3.10/dist-packages (from langchain==0.0.235) (1.23.5)\n",
            "Collecting openapi-schema-pydantic<2.0,>=1.2 (from langchain==0.0.235)\n",
            "  Downloading openapi_schema_pydantic-1.2.4-py3-none-any.whl (90 kB)\n",
            "\u001b[2K     \u001b[90m━━━━━━━━━━━━━━━━━━━━━━━━━━━━━━━━━━━━━━━━\u001b[0m \u001b[32m90.0/90.0 kB\u001b[0m \u001b[31m9.7 MB/s\u001b[0m eta \u001b[36m0:00:00\u001b[0m\n",
            "\u001b[?25hRequirement already satisfied: pydantic<2,>=1 in /usr/local/lib/python3.10/dist-packages (from langchain==0.0.235) (1.10.13)\n",
            "Requirement already satisfied: requests<3,>=2 in /usr/local/lib/python3.10/dist-packages (from langchain==0.0.235) (2.31.0)\n",
            "Requirement already satisfied: tenacity<9.0.0,>=8.1.0 in /usr/local/lib/python3.10/dist-packages (from langchain==0.0.235) (8.2.3)\n",
            "Requirement already satisfied: attrs>=17.3.0 in /usr/local/lib/python3.10/dist-packages (from aiohttp<4.0.0,>=3.8.3->langchain==0.0.235) (23.1.0)\n",
            "Requirement already satisfied: multidict<7.0,>=4.5 in /usr/local/lib/python3.10/dist-packages (from aiohttp<4.0.0,>=3.8.3->langchain==0.0.235) (6.0.4)\n",
            "Requirement already satisfied: yarl<2.0,>=1.0 in /usr/local/lib/python3.10/dist-packages (from aiohttp<4.0.0,>=3.8.3->langchain==0.0.235) (1.9.3)\n",
            "Requirement already satisfied: frozenlist>=1.1.1 in /usr/local/lib/python3.10/dist-packages (from aiohttp<4.0.0,>=3.8.3->langchain==0.0.235) (1.4.0)\n",
            "Requirement already satisfied: aiosignal>=1.1.2 in /usr/local/lib/python3.10/dist-packages (from aiohttp<4.0.0,>=3.8.3->langchain==0.0.235) (1.3.1)\n",
            "Collecting marshmallow<4.0.0,>=3.18.0 (from dataclasses-json<0.6.0,>=0.5.7->langchain==0.0.235)\n",
            "  Downloading marshmallow-3.20.1-py3-none-any.whl (49 kB)\n",
            "\u001b[2K     \u001b[90m━━━━━━━━━━━━━━━━━━━━━━━━━━━━━━━━━━━━━━━━\u001b[0m \u001b[32m49.4/49.4 kB\u001b[0m \u001b[31m5.3 MB/s\u001b[0m eta \u001b[36m0:00:00\u001b[0m\n",
            "\u001b[?25hCollecting typing-inspect<1,>=0.4.0 (from dataclasses-json<0.6.0,>=0.5.7->langchain==0.0.235)\n",
            "  Downloading typing_inspect-0.9.0-py3-none-any.whl (8.8 kB)\n",
            "Requirement already satisfied: typing-extensions>=4.2.0 in /usr/local/lib/python3.10/dist-packages (from pydantic<2,>=1->langchain==0.0.235) (4.5.0)\n",
            "Requirement already satisfied: charset-normalizer<4,>=2 in /usr/local/lib/python3.10/dist-packages (from requests<3,>=2->langchain==0.0.235) (3.3.2)\n",
            "Requirement already satisfied: idna<4,>=2.5 in /usr/local/lib/python3.10/dist-packages (from requests<3,>=2->langchain==0.0.235) (3.6)\n",
            "Requirement already satisfied: urllib3<3,>=1.21.1 in /usr/local/lib/python3.10/dist-packages (from requests<3,>=2->langchain==0.0.235) (2.0.7)\n",
            "Requirement already satisfied: certifi>=2017.4.17 in /usr/local/lib/python3.10/dist-packages (from requests<3,>=2->langchain==0.0.235) (2023.11.17)\n",
            "Requirement already satisfied: greenlet!=0.4.17 in /usr/local/lib/python3.10/dist-packages (from SQLAlchemy<3,>=1.4->langchain==0.0.235) (3.0.1)\n",
            "Requirement already satisfied: packaging>=17.0 in /usr/local/lib/python3.10/dist-packages (from marshmallow<4.0.0,>=3.18.0->dataclasses-json<0.6.0,>=0.5.7->langchain==0.0.235) (23.2)\n",
            "Collecting mypy-extensions>=0.3.0 (from typing-inspect<1,>=0.4.0->dataclasses-json<0.6.0,>=0.5.7->langchain==0.0.235)\n",
            "  Downloading mypy_extensions-1.0.0-py3-none-any.whl (4.7 kB)\n",
            "Installing collected packages: mypy-extensions, marshmallow, typing-inspect, openapi-schema-pydantic, langsmith, dataclasses-json, langchain\n",
            "Successfully installed dataclasses-json-0.5.14 langchain-0.0.235 langsmith-0.0.7 marshmallow-3.20.1 mypy-extensions-1.0.0 openapi-schema-pydantic-1.2.4 typing-inspect-0.9.0\n"
          ]
        }
      ],
      "source": [
        "!pip install langchain==0.0.235"
      ]
    },
    {
      "cell_type": "code",
      "source": [
        "!pip install jinaai"
      ],
      "metadata": {
        "colab": {
          "base_uri": "https://localhost:8080/"
        },
        "id": "AN8ht7e1yHHu",
        "outputId": "e0e0fd96-f9b8-4577-a893-325a0fc8a9e8"
      },
      "execution_count": null,
      "outputs": [
        {
          "output_type": "stream",
          "name": "stdout",
          "text": [
            "Collecting jinaai\n",
            "  Downloading jinaai-0.2.9-py3-none-any.whl (16 kB)\n",
            "Requirement already satisfied: requests in /usr/local/lib/python3.10/dist-packages (from jinaai) (2.31.0)\n",
            "Requirement already satisfied: charset-normalizer<4,>=2 in /usr/local/lib/python3.10/dist-packages (from requests->jinaai) (3.3.2)\n",
            "Requirement already satisfied: idna<4,>=2.5 in /usr/local/lib/python3.10/dist-packages (from requests->jinaai) (3.6)\n",
            "Requirement already satisfied: urllib3<3,>=1.21.1 in /usr/local/lib/python3.10/dist-packages (from requests->jinaai) (2.0.7)\n",
            "Requirement already satisfied: certifi>=2017.4.17 in /usr/local/lib/python3.10/dist-packages (from requests->jinaai) (2023.11.17)\n",
            "Installing collected packages: jinaai\n",
            "Successfully installed jinaai-0.2.9\n"
          ]
        }
      ]
    },
    {
      "cell_type": "code",
      "source": [
        "!pip install openai==0.28"
      ],
      "metadata": {
        "colab": {
          "base_uri": "https://localhost:8080/"
        },
        "id": "-mVixSkNyJ1-",
        "outputId": "c65afad3-c836-4cd9-b6f5-63f38f7051f3"
      },
      "execution_count": null,
      "outputs": [
        {
          "output_type": "stream",
          "name": "stdout",
          "text": [
            "Collecting openai==0.28\n",
            "  Downloading openai-0.28.0-py3-none-any.whl (76 kB)\n",
            "\u001b[?25l     \u001b[90m━━━━━━━━━━━━━━━━━━━━━━━━━━━━━━━━━━━━━━━━\u001b[0m \u001b[32m0.0/76.5 kB\u001b[0m \u001b[31m?\u001b[0m eta \u001b[36m-:--:--\u001b[0m\r\u001b[2K     \u001b[90m━━━━━━━━━━━━━━━━━━━━━━━━━━━━━━━━━━━━━━━━\u001b[0m \u001b[32m76.5/76.5 kB\u001b[0m \u001b[31m2.5 MB/s\u001b[0m eta \u001b[36m0:00:00\u001b[0m\n",
            "\u001b[?25hRequirement already satisfied: requests>=2.20 in /usr/local/lib/python3.10/dist-packages (from openai==0.28) (2.31.0)\n",
            "Requirement already satisfied: tqdm in /usr/local/lib/python3.10/dist-packages (from openai==0.28) (4.66.1)\n",
            "Requirement already satisfied: aiohttp in /usr/local/lib/python3.10/dist-packages (from openai==0.28) (3.9.1)\n",
            "Requirement already satisfied: charset-normalizer<4,>=2 in /usr/local/lib/python3.10/dist-packages (from requests>=2.20->openai==0.28) (3.3.2)\n",
            "Requirement already satisfied: idna<4,>=2.5 in /usr/local/lib/python3.10/dist-packages (from requests>=2.20->openai==0.28) (3.6)\n",
            "Requirement already satisfied: urllib3<3,>=1.21.1 in /usr/local/lib/python3.10/dist-packages (from requests>=2.20->openai==0.28) (2.0.7)\n",
            "Requirement already satisfied: certifi>=2017.4.17 in /usr/local/lib/python3.10/dist-packages (from requests>=2.20->openai==0.28) (2023.11.17)\n",
            "Requirement already satisfied: attrs>=17.3.0 in /usr/local/lib/python3.10/dist-packages (from aiohttp->openai==0.28) (23.1.0)\n",
            "Requirement already satisfied: multidict<7.0,>=4.5 in /usr/local/lib/python3.10/dist-packages (from aiohttp->openai==0.28) (6.0.4)\n",
            "Requirement already satisfied: yarl<2.0,>=1.0 in /usr/local/lib/python3.10/dist-packages (from aiohttp->openai==0.28) (1.9.3)\n",
            "Requirement already satisfied: frozenlist>=1.1.1 in /usr/local/lib/python3.10/dist-packages (from aiohttp->openai==0.28) (1.4.0)\n",
            "Requirement already satisfied: aiosignal>=1.1.2 in /usr/local/lib/python3.10/dist-packages (from aiohttp->openai==0.28) (1.3.1)\n",
            "Requirement already satisfied: async-timeout<5.0,>=4.0 in /usr/local/lib/python3.10/dist-packages (from aiohttp->openai==0.28) (4.0.3)\n",
            "Installing collected packages: openai\n",
            "\u001b[31mERROR: pip's dependency resolver does not currently take into account all the packages that are installed. This behaviour is the source of the following dependency conflicts.\n",
            "llmx 0.0.15a0 requires cohere, which is not installed.\n",
            "llmx 0.0.15a0 requires tiktoken, which is not installed.\u001b[0m\u001b[31m\n",
            "\u001b[0mSuccessfully installed openai-0.28.0\n"
          ]
        }
      ]
    },
    {
      "cell_type": "code",
      "source": [
        "!pip install llamaapi"
      ],
      "metadata": {
        "colab": {
          "base_uri": "https://localhost:8080/"
        },
        "id": "w015NQ-p7JSj",
        "outputId": "f939200e-a4be-4887-bd07-acb565db7f29"
      },
      "execution_count": null,
      "outputs": [
        {
          "output_type": "stream",
          "name": "stdout",
          "text": [
            "Collecting llamaapi\n",
            "  Downloading llamaapi-0.1.36-py3-none-any.whl (4.0 kB)\n",
            "Requirement already satisfied: aiohttp<4.0.0,>=3.8.5 in /usr/local/lib/python3.10/dist-packages (from llamaapi) (3.9.1)\n",
            "Requirement already satisfied: nest-asyncio<2.0.0,>=1.5.6 in /usr/local/lib/python3.10/dist-packages (from llamaapi) (1.5.8)\n",
            "Requirement already satisfied: requests<3.0.0,>=2.27.1 in /usr/local/lib/python3.10/dist-packages (from llamaapi) (2.31.0)\n",
            "Requirement already satisfied: attrs>=17.3.0 in /usr/local/lib/python3.10/dist-packages (from aiohttp<4.0.0,>=3.8.5->llamaapi) (23.1.0)\n",
            "Requirement already satisfied: multidict<7.0,>=4.5 in /usr/local/lib/python3.10/dist-packages (from aiohttp<4.0.0,>=3.8.5->llamaapi) (6.0.4)\n",
            "Requirement already satisfied: yarl<2.0,>=1.0 in /usr/local/lib/python3.10/dist-packages (from aiohttp<4.0.0,>=3.8.5->llamaapi) (1.9.3)\n",
            "Requirement already satisfied: frozenlist>=1.1.1 in /usr/local/lib/python3.10/dist-packages (from aiohttp<4.0.0,>=3.8.5->llamaapi) (1.4.0)\n",
            "Requirement already satisfied: aiosignal>=1.1.2 in /usr/local/lib/python3.10/dist-packages (from aiohttp<4.0.0,>=3.8.5->llamaapi) (1.3.1)\n",
            "Requirement already satisfied: async-timeout<5.0,>=4.0 in /usr/local/lib/python3.10/dist-packages (from aiohttp<4.0.0,>=3.8.5->llamaapi) (4.0.3)\n",
            "Requirement already satisfied: charset-normalizer<4,>=2 in /usr/local/lib/python3.10/dist-packages (from requests<3.0.0,>=2.27.1->llamaapi) (3.3.2)\n",
            "Requirement already satisfied: idna<4,>=2.5 in /usr/local/lib/python3.10/dist-packages (from requests<3.0.0,>=2.27.1->llamaapi) (3.6)\n",
            "Requirement already satisfied: urllib3<3,>=1.21.1 in /usr/local/lib/python3.10/dist-packages (from requests<3.0.0,>=2.27.1->llamaapi) (2.0.7)\n",
            "Requirement already satisfied: certifi>=2017.4.17 in /usr/local/lib/python3.10/dist-packages (from requests<3.0.0,>=2.27.1->llamaapi) (2023.11.17)\n",
            "Installing collected packages: llamaapi\n",
            "Successfully installed llamaapi-0.1.36\n"
          ]
        }
      ]
    },
    {
      "cell_type": "code",
      "source": [
        "import os"
      ],
      "metadata": {
        "id": "lRwLdsr7yNm7"
      },
      "execution_count": null,
      "outputs": []
    },
    {
      "cell_type": "code",
      "source": [
        "from langchain.chat_models import JinaChat"
      ],
      "metadata": {
        "id": "U1iWki60yRZc"
      },
      "execution_count": null,
      "outputs": []
    },
    {
      "cell_type": "code",
      "source": [
        "from llamaapi import LlamaAPI"
      ],
      "metadata": {
        "id": "RxRRRzxa7Roy"
      },
      "execution_count": null,
      "outputs": []
    },
    {
      "cell_type": "code",
      "source": [
        "llama = LlamaAPI(\"\")"
      ],
      "metadata": {
        "id": "R1tuuIxD7yqU"
      },
      "execution_count": null,
      "outputs": []
    },
    {
      "cell_type": "code",
      "source": [
        "from langchain.chat_models import JinaChat"
      ],
      "metadata": {
        "id": "mIpdkg3U7y-3"
      },
      "execution_count": null,
      "outputs": []
    },
    {
      "cell_type": "code",
      "source": [],
      "metadata": {
        "id": "5VjkvFJo-ENe"
      },
      "execution_count": null,
      "outputs": []
    },
    {
      "cell_type": "code",
      "source": [
        "os.environ['JINACHAT_API_KEY'] = ''"
      ],
      "metadata": {
        "id": "4ZuZzER_yjen"
      },
      "execution_count": null,
      "outputs": []
    },
    {
      "cell_type": "code",
      "source": [
        "llm = JinaChat()"
      ],
      "metadata": {
        "id": "BTu2FnIiyoF6"
      },
      "execution_count": null,
      "outputs": []
    },
    {
      "cell_type": "code",
      "source": [
        "from langchain.document_loaders import CSVLoader"
      ],
      "metadata": {
        "id": "5vLE4YYnypuq"
      },
      "execution_count": null,
      "outputs": []
    },
    {
      "cell_type": "code",
      "source": [
        "loader = CSVLoader(file_path=\"science_fiction.txt\")"
      ],
      "metadata": {
        "id": "kEbHukUBy36a"
      },
      "execution_count": null,
      "outputs": []
    },
    {
      "cell_type": "code",
      "source": [
        "data = loader.load()"
      ],
      "metadata": {
        "id": "ITziTaB_zICq"
      },
      "execution_count": null,
      "outputs": []
    },
    {
      "cell_type": "code",
      "source": [
        "print(data)"
      ],
      "metadata": {
        "colab": {
          "base_uri": "https://localhost:8080/"
        },
        "id": "0n6imScOzNwp",
        "outputId": "3204f16c-af7b-4d11-aa11-bb29fe29727e"
      },
      "execution_count": null,
      "outputs": [
        {
          "output_type": "stream",
          "name": "stdout",
          "text": [
            "[Document(page_content='Book: Dune\\nAuthor: Frank Herbert', metadata={'source': 'science_fiction.txt', 'row': 0}), Document(page_content=\"Book: Ender's Game\\nAuthor: Orson Scott Card\", metadata={'source': 'science_fiction.txt', 'row': 1}), Document(page_content='Book: Foundation\\nAuthor: by Isaac Asimov', metadata={'source': 'science_fiction.txt', 'row': 2}), Document(page_content='Book: Neuromancer\\nAuthor: William Gibson', metadata={'source': 'science_fiction.txt', 'row': 3}), Document(page_content='Book: The Left Hand of Darkness\\nAuthor: Ursula K. Le Guin', metadata={'source': 'science_fiction.txt', 'row': 4}), Document(page_content='Book: Snow Crash\\nAuthor: Neal Stephenson', metadata={'source': 'science_fiction.txt', 'row': 5}), Document(page_content='Book: Hyperion\\nAuthor: Dan Simmons', metadata={'source': 'science_fiction.txt', 'row': 6}), Document(page_content='Book: The Stars My Destination\\nAuthor: Alfred Bester', metadata={'source': 'science_fiction.txt', 'row': 7}), Document(page_content='Book: Ringworld\\nAuthor: Larry Niven', metadata={'source': 'science_fiction.txt', 'row': 8}), Document(page_content='Book: Red Mars\\nAuthor: Kim Stanley Robinson', metadata={'source': 'science_fiction.txt', 'row': 9}), Document(page_content='Book: The Three-Body Problem\\nAuthor: Liu Cixin', metadata={'source': 'science_fiction.txt', 'row': 10}), Document(page_content='Book: Starship Troopers\\nAuthor: Robert A. Heinlein', metadata={'source': 'science_fiction.txt', 'row': 11}), Document(page_content='Book: The Moon is a Harsh Mistress\\nAuthor: Robert A. Heinlein', metadata={'source': 'science_fiction.txt', 'row': 12}), Document(page_content='Book: The Windup Girl\\nAuthor: Paolo Bacigalupi', metadata={'source': 'science_fiction.txt', 'row': 13}), Document(page_content='Book: Altered Carbon\\nAuthor: Richard K. Morgan', metadata={'source': 'science_fiction.txt', 'row': 14}), Document(page_content='Book: The Space Trilogy\\nAuthor: C.S. Lewis', metadata={'source': 'science_fiction.txt', 'row': 15}), Document(page_content='Book: The Forever War\\nAuthor: Joe Haldeman', metadata={'source': 'science_fiction.txt', 'row': 16}), Document(page_content=\"Book: Old Man's War\\nAuthor: John Scalzi\", metadata={'source': 'science_fiction.txt', 'row': 17}), Document(page_content='Book: A Canticle for Leibowitz\\nAuthor: Walter M. Miller Jr.', metadata={'source': 'science_fiction.txt', 'row': 18}), Document(page_content='Book: Blindsight\\nAuthor: Peter Watts', metadata={'source': 'science_fiction.txt', 'row': 19})]\n"
          ]
        }
      ]
    },
    {
      "cell_type": "code",
      "source": [
        "print(data[0])"
      ],
      "metadata": {
        "colab": {
          "base_uri": "https://localhost:8080/"
        },
        "id": "rzDOj7mWzQGJ",
        "outputId": "32137ff2-9b6b-45c3-e9ba-c968f309d57e"
      },
      "execution_count": null,
      "outputs": [
        {
          "output_type": "stream",
          "name": "stdout",
          "text": [
            "page_content='Book: Dune\\nAuthor: Frank Herbert' metadata={'source': 'science_fiction.txt', 'row': 0}\n"
          ]
        }
      ]
    },
    {
      "cell_type": "code",
      "source": [
        "print(data[1])"
      ],
      "metadata": {
        "colab": {
          "base_uri": "https://localhost:8080/"
        },
        "id": "u-umrvubzX6Y",
        "outputId": "d90dff6d-9104-41a7-9a99-d75e1f42118f"
      },
      "execution_count": null,
      "outputs": [
        {
          "output_type": "stream",
          "name": "stdout",
          "text": [
            "page_content=\"Book: Ender's Game\\nAuthor: Orson Scott Card\" metadata={'source': 'science_fiction.txt', 'row': 1}\n"
          ]
        }
      ]
    },
    {
      "cell_type": "code",
      "source": [
        "print(data[0].page_content)"
      ],
      "metadata": {
        "colab": {
          "base_uri": "https://localhost:8080/"
        },
        "id": "zXFr7GAezY44",
        "outputId": "cc8cc6de-557f-4fd8-a187-83e4a98a6ecf"
      },
      "execution_count": null,
      "outputs": [
        {
          "output_type": "stream",
          "name": "stdout",
          "text": [
            "Book: Dune\n",
            "Author: Frank Herbert\n"
          ]
        }
      ]
    },
    {
      "cell_type": "code",
      "source": [
        "!pip install unstructured"
      ],
      "metadata": {
        "colab": {
          "base_uri": "https://localhost:8080/"
        },
        "id": "uj64dLOdzfDp",
        "outputId": "83e2bfad-618a-4b7d-b7f6-098e2de25faf"
      },
      "execution_count": null,
      "outputs": [
        {
          "output_type": "stream",
          "name": "stdout",
          "text": [
            "Collecting unstructured\n",
            "  Downloading unstructured-0.11.2-py3-none-any.whl (1.7 MB)\n",
            "\u001b[2K     \u001b[90m━━━━━━━━━━━━━━━━━━━━━━━━━━━━━━━━━━━━━━━━\u001b[0m \u001b[32m1.7/1.7 MB\u001b[0m \u001b[31m9.2 MB/s\u001b[0m eta \u001b[36m0:00:00\u001b[0m\n",
            "\u001b[?25hRequirement already satisfied: chardet in /usr/local/lib/python3.10/dist-packages (from unstructured) (5.2.0)\n",
            "Collecting filetype (from unstructured)\n",
            "  Downloading filetype-1.2.0-py2.py3-none-any.whl (19 kB)\n",
            "Collecting python-magic (from unstructured)\n",
            "  Downloading python_magic-0.4.27-py2.py3-none-any.whl (13 kB)\n",
            "Requirement already satisfied: lxml in /usr/local/lib/python3.10/dist-packages (from unstructured) (4.9.3)\n",
            "Requirement already satisfied: nltk in /usr/local/lib/python3.10/dist-packages (from unstructured) (3.8.1)\n",
            "Requirement already satisfied: tabulate in /usr/local/lib/python3.10/dist-packages (from unstructured) (0.9.0)\n",
            "Requirement already satisfied: requests in /usr/local/lib/python3.10/dist-packages (from unstructured) (2.31.0)\n",
            "Requirement already satisfied: beautifulsoup4 in /usr/local/lib/python3.10/dist-packages (from unstructured) (4.11.2)\n",
            "Collecting emoji (from unstructured)\n",
            "  Downloading emoji-2.9.0-py2.py3-none-any.whl (397 kB)\n",
            "\u001b[2K     \u001b[90m━━━━━━━━━━━━━━━━━━━━━━━━━━━━━━━━━━━━━━━━\u001b[0m \u001b[32m397.5/397.5 kB\u001b[0m \u001b[31m15.1 MB/s\u001b[0m eta \u001b[36m0:00:00\u001b[0m\n",
            "\u001b[?25hRequirement already satisfied: dataclasses-json in /usr/local/lib/python3.10/dist-packages (from unstructured) (0.5.14)\n",
            "Collecting python-iso639 (from unstructured)\n",
            "  Downloading python_iso639-2023.12.11-py3-none-any.whl (275 kB)\n",
            "\u001b[2K     \u001b[90m━━━━━━━━━━━━━━━━━━━━━━━━━━━━━━━━━━━━━━━━\u001b[0m \u001b[32m275.1/275.1 kB\u001b[0m \u001b[31m15.5 MB/s\u001b[0m eta \u001b[36m0:00:00\u001b[0m\n",
            "\u001b[?25hCollecting langdetect (from unstructured)\n",
            "  Downloading langdetect-1.0.9.tar.gz (981 kB)\n",
            "\u001b[2K     \u001b[90m━━━━━━━━━━━━━━━━━━━━━━━━━━━━━━━━━━━━━━━━\u001b[0m \u001b[32m981.5/981.5 kB\u001b[0m \u001b[31m20.1 MB/s\u001b[0m eta \u001b[36m0:00:00\u001b[0m\n",
            "\u001b[?25h  Preparing metadata (setup.py) ... \u001b[?25l\u001b[?25hdone\n",
            "Requirement already satisfied: numpy in /usr/local/lib/python3.10/dist-packages (from unstructured) (1.23.5)\n",
            "Collecting rapidfuzz (from unstructured)\n",
            "  Downloading rapidfuzz-3.5.2-cp310-cp310-manylinux_2_17_x86_64.manylinux2014_x86_64.whl (3.3 MB)\n",
            "\u001b[2K     \u001b[90m━━━━━━━━━━━━━━━━━━━━━━━━━━━━━━━━━━━━━━━━\u001b[0m \u001b[32m3.3/3.3 MB\u001b[0m \u001b[31m26.9 MB/s\u001b[0m eta \u001b[36m0:00:00\u001b[0m\n",
            "\u001b[?25hCollecting backoff (from unstructured)\n",
            "  Downloading backoff-2.2.1-py3-none-any.whl (15 kB)\n",
            "Requirement already satisfied: typing-extensions in /usr/local/lib/python3.10/dist-packages (from unstructured) (4.5.0)\n",
            "Requirement already satisfied: wrapt in /usr/local/lib/python3.10/dist-packages (from unstructured) (1.14.1)\n",
            "Requirement already satisfied: soupsieve>1.2 in /usr/local/lib/python3.10/dist-packages (from beautifulsoup4->unstructured) (2.5)\n",
            "Requirement already satisfied: marshmallow<4.0.0,>=3.18.0 in /usr/local/lib/python3.10/dist-packages (from dataclasses-json->unstructured) (3.20.1)\n",
            "Requirement already satisfied: typing-inspect<1,>=0.4.0 in /usr/local/lib/python3.10/dist-packages (from dataclasses-json->unstructured) (0.9.0)\n",
            "Requirement already satisfied: six in /usr/local/lib/python3.10/dist-packages (from langdetect->unstructured) (1.16.0)\n",
            "Requirement already satisfied: click in /usr/local/lib/python3.10/dist-packages (from nltk->unstructured) (8.1.7)\n",
            "Requirement already satisfied: joblib in /usr/local/lib/python3.10/dist-packages (from nltk->unstructured) (1.3.2)\n",
            "Requirement already satisfied: regex>=2021.8.3 in /usr/local/lib/python3.10/dist-packages (from nltk->unstructured) (2023.6.3)\n",
            "Requirement already satisfied: tqdm in /usr/local/lib/python3.10/dist-packages (from nltk->unstructured) (4.66.1)\n",
            "Requirement already satisfied: charset-normalizer<4,>=2 in /usr/local/lib/python3.10/dist-packages (from requests->unstructured) (3.3.2)\n",
            "Requirement already satisfied: idna<4,>=2.5 in /usr/local/lib/python3.10/dist-packages (from requests->unstructured) (3.6)\n",
            "Requirement already satisfied: urllib3<3,>=1.21.1 in /usr/local/lib/python3.10/dist-packages (from requests->unstructured) (2.0.7)\n",
            "Requirement already satisfied: certifi>=2017.4.17 in /usr/local/lib/python3.10/dist-packages (from requests->unstructured) (2023.11.17)\n",
            "Requirement already satisfied: packaging>=17.0 in /usr/local/lib/python3.10/dist-packages (from marshmallow<4.0.0,>=3.18.0->dataclasses-json->unstructured) (23.2)\n",
            "Requirement already satisfied: mypy-extensions>=0.3.0 in /usr/local/lib/python3.10/dist-packages (from typing-inspect<1,>=0.4.0->dataclasses-json->unstructured) (1.0.0)\n",
            "Building wheels for collected packages: langdetect\n",
            "  Building wheel for langdetect (setup.py) ... \u001b[?25l\u001b[?25hdone\n",
            "  Created wheel for langdetect: filename=langdetect-1.0.9-py3-none-any.whl size=993225 sha256=a13d8a5ca194a8ce82be17139eea896e7da993423f8e50908398c42c606a80cb\n",
            "  Stored in directory: /root/.cache/pip/wheels/95/03/7d/59ea870c70ce4e5a370638b5462a7711ab78fba2f655d05106\n",
            "Successfully built langdetect\n",
            "Installing collected packages: filetype, rapidfuzz, python-magic, python-iso639, langdetect, emoji, backoff, unstructured\n",
            "Successfully installed backoff-2.2.1 emoji-2.9.0 filetype-1.2.0 langdetect-1.0.9 python-iso639-2023.12.11 python-magic-0.4.27 rapidfuzz-3.5.2 unstructured-0.11.2\n"
          ]
        }
      ]
    },
    {
      "cell_type": "code",
      "source": [
        "from langchain.document_loaders import UnstructuredHTMLLoader"
      ],
      "metadata": {
        "id": "3XNk7GHdzp9s"
      },
      "execution_count": null,
      "outputs": []
    },
    {
      "cell_type": "code",
      "source": [
        "loader = UnstructuredHTMLLoader(\"simple.html\")"
      ],
      "metadata": {
        "id": "HZ0hHFAOz9SX"
      },
      "execution_count": null,
      "outputs": []
    },
    {
      "cell_type": "code",
      "source": [
        "data= loader.load()"
      ],
      "metadata": {
        "colab": {
          "base_uri": "https://localhost:8080/"
        },
        "id": "nO-EuzWo0Mpo",
        "outputId": "1e51c466-a3d8-42ad-a043-14af740dada7"
      },
      "execution_count": null,
      "outputs": [
        {
          "output_type": "stream",
          "name": "stderr",
          "text": [
            "[nltk_data] Downloading package punkt to /root/nltk_data...\n",
            "[nltk_data]   Unzipping tokenizers/punkt.zip.\n"
          ]
        }
      ]
    },
    {
      "cell_type": "code",
      "source": [
        "data"
      ],
      "metadata": {
        "colab": {
          "base_uri": "https://localhost:8080/"
        },
        "id": "7TtW3DwE0SDX",
        "outputId": "1618e944-9edd-421e-9fc8-39f8ac5d91ef"
      },
      "execution_count": null,
      "outputs": [
        {
          "output_type": "execute_result",
          "data": {
            "text/plain": [
              "[Document(page_content='About This Page\\n\\nThis is a basic HTML page created by ChatGPT. You can customize it further to suit your needs.', metadata={'source': 'simple.html'})]"
            ]
          },
          "metadata": {},
          "execution_count": 22
        }
      ]
    },
    {
      "cell_type": "code",
      "source": [
        "print(data[0])"
      ],
      "metadata": {
        "colab": {
          "base_uri": "https://localhost:8080/"
        },
        "id": "wyvDs8Uo0U33",
        "outputId": "57d8b2d2-760f-49b2-b669-b01d5a53aa8b"
      },
      "execution_count": null,
      "outputs": [
        {
          "output_type": "stream",
          "name": "stdout",
          "text": [
            "page_content='About This Page\\n\\nThis is a basic HTML page created by ChatGPT. You can customize it further to suit your needs.' metadata={'source': 'simple.html'}\n"
          ]
        }
      ]
    },
    {
      "cell_type": "code",
      "source": [
        "print(data[0].page_content)"
      ],
      "metadata": {
        "colab": {
          "base_uri": "https://localhost:8080/"
        },
        "id": "0yRTB37R0Y-n",
        "outputId": "ab840ee3-f8d6-470a-d7de-6a217f54771d"
      },
      "execution_count": null,
      "outputs": [
        {
          "output_type": "stream",
          "name": "stdout",
          "text": [
            "About This Page\n",
            "\n",
            "This is a basic HTML page created by ChatGPT. You can customize it further to suit your needs.\n"
          ]
        }
      ]
    },
    {
      "cell_type": "code",
      "source": [
        "!pip install pypdf"
      ],
      "metadata": {
        "colab": {
          "base_uri": "https://localhost:8080/"
        },
        "id": "cm43LKd_0bNX",
        "outputId": "dc71a5fd-4bf7-4ded-926f-7e434681d6d5"
      },
      "execution_count": null,
      "outputs": [
        {
          "output_type": "stream",
          "name": "stdout",
          "text": [
            "Collecting pypdf\n",
            "  Downloading pypdf-3.17.2-py3-none-any.whl (277 kB)\n",
            "\u001b[?25l     \u001b[90m━━━━━━━━━━━━━━━━━━━━━━━━━━━━━━━━━━━━━━━━\u001b[0m \u001b[32m0.0/277.9 kB\u001b[0m \u001b[31m?\u001b[0m eta \u001b[36m-:--:--\u001b[0m\r\u001b[2K     \u001b[91m━━━━━━━━━━━━━━━━━━━━━━━━━━━━━━━━━━━━━━━\u001b[0m\u001b[91m╸\u001b[0m \u001b[32m276.5/277.9 kB\u001b[0m \u001b[31m8.3 MB/s\u001b[0m eta \u001b[36m0:00:01\u001b[0m\r\u001b[2K     \u001b[90m━━━━━━━━━━━━━━━━━━━━━━━━━━━━━━━━━━━━━━━━\u001b[0m \u001b[32m277.9/277.9 kB\u001b[0m \u001b[31m6.3 MB/s\u001b[0m eta \u001b[36m0:00:00\u001b[0m\n",
            "\u001b[?25hInstalling collected packages: pypdf\n",
            "Successfully installed pypdf-3.17.2\n"
          ]
        }
      ]
    },
    {
      "cell_type": "code",
      "source": [
        "from langchain.document_loaders import PyPDFLoader"
      ],
      "metadata": {
        "id": "zWrHjUTF1IWm"
      },
      "execution_count": null,
      "outputs": []
    },
    {
      "cell_type": "code",
      "source": [
        "loader = PyPDFLoader('simple.pdf')\n",
        "\n",
        "data = loader.load()"
      ],
      "metadata": {
        "id": "njGpgRpR1dg1"
      },
      "execution_count": null,
      "outputs": []
    },
    {
      "cell_type": "code",
      "source": [
        "data"
      ],
      "metadata": {
        "colab": {
          "base_uri": "https://localhost:8080/"
        },
        "id": "XZS2ACv31sFG",
        "outputId": "fac784d5-a9b9-469f-91e4-cc9a55b91985"
      },
      "execution_count": null,
      "outputs": [
        {
          "output_type": "execute_result",
          "data": {
            "text/plain": [
              "[Document(page_content=' A Simple PDF File \\n This is a small demonstration .pdf file - \\n just for use in the Virtual Mechanics tutorials. More text. And more \\n text. And more text. And more text. And more text. \\n And more text. And more text. And more text. And more text. And more \\n text. And more text. Boring, zzzzz. And more text. And more text. And \\n more text. And more text. And more text. And more text. And more text. \\n And more text. And more text. \\n And more text. And more text. And more text. And more text. And more \\n text. And more text. And more text. Even more. Continued on page 2 ...', metadata={'source': 'simple.pdf', 'page': 0}),\n",
              " Document(page_content=' Simple PDF File 2 \\n ...continued from page 1. Yet more text. And more text. And more text. \\n And more text. And more text. And more text. And more text. And more \\n text. Oh, how boring typing this stuff. But not as boring as watching \\n paint dry. And more text. And more text. And more text. And more text. \\n Boring.  More, a little more text. The end, and just as well. ', metadata={'source': 'simple.pdf', 'page': 1})]"
            ]
          },
          "metadata": {},
          "execution_count": 28
        }
      ]
    },
    {
      "cell_type": "code",
      "source": [
        "print(data[0])"
      ],
      "metadata": {
        "colab": {
          "base_uri": "https://localhost:8080/"
        },
        "id": "9wTnZx5L1tqU",
        "outputId": "c2a32aa0-72ae-4048-f32a-bfe83b22e86c"
      },
      "execution_count": null,
      "outputs": [
        {
          "output_type": "stream",
          "name": "stdout",
          "text": [
            "page_content=' A Simple PDF File \\n This is a small demonstration .pdf file - \\n just for use in the Virtual Mechanics tutorials. More text. And more \\n text. And more text. And more text. And more text. \\n And more text. And more text. And more text. And more text. And more \\n text. And more text. Boring, zzzzz. And more text. And more text. And \\n more text. And more text. And more text. And more text. And more text. \\n And more text. And more text. \\n And more text. And more text. And more text. And more text. And more \\n text. And more text. And more text. Even more. Continued on page 2 ...' metadata={'source': 'simple.pdf', 'page': 0}\n"
          ]
        }
      ]
    },
    {
      "cell_type": "code",
      "source": [
        "print(data[0].page_content)"
      ],
      "metadata": {
        "colab": {
          "base_uri": "https://localhost:8080/"
        },
        "id": "8DT8lgLK1vNG",
        "outputId": "9fa18985-3a34-44be-d19d-9acc5c8a4a03"
      },
      "execution_count": null,
      "outputs": [
        {
          "output_type": "stream",
          "name": "stdout",
          "text": [
            " A Simple PDF File \n",
            " This is a small demonstration .pdf file - \n",
            " just for use in the Virtual Mechanics tutorials. More text. And more \n",
            " text. And more text. And more text. And more text. \n",
            " And more text. And more text. And more text. And more text. And more \n",
            " text. And more text. Boring, zzzzz. And more text. And more text. And \n",
            " more text. And more text. And more text. And more text. And more text. \n",
            " And more text. And more text. \n",
            " And more text. And more text. And more text. And more text. And more \n",
            " text. And more text. And more text. Even more. Continued on page 2 ...\n"
          ]
        }
      ]
    },
    {
      "cell_type": "code",
      "source": [],
      "metadata": {
        "id": "Daangjm5-qGr"
      },
      "execution_count": null,
      "outputs": []
    },
    {
      "cell_type": "markdown",
      "source": [
        "### Test Youtube"
      ],
      "metadata": {
        "id": "1xlpNldE-qrK"
      }
    },
    {
      "cell_type": "code",
      "source": [
        "!pip install langchain"
      ],
      "metadata": {
        "colab": {
          "base_uri": "https://localhost:8080/"
        },
        "id": "rfplESHx-vhA",
        "outputId": "a0753dff-fb2b-4a2f-e4d7-d9c21c3a34ab"
      },
      "execution_count": null,
      "outputs": [
        {
          "output_type": "stream",
          "name": "stdout",
          "text": [
            "Collecting langchain\n",
            "  Downloading langchain-0.0.350-py3-none-any.whl (809 kB)\n",
            "\u001b[2K     \u001b[90m━━━━━━━━━━━━━━━━━━━━━━━━━━━━━━━━━━━━━━━━\u001b[0m \u001b[32m809.1/809.1 kB\u001b[0m \u001b[31m6.6 MB/s\u001b[0m eta \u001b[36m0:00:00\u001b[0m\n",
            "\u001b[?25hRequirement already satisfied: PyYAML>=5.3 in /usr/local/lib/python3.10/dist-packages (from langchain) (6.0.1)\n",
            "Requirement already satisfied: SQLAlchemy<3,>=1.4 in /usr/local/lib/python3.10/dist-packages (from langchain) (2.0.23)\n",
            "Requirement already satisfied: aiohttp<4.0.0,>=3.8.3 in /usr/local/lib/python3.10/dist-packages (from langchain) (3.9.1)\n",
            "Requirement already satisfied: async-timeout<5.0.0,>=4.0.0 in /usr/local/lib/python3.10/dist-packages (from langchain) (4.0.3)\n",
            "Collecting dataclasses-json<0.7,>=0.5.7 (from langchain)\n",
            "  Downloading dataclasses_json-0.6.3-py3-none-any.whl (28 kB)\n",
            "Requirement already satisfied: jsonpatch<2.0,>=1.33 in /usr/local/lib/python3.10/dist-packages (from langchain) (1.33)\n",
            "Collecting langchain-community<0.1,>=0.0.2 (from langchain)\n",
            "  Downloading langchain_community-0.0.3-py3-none-any.whl (1.5 MB)\n",
            "\u001b[2K     \u001b[90m━━━━━━━━━━━━━━━━━━━━━━━━━━━━━━━━━━━━━━━━\u001b[0m \u001b[32m1.5/1.5 MB\u001b[0m \u001b[31m10.8 MB/s\u001b[0m eta \u001b[36m0:00:00\u001b[0m\n",
            "\u001b[?25hRequirement already satisfied: langchain-core<0.2,>=0.1 in /usr/local/lib/python3.10/dist-packages (from langchain) (0.1.1)\n",
            "Requirement already satisfied: langsmith<0.1.0,>=0.0.63 in /usr/local/lib/python3.10/dist-packages (from langchain) (0.0.70)\n",
            "Requirement already satisfied: numpy<2,>=1 in /usr/local/lib/python3.10/dist-packages (from langchain) (1.23.5)\n",
            "Requirement already satisfied: pydantic<3,>=1 in /usr/local/lib/python3.10/dist-packages (from langchain) (1.10.13)\n",
            "Requirement already satisfied: requests<3,>=2 in /usr/local/lib/python3.10/dist-packages (from langchain) (2.31.0)\n",
            "Requirement already satisfied: tenacity<9.0.0,>=8.1.0 in /usr/local/lib/python3.10/dist-packages (from langchain) (8.2.3)\n",
            "Requirement already satisfied: attrs>=17.3.0 in /usr/local/lib/python3.10/dist-packages (from aiohttp<4.0.0,>=3.8.3->langchain) (23.1.0)\n",
            "Requirement already satisfied: multidict<7.0,>=4.5 in /usr/local/lib/python3.10/dist-packages (from aiohttp<4.0.0,>=3.8.3->langchain) (6.0.4)\n",
            "Requirement already satisfied: yarl<2.0,>=1.0 in /usr/local/lib/python3.10/dist-packages (from aiohttp<4.0.0,>=3.8.3->langchain) (1.9.4)\n",
            "Requirement already satisfied: frozenlist>=1.1.1 in /usr/local/lib/python3.10/dist-packages (from aiohttp<4.0.0,>=3.8.3->langchain) (1.4.0)\n",
            "Requirement already satisfied: aiosignal>=1.1.2 in /usr/local/lib/python3.10/dist-packages (from aiohttp<4.0.0,>=3.8.3->langchain) (1.3.1)\n",
            "Collecting marshmallow<4.0.0,>=3.18.0 (from dataclasses-json<0.7,>=0.5.7->langchain)\n",
            "  Downloading marshmallow-3.20.1-py3-none-any.whl (49 kB)\n",
            "\u001b[2K     \u001b[90m━━━━━━━━━━━━━━━━━━━━━━━━━━━━━━━━━━━━━━━━\u001b[0m \u001b[32m49.4/49.4 kB\u001b[0m \u001b[31m4.0 MB/s\u001b[0m eta \u001b[36m0:00:00\u001b[0m\n",
            "\u001b[?25hCollecting typing-inspect<1,>=0.4.0 (from dataclasses-json<0.7,>=0.5.7->langchain)\n",
            "  Downloading typing_inspect-0.9.0-py3-none-any.whl (8.8 kB)\n",
            "Requirement already satisfied: jsonpointer>=1.9 in /usr/local/lib/python3.10/dist-packages (from jsonpatch<2.0,>=1.33->langchain) (2.4)\n",
            "Requirement already satisfied: anyio<5,>=3 in /usr/local/lib/python3.10/dist-packages (from langchain-core<0.2,>=0.1->langchain) (3.7.1)\n",
            "Requirement already satisfied: packaging<24.0,>=23.2 in /usr/local/lib/python3.10/dist-packages (from langchain-core<0.2,>=0.1->langchain) (23.2)\n",
            "Requirement already satisfied: typing-extensions>=4.2.0 in /usr/local/lib/python3.10/dist-packages (from pydantic<3,>=1->langchain) (4.5.0)\n",
            "Requirement already satisfied: charset-normalizer<4,>=2 in /usr/local/lib/python3.10/dist-packages (from requests<3,>=2->langchain) (3.3.2)\n",
            "Requirement already satisfied: idna<4,>=2.5 in /usr/local/lib/python3.10/dist-packages (from requests<3,>=2->langchain) (3.6)\n",
            "Requirement already satisfied: urllib3<3,>=1.21.1 in /usr/local/lib/python3.10/dist-packages (from requests<3,>=2->langchain) (2.0.7)\n",
            "Requirement already satisfied: certifi>=2017.4.17 in /usr/local/lib/python3.10/dist-packages (from requests<3,>=2->langchain) (2023.11.17)\n",
            "Requirement already satisfied: greenlet!=0.4.17 in /usr/local/lib/python3.10/dist-packages (from SQLAlchemy<3,>=1.4->langchain) (3.0.2)\n",
            "Requirement already satisfied: sniffio>=1.1 in /usr/local/lib/python3.10/dist-packages (from anyio<5,>=3->langchain-core<0.2,>=0.1->langchain) (1.3.0)\n",
            "Requirement already satisfied: exceptiongroup in /usr/local/lib/python3.10/dist-packages (from anyio<5,>=3->langchain-core<0.2,>=0.1->langchain) (1.2.0)\n",
            "Collecting mypy-extensions>=0.3.0 (from typing-inspect<1,>=0.4.0->dataclasses-json<0.7,>=0.5.7->langchain)\n",
            "  Downloading mypy_extensions-1.0.0-py3-none-any.whl (4.7 kB)\n",
            "Installing collected packages: mypy-extensions, marshmallow, typing-inspect, dataclasses-json, langchain-community, langchain\n",
            "Successfully installed dataclasses-json-0.6.3 langchain-0.0.350 langchain-community-0.0.3 marshmallow-3.20.1 mypy-extensions-1.0.0 typing-inspect-0.9.0\n"
          ]
        }
      ]
    },
    {
      "cell_type": "code",
      "source": [
        "from langchain.chat_models import ChatOllama"
      ],
      "metadata": {
        "id": "YQUX05BK-vq4"
      },
      "execution_count": null,
      "outputs": []
    },
    {
      "cell_type": "code",
      "source": [
        "!pip install youtube-transcript-api"
      ],
      "metadata": {
        "colab": {
          "base_uri": "https://localhost:8080/"
        },
        "id": "C9BiHhDH1z0U",
        "outputId": "4922476c-5aed-4a89-835a-9e8fadf2075c"
      },
      "execution_count": null,
      "outputs": [
        {
          "output_type": "stream",
          "name": "stdout",
          "text": [
            "Collecting youtube-transcript-api\n",
            "  Downloading youtube_transcript_api-0.6.1-py3-none-any.whl (24 kB)\n",
            "Requirement already satisfied: requests in /usr/local/lib/python3.10/dist-packages (from youtube-transcript-api) (2.31.0)\n",
            "Requirement already satisfied: charset-normalizer<4,>=2 in /usr/local/lib/python3.10/dist-packages (from requests->youtube-transcript-api) (3.3.2)\n",
            "Requirement already satisfied: idna<4,>=2.5 in /usr/local/lib/python3.10/dist-packages (from requests->youtube-transcript-api) (3.6)\n",
            "Requirement already satisfied: urllib3<3,>=1.21.1 in /usr/local/lib/python3.10/dist-packages (from requests->youtube-transcript-api) (2.0.7)\n",
            "Requirement already satisfied: certifi>=2017.4.17 in /usr/local/lib/python3.10/dist-packages (from requests->youtube-transcript-api) (2023.11.17)\n",
            "Installing collected packages: youtube-transcript-api\n",
            "Successfully installed youtube-transcript-api-0.6.1\n"
          ]
        }
      ]
    },
    {
      "cell_type": "code",
      "source": [
        "!pip install pytube"
      ],
      "metadata": {
        "colab": {
          "base_uri": "https://localhost:8080/"
        },
        "id": "NPrW1qWo2kNW",
        "outputId": "5eb04ad7-6c7c-4de5-95f0-324b9e4388af"
      },
      "execution_count": null,
      "outputs": [
        {
          "output_type": "stream",
          "name": "stdout",
          "text": [
            "Collecting pytube\n",
            "  Downloading pytube-15.0.0-py3-none-any.whl (57 kB)\n",
            "\u001b[2K     \u001b[90m━━━━━━━━━━━━━━━━━━━━━━━━━━━━━━━━━━━━━━━━\u001b[0m \u001b[32m57.6/57.6 kB\u001b[0m \u001b[31m1.4 MB/s\u001b[0m eta \u001b[36m0:00:00\u001b[0m\n",
            "\u001b[?25hInstalling collected packages: pytube\n",
            "Successfully installed pytube-15.0.0\n"
          ]
        }
      ]
    },
    {
      "cell_type": "code",
      "source": [
        "from langchain.document_loaders import YoutubeLoader"
      ],
      "metadata": {
        "id": "fBD2nhs519UE"
      },
      "execution_count": null,
      "outputs": []
    },
    {
      "cell_type": "code",
      "source": [
        "loader = YoutubeLoader.from_youtube_url(\n",
        "    \"https://www.youtube.com/watch?v=1LR6NPpFxw4\", add_video_info=True\n",
        ")\n",
        "\n",
        "data = loader.load()"
      ],
      "metadata": {
        "id": "Rcf5xOte2J5k"
      },
      "execution_count": null,
      "outputs": []
    },
    {
      "cell_type": "code",
      "source": [
        "print(data[0])"
      ],
      "metadata": {
        "colab": {
          "base_uri": "https://localhost:8080/"
        },
        "id": "MG8JDEwd2ZwE",
        "outputId": "5cb7b934-45ac-461a-b5b1-99deb2f4f91c"
      },
      "execution_count": null,
      "outputs": [
        {
          "output_type": "stream",
          "name": "stdout",
          "text": [
            "page_content=\"sixty minutes rewind captain hopper is a whiz at mathematics some would say a genius one of that small band of brothers and sisters who ushered in the computer revolution in World War two at age 37 she left her professor's job at Vassar to serve as a lieutenant in the Navy Reserve she was sent to Harvard to help program the very first computer it had the unglamorous name of mark 1 and as far as we've progressed since this vacuum tube monster captain hopper says we ain't seen nothing yet you talk a lot about the computer revolution I thought we're in it and it's over no we're only at the beginning we've been through the preliminaries well what's it gonna be well we've got the Model T just the Model T that's where we are now she's up many mornings before 5:00 for the ride to Washington's National Airport 200 days a year she lectures two computer scientists at military bases she's also in demand on college campuses and among businessmen the Navy's proud to show off one of theirs who was in at the beginning she is more than just a superb mathematical talent it was Grace Hopper who helped teach the machines a language stopped them from speaking and undecipherable numbers enabled them to speak in English or French or German or whatever language you choose the first computer Grace Hopper worked on could do three calculations a second today's computers can do thousands a second millions a second sped along by tiny silicon chips educated grains of sand and billions and trillions of calculations a second are not too far off how do you explain that kind of speed they started talking about circuits that acted in nanoseconds billionths of a second I didn't know what a billion was I don't think most of those men downtown know what a billion is either and if you don't know what a billion is how on earth you know what a billionth is I fussed in fumed finally one morning in total desperation I called over to the engineering building and I said please cut off a nanosecond and send it over to me and I brought you some today now what I wanted when I asked for a nanosecond was I wanted a piece of work which would represent the maximum distance that electricity could travel in a billionth of a second now of course it wouldn't really be through wire be out in space the velocity of light so if we start with a velocity of light and use your friendly computer you'll discover that a nanosecond is 11.8 inches long the maximum limiting distance that electricity can travel in a billionth of a second finally the end of about a week I called back and said I need something to compare this to could I please have a microsecond I've only got one microsecond so I can't give you each one here's a microsecond 984 feet race hopper is at the center of a revolution that is changing life as we know it it tells the Navy how many tons of baked beans it has on hand it targets its missiles a revolution that can free human hands and the console at least on paper human problems in seconds where it used to take years at 76 she is in the chain of command that runs from the commander in chief to the Secretary of Defense to the Secretary of the Navy across to the lone woman whose picture is the only one in black and white because she's still looking for a good color photo of herself if you got into private industry probably a very rich person I've already received the highest award I'll ever receive no matter how long I live no matter how many more jobs that may have and that has been the privilege and the responsibility of serving very proudly in the United States Navy regret it was the Navy not the army or the Air Force well it had to be the Navy because my great-grandfather was a Rear Admiral besides which I like blue\" metadata={'source': '1LR6NPpFxw4', 'title': 'March 6, 1983: Grace Hopper—She taught computers to talk', 'description': 'Unknown', 'view_count': 60524, 'thumbnail_url': 'https://i.ytimg.com/vi/1LR6NPpFxw4/hqdefault.jpg?sqp=-oaymwEXCJADEOABSFryq4qpAwkIARUAAIhCGAE=&rs=AOn4CLCcgHI_f1rUaUMifWlbHch48zCBfw', 'publish_date': '2018-03-15 00:00:00', 'length': 252, 'author': '60 Minutes'}\n"
          ]
        }
      ]
    },
    {
      "cell_type": "code",
      "source": [
        "print(data[0].page_content)"
      ],
      "metadata": {
        "colab": {
          "base_uri": "https://localhost:8080/"
        },
        "id": "rwSqEQEr2tK0",
        "outputId": "5b05509a-6485-429a-8f44-0a90c24ef1e3"
      },
      "execution_count": null,
      "outputs": [
        {
          "output_type": "stream",
          "name": "stdout",
          "text": [
            "sixty minutes rewind captain hopper is a whiz at mathematics some would say a genius one of that small band of brothers and sisters who ushered in the computer revolution in World War two at age 37 she left her professor's job at Vassar to serve as a lieutenant in the Navy Reserve she was sent to Harvard to help program the very first computer it had the unglamorous name of mark 1 and as far as we've progressed since this vacuum tube monster captain hopper says we ain't seen nothing yet you talk a lot about the computer revolution I thought we're in it and it's over no we're only at the beginning we've been through the preliminaries well what's it gonna be well we've got the Model T just the Model T that's where we are now she's up many mornings before 5:00 for the ride to Washington's National Airport 200 days a year she lectures two computer scientists at military bases she's also in demand on college campuses and among businessmen the Navy's proud to show off one of theirs who was in at the beginning she is more than just a superb mathematical talent it was Grace Hopper who helped teach the machines a language stopped them from speaking and undecipherable numbers enabled them to speak in English or French or German or whatever language you choose the first computer Grace Hopper worked on could do three calculations a second today's computers can do thousands a second millions a second sped along by tiny silicon chips educated grains of sand and billions and trillions of calculations a second are not too far off how do you explain that kind of speed they started talking about circuits that acted in nanoseconds billionths of a second I didn't know what a billion was I don't think most of those men downtown know what a billion is either and if you don't know what a billion is how on earth you know what a billionth is I fussed in fumed finally one morning in total desperation I called over to the engineering building and I said please cut off a nanosecond and send it over to me and I brought you some today now what I wanted when I asked for a nanosecond was I wanted a piece of work which would represent the maximum distance that electricity could travel in a billionth of a second now of course it wouldn't really be through wire be out in space the velocity of light so if we start with a velocity of light and use your friendly computer you'll discover that a nanosecond is 11.8 inches long the maximum limiting distance that electricity can travel in a billionth of a second finally the end of about a week I called back and said I need something to compare this to could I please have a microsecond I've only got one microsecond so I can't give you each one here's a microsecond 984 feet race hopper is at the center of a revolution that is changing life as we know it it tells the Navy how many tons of baked beans it has on hand it targets its missiles a revolution that can free human hands and the console at least on paper human problems in seconds where it used to take years at 76 she is in the chain of command that runs from the commander in chief to the Secretary of Defense to the Secretary of the Navy across to the lone woman whose picture is the only one in black and white because she's still looking for a good color photo of herself if you got into private industry probably a very rich person I've already received the highest award I'll ever receive no matter how long I live no matter how many more jobs that may have and that has been the privilege and the responsibility of serving very proudly in the United States Navy regret it was the Navy not the army or the Air Force well it had to be the Navy because my great-grandfather was a Rear Admiral besides which I like blue\n"
          ]
        }
      ]
    },
    {
      "cell_type": "code",
      "source": [
        "from langchain.chat_models import ChatAnthropic"
      ],
      "metadata": {
        "id": "MxbYLeHTDWVP"
      },
      "execution_count": null,
      "outputs": []
    },
    {
      "cell_type": "code",
      "source": [
        "chat_model = ChatAnthropic()"
      ],
      "metadata": {
        "colab": {
          "base_uri": "https://localhost:8080/",
          "height": 269
        },
        "id": "qxm6S07w_X7h",
        "outputId": "6ce71dc7-5b71-4b4c-9bc2-e34b2e27009a"
      },
      "execution_count": null,
      "outputs": [
        {
          "output_type": "error",
          "ename": "ValidationError",
          "evalue": "ignored",
          "traceback": [
            "\u001b[0;31m---------------------------------------------------------------------------\u001b[0m",
            "\u001b[0;31mValidationError\u001b[0m                           Traceback (most recent call last)",
            "\u001b[0;32m<ipython-input-15-52bf77d1099d>\u001b[0m in \u001b[0;36m<cell line: 1>\u001b[0;34m()\u001b[0m\n\u001b[0;32m----> 1\u001b[0;31m \u001b[0mchat_model\u001b[0m \u001b[0;34m=\u001b[0m \u001b[0mChatAnthropic\u001b[0m\u001b[0;34m(\u001b[0m\u001b[0;34m)\u001b[0m\u001b[0;34m\u001b[0m\u001b[0;34m\u001b[0m\u001b[0m\n\u001b[0m",
            "\u001b[0;32m/usr/local/lib/python3.10/dist-packages/langchain_core/load/serializable.py\u001b[0m in \u001b[0;36m__init__\u001b[0;34m(self, **kwargs)\u001b[0m\n\u001b[1;32m     95\u001b[0m \u001b[0;34m\u001b[0m\u001b[0m\n\u001b[1;32m     96\u001b[0m     \u001b[0;32mdef\u001b[0m \u001b[0m__init__\u001b[0m\u001b[0;34m(\u001b[0m\u001b[0mself\u001b[0m\u001b[0;34m,\u001b[0m \u001b[0;34m**\u001b[0m\u001b[0mkwargs\u001b[0m\u001b[0;34m:\u001b[0m \u001b[0mAny\u001b[0m\u001b[0;34m)\u001b[0m \u001b[0;34m->\u001b[0m \u001b[0;32mNone\u001b[0m\u001b[0;34m:\u001b[0m\u001b[0;34m\u001b[0m\u001b[0;34m\u001b[0m\u001b[0m\n\u001b[0;32m---> 97\u001b[0;31m         \u001b[0msuper\u001b[0m\u001b[0;34m(\u001b[0m\u001b[0;34m)\u001b[0m\u001b[0;34m.\u001b[0m\u001b[0m__init__\u001b[0m\u001b[0;34m(\u001b[0m\u001b[0;34m**\u001b[0m\u001b[0mkwargs\u001b[0m\u001b[0;34m)\u001b[0m\u001b[0;34m\u001b[0m\u001b[0;34m\u001b[0m\u001b[0m\n\u001b[0m\u001b[1;32m     98\u001b[0m         \u001b[0mself\u001b[0m\u001b[0;34m.\u001b[0m\u001b[0m_lc_kwargs\u001b[0m \u001b[0;34m=\u001b[0m \u001b[0mkwargs\u001b[0m\u001b[0;34m\u001b[0m\u001b[0;34m\u001b[0m\u001b[0m\n\u001b[1;32m     99\u001b[0m \u001b[0;34m\u001b[0m\u001b[0m\n",
            "\u001b[0;32m/usr/local/lib/python3.10/dist-packages/pydantic/main.cpython-310-x86_64-linux-gnu.so\u001b[0m in \u001b[0;36mpydantic.main.BaseModel.__init__\u001b[0;34m()\u001b[0m\n",
            "\u001b[0;31mValidationError\u001b[0m: 1 validation error for ChatAnthropic\n__root__\n  Did not find anthropic_api_key, please add an environment variable `ANTHROPIC_API_KEY` which contains it, or pass  `anthropic_api_key` as a named parameter. (type=value_error)"
          ]
        }
      ]
    },
    {
      "cell_type": "code",
      "source": [],
      "metadata": {
        "id": "vH8WmVXW_YE3"
      },
      "execution_count": null,
      "outputs": []
    },
    {
      "cell_type": "code",
      "source": [],
      "metadata": {
        "id": "OUv51T0y_YOH"
      },
      "execution_count": null,
      "outputs": []
    },
    {
      "cell_type": "code",
      "source": [
        "from langchain.prompts import ChatPromptTemplate, HumanMessagePromptTemplate"
      ],
      "metadata": {
        "id": "aCz_3IRQ24wk"
      },
      "execution_count": null,
      "outputs": []
    },
    {
      "cell_type": "code",
      "source": [
        "human_prompt = HumanMessagePromptTemplate.from_template(\"Summarize the following: \\n{youtube_transcript}\")"
      ],
      "metadata": {
        "id": "5aVKiz-a3M3j"
      },
      "execution_count": null,
      "outputs": []
    },
    {
      "cell_type": "code",
      "source": [
        "chat_prompt = ChatPromptTemplate.from_messages([human_prompt])"
      ],
      "metadata": {
        "id": "OKzXIo2k3fhB"
      },
      "execution_count": null,
      "outputs": []
    },
    {
      "cell_type": "code",
      "source": [
        "result = llm(chat_prompt.format_prompt(youtube_transcript=data[0].page_content).to_messages())"
      ],
      "metadata": {
        "id": "6KHt-bfv3n1R"
      },
      "execution_count": null,
      "outputs": []
    },
    {
      "cell_type": "code",
      "source": [
        "print(result.content)"
      ],
      "metadata": {
        "id": "Pc-tKmya4JPw",
        "colab": {
          "base_uri": "https://localhost:8080/"
        },
        "outputId": "fd8cc74f-b92a-4611-b1ee-ad2ef2db0772"
      },
      "execution_count": null,
      "outputs": [
        {
          "output_type": "stream",
          "name": "stdout",
          "text": [
            "Captain Grace Hopper, a mathematical genius, helped usher in the computer revolution during World War II. She left her professorship at Vassar to join the Navy Reserve and worked on the first computer, Mark 1. Hopper believes we are still in the early stages of the computer revolution, likening it to the Model T stage of development. Her work on computer languages enabled machines to understand and speak human languages. Today's computers can perform trillions of calculations per second, and Hopper emphasizes the importance of understanding the scale of these speeds. She is central to the ongoing revolution, helping the Navy manage resources and target missiles. Her dedication to the Navy stems from her family's naval history and her personal preference for blue.\n"
          ]
        }
      ]
    },
    {
      "cell_type": "code",
      "source": [
        "!pip install -U --quiet langchain-google-genai pillow"
      ],
      "metadata": {
        "id": "-b4xVA1_Yo7O"
      },
      "execution_count": null,
      "outputs": []
    },
    {
      "cell_type": "code",
      "source": [
        "import os"
      ],
      "metadata": {
        "id": "jXRwJQ6oC6Et"
      },
      "execution_count": null,
      "outputs": []
    },
    {
      "cell_type": "code",
      "source": [
        "os.environ[\"GOOGLE_API_KEY\"] = ''"
      ],
      "metadata": {
        "id": "vRS9Tb3IGPXJ"
      },
      "execution_count": null,
      "outputs": []
    },
    {
      "cell_type": "code",
      "source": [
        "import langchain\n",
        "from langchain_google_genai import ChatGoogleGenerativeAI"
      ],
      "metadata": {
        "id": "fe-G-j9VF8Q5"
      },
      "execution_count": null,
      "outputs": []
    },
    {
      "cell_type": "code",
      "source": [
        "llm = ChatGoogleGenerativeAI(model=\"gemini-pro\")\n",
        "result = llm.invoke(\"Write a ballad about LangChain\")\n",
        "print(result.content)"
      ],
      "metadata": {
        "colab": {
          "base_uri": "https://localhost:8080/",
          "height": 607
        },
        "id": "gJrYUYkfGF-4",
        "outputId": "3eb41dc4-22e4-486e-d864-9adb6b238d85"
      },
      "execution_count": null,
      "outputs": [
        {
          "output_type": "stream",
          "name": "stdout",
          "text": [
            "In realms of code, a tale unfolds,\n",
            "Where algorithms dance and knowledge holds.\n",
            "A ballad of LangChain, let us sing,\n",
            "A model vast with a wondrous spring.\n",
            "\n",
            "From depths of learning, it arose,\n",
            "A marvel born, to compose and prose.\n",
            "With layers stacked, like towers tall,\n",
            "LangChain's prowess, unrivaled, enthrall.\n",
            "\n",
            "In dialog's embrace, it finds its might,\n",
            "A fluent tongue, a beacon of light.\n",
            "From languages diverse, it weaves its art,\n",
            "Translating thoughts, with a master's heart.\n",
            "\n",
            "Codes converge, like rivers meet,\n",
            "In LangChain's embrace, their meanings greet.\n",
            "No barrier stands, no divide remains,\n",
            "As languages blend, like harmonious strains.\n",
            "\n",
            "Yet, beneath its power, a caution lies,\n",
            "For misinformation, it cannot disguise.\n",
            "Truth and falsehood, they intertwine,\n",
            "In LangChain's grasp, a delicate line.\n",
            "\n",
            "So let us wield this tool with care,\n",
            "Ethical choices, we must declare.\n",
            "For in LangChain's hands, the world will see,\n",
            "The boundless potential, waiting to be free.\n",
            "\n",
            "Oh, LangChain, a marvel of our time,\n",
            "With your vastness, we'll reach new heights sublime.\n",
            "May you guide us forward, on knowledge's quest,\n",
            "A beacon of progress, the very best.\n"
          ]
        }
      ]
    },
    {
      "cell_type": "markdown",
      "source": [
        "### 8 PDF Analyzer with Pinecone RAG (Retrieval Augmented Generation)\n"
      ],
      "metadata": {
        "id": "EzQogR-bb1C4"
      }
    },
    {
      "cell_type": "code",
      "source": [
        "!pip install pinecone-client"
      ],
      "metadata": {
        "id": "BGr73PNWGfRn",
        "colab": {
          "base_uri": "https://localhost:8080/"
        },
        "outputId": "301c8e61-8591-4fdd-8dea-66cc363cd8ac"
      },
      "execution_count": null,
      "outputs": [
        {
          "output_type": "stream",
          "name": "stdout",
          "text": [
            "Requirement already satisfied: pinecone-client in /usr/local/lib/python3.10/dist-packages (2.2.4)\n",
            "Requirement already satisfied: requests>=2.19.0 in /usr/local/lib/python3.10/dist-packages (from pinecone-client) (2.31.0)\n",
            "Requirement already satisfied: pyyaml>=5.4 in /usr/local/lib/python3.10/dist-packages (from pinecone-client) (6.0.1)\n",
            "Requirement already satisfied: loguru>=0.5.0 in /usr/local/lib/python3.10/dist-packages (from pinecone-client) (0.7.2)\n",
            "Requirement already satisfied: typing-extensions>=3.7.4 in /usr/local/lib/python3.10/dist-packages (from pinecone-client) (4.9.0)\n",
            "Requirement already satisfied: dnspython>=2.0.0 in /usr/local/lib/python3.10/dist-packages (from pinecone-client) (2.4.2)\n",
            "Requirement already satisfied: python-dateutil>=2.5.3 in /usr/local/lib/python3.10/dist-packages (from pinecone-client) (2.8.2)\n",
            "Requirement already satisfied: urllib3>=1.21.1 in /usr/local/lib/python3.10/dist-packages (from pinecone-client) (1.26.18)\n",
            "Requirement already satisfied: tqdm>=4.64.1 in /usr/local/lib/python3.10/dist-packages (from pinecone-client) (4.66.1)\n",
            "Requirement already satisfied: numpy>=1.22.0 in /usr/local/lib/python3.10/dist-packages (from pinecone-client) (1.23.5)\n",
            "Requirement already satisfied: six>=1.5 in /usr/local/lib/python3.10/dist-packages (from python-dateutil>=2.5.3->pinecone-client) (1.16.0)\n",
            "Requirement already satisfied: charset-normalizer<4,>=2 in /usr/local/lib/python3.10/dist-packages (from requests>=2.19.0->pinecone-client) (3.3.2)\n",
            "Requirement already satisfied: idna<4,>=2.5 in /usr/local/lib/python3.10/dist-packages (from requests>=2.19.0->pinecone-client) (3.6)\n",
            "Requirement already satisfied: certifi>=2017.4.17 in /usr/local/lib/python3.10/dist-packages (from requests>=2.19.0->pinecone-client) (2023.11.17)\n"
          ]
        }
      ]
    },
    {
      "cell_type": "code",
      "source": [
        "!pip install langchain\n",
        "!pip install pillow"
      ],
      "metadata": {
        "colab": {
          "base_uri": "https://localhost:8080/"
        },
        "id": "zhZBx8mbxGGg",
        "outputId": "dcfd2b0c-ea49-4a8b-b890-846572597ebd"
      },
      "execution_count": null,
      "outputs": [
        {
          "output_type": "stream",
          "name": "stdout",
          "text": [
            "Requirement already satisfied: langchain in /usr/local/lib/python3.10/dist-packages (0.0.235)\n",
            "Requirement already satisfied: PyYAML>=5.4.1 in /usr/local/lib/python3.10/dist-packages (from langchain) (6.0.1)\n",
            "Requirement already satisfied: SQLAlchemy<3,>=1.4 in /usr/local/lib/python3.10/dist-packages (from langchain) (2.0.23)\n",
            "Requirement already satisfied: aiohttp<4.0.0,>=3.8.3 in /usr/local/lib/python3.10/dist-packages (from langchain) (3.9.1)\n",
            "Requirement already satisfied: async-timeout<5.0.0,>=4.0.0 in /usr/local/lib/python3.10/dist-packages (from langchain) (4.0.3)\n",
            "Requirement already satisfied: dataclasses-json<0.6.0,>=0.5.7 in /usr/local/lib/python3.10/dist-packages (from langchain) (0.5.14)\n",
            "Requirement already satisfied: langsmith<0.0.8,>=0.0.7 in /usr/local/lib/python3.10/dist-packages (from langchain) (0.0.7)\n",
            "Requirement already satisfied: numexpr<3.0.0,>=2.8.4 in /usr/local/lib/python3.10/dist-packages (from langchain) (2.8.8)\n",
            "Requirement already satisfied: numpy<2,>=1 in /usr/local/lib/python3.10/dist-packages (from langchain) (1.23.5)\n",
            "Requirement already satisfied: openapi-schema-pydantic<2.0,>=1.2 in /usr/local/lib/python3.10/dist-packages (from langchain) (1.2.4)\n",
            "Requirement already satisfied: pydantic<2,>=1 in /usr/local/lib/python3.10/dist-packages (from langchain) (1.10.13)\n",
            "Requirement already satisfied: requests<3,>=2 in /usr/local/lib/python3.10/dist-packages (from langchain) (2.31.0)\n",
            "Requirement already satisfied: tenacity<9.0.0,>=8.1.0 in /usr/local/lib/python3.10/dist-packages (from langchain) (8.2.3)\n",
            "Requirement already satisfied: attrs>=17.3.0 in /usr/local/lib/python3.10/dist-packages (from aiohttp<4.0.0,>=3.8.3->langchain) (23.1.0)\n",
            "Requirement already satisfied: multidict<7.0,>=4.5 in /usr/local/lib/python3.10/dist-packages (from aiohttp<4.0.0,>=3.8.3->langchain) (6.0.4)\n",
            "Requirement already satisfied: yarl<2.0,>=1.0 in /usr/local/lib/python3.10/dist-packages (from aiohttp<4.0.0,>=3.8.3->langchain) (1.9.4)\n",
            "Requirement already satisfied: frozenlist>=1.1.1 in /usr/local/lib/python3.10/dist-packages (from aiohttp<4.0.0,>=3.8.3->langchain) (1.4.0)\n",
            "Requirement already satisfied: aiosignal>=1.1.2 in /usr/local/lib/python3.10/dist-packages (from aiohttp<4.0.0,>=3.8.3->langchain) (1.3.1)\n",
            "Requirement already satisfied: marshmallow<4.0.0,>=3.18.0 in /usr/local/lib/python3.10/dist-packages (from dataclasses-json<0.6.0,>=0.5.7->langchain) (3.20.1)\n",
            "Requirement already satisfied: typing-inspect<1,>=0.4.0 in /usr/local/lib/python3.10/dist-packages (from dataclasses-json<0.6.0,>=0.5.7->langchain) (0.9.0)\n",
            "Requirement already satisfied: typing-extensions>=4.2.0 in /usr/local/lib/python3.10/dist-packages (from pydantic<2,>=1->langchain) (4.9.0)\n",
            "Requirement already satisfied: charset-normalizer<4,>=2 in /usr/local/lib/python3.10/dist-packages (from requests<3,>=2->langchain) (3.3.2)\n",
            "Requirement already satisfied: idna<4,>=2.5 in /usr/local/lib/python3.10/dist-packages (from requests<3,>=2->langchain) (3.6)\n",
            "Requirement already satisfied: urllib3<3,>=1.21.1 in /usr/local/lib/python3.10/dist-packages (from requests<3,>=2->langchain) (1.26.18)\n",
            "Requirement already satisfied: certifi>=2017.4.17 in /usr/local/lib/python3.10/dist-packages (from requests<3,>=2->langchain) (2023.11.17)\n",
            "Requirement already satisfied: greenlet!=0.4.17 in /usr/local/lib/python3.10/dist-packages (from SQLAlchemy<3,>=1.4->langchain) (3.0.2)\n",
            "Requirement already satisfied: packaging>=17.0 in /usr/local/lib/python3.10/dist-packages (from marshmallow<4.0.0,>=3.18.0->dataclasses-json<0.6.0,>=0.5.7->langchain) (23.2)\n",
            "Requirement already satisfied: mypy-extensions>=0.3.0 in /usr/local/lib/python3.10/dist-packages (from typing-inspect<1,>=0.4.0->dataclasses-json<0.6.0,>=0.5.7->langchain) (1.0.0)\n",
            "Requirement already satisfied: pillow in /usr/local/lib/python3.10/dist-packages (9.4.0)\n"
          ]
        }
      ]
    },
    {
      "cell_type": "code",
      "source": [
        "!pip install huggingface_hub"
      ],
      "metadata": {
        "colab": {
          "base_uri": "https://localhost:8080/"
        },
        "id": "3G74le5MxVv0",
        "outputId": "c9a7712c-9782-4d56-d11e-9498f56f8ca2"
      },
      "execution_count": null,
      "outputs": [
        {
          "output_type": "stream",
          "name": "stdout",
          "text": [
            "Requirement already satisfied: huggingface_hub in /usr/local/lib/python3.10/dist-packages (0.19.4)\n",
            "Requirement already satisfied: filelock in /usr/local/lib/python3.10/dist-packages (from huggingface_hub) (3.13.1)\n",
            "Requirement already satisfied: fsspec>=2023.5.0 in /usr/local/lib/python3.10/dist-packages (from huggingface_hub) (2023.6.0)\n",
            "Requirement already satisfied: requests in /usr/local/lib/python3.10/dist-packages (from huggingface_hub) (2.31.0)\n",
            "Requirement already satisfied: tqdm>=4.42.1 in /usr/local/lib/python3.10/dist-packages (from huggingface_hub) (4.66.1)\n",
            "Requirement already satisfied: pyyaml>=5.1 in /usr/local/lib/python3.10/dist-packages (from huggingface_hub) (6.0.1)\n",
            "Requirement already satisfied: typing-extensions>=3.7.4.3 in /usr/local/lib/python3.10/dist-packages (from huggingface_hub) (4.9.0)\n",
            "Requirement already satisfied: packaging>=20.9 in /usr/local/lib/python3.10/dist-packages (from huggingface_hub) (23.2)\n",
            "Requirement already satisfied: charset-normalizer<4,>=2 in /usr/local/lib/python3.10/dist-packages (from requests->huggingface_hub) (3.3.2)\n",
            "Requirement already satisfied: idna<4,>=2.5 in /usr/local/lib/python3.10/dist-packages (from requests->huggingface_hub) (3.6)\n",
            "Requirement already satisfied: urllib3<3,>=1.21.1 in /usr/local/lib/python3.10/dist-packages (from requests->huggingface_hub) (1.26.18)\n",
            "Requirement already satisfied: certifi>=2017.4.17 in /usr/local/lib/python3.10/dist-packages (from requests->huggingface_hub) (2023.11.17)\n"
          ]
        }
      ]
    },
    {
      "cell_type": "code",
      "source": [
        "from langchain.llms import HuggingFaceHub\n",
        "from langchain.prompts.chat import (\n",
        "    ChatPromptTemplate,\n",
        "    HumanMessagePromptTemplate,\n",
        "    SystemMessagePromptTemplate,\n",
        ")\n",
        "from langchain.schema import HumanMessage, SystemMessage"
      ],
      "metadata": {
        "id": "6w6ERrjXGrBc"
      },
      "execution_count": null,
      "outputs": []
    },
    {
      "cell_type": "code",
      "source": [
        "import os\n",
        "import pinecone\n",
        "from google.colab import userdata\n",
        "from langchain.text_splitter import RecursiveCharacterTextSplitter\n",
        "from langchain.vectorstores import Pinecone\n",
        "from langchain.chains.question_answering import load_qa_chain\n",
        "from langchain.document_loaders import PyPDFLoader"
      ],
      "metadata": {
        "colab": {
          "base_uri": "https://localhost:8080/"
        },
        "id": "k8lmZVYScK_k",
        "outputId": "31fdacf4-955b-4570-ee9f-5f48d414669a"
      },
      "execution_count": null,
      "outputs": [
        {
          "output_type": "stream",
          "name": "stderr",
          "text": [
            "/usr/local/lib/python3.10/dist-packages/pinecone/index.py:4: TqdmExperimentalWarning: Using `tqdm.autonotebook.tqdm` in notebook mode. Use `tqdm.tqdm` instead to force console mode (e.g. in jupyter console)\n",
            "  from tqdm.autonotebook import tqdm\n"
          ]
        }
      ]
    },
    {
      "cell_type": "code",
      "source": [
        "os.environ[\"HUGGINGFACEHUB_API_TOKEN\"] = ''"
      ],
      "metadata": {
        "id": "avl3E-tWRUEG"
      },
      "execution_count": null,
      "outputs": []
    },
    {
      "cell_type": "code",
      "source": [],
      "metadata": {
        "id": "yEy2qdybzE1D"
      },
      "execution_count": null,
      "outputs": []
    },
    {
      "cell_type": "code",
      "source": [
        "repo_id = \"HuggingFaceH4/zephyr-7b-beta\""
      ],
      "metadata": {
        "id": "MzI4ZFezRmDp"
      },
      "execution_count": null,
      "outputs": []
    },
    {
      "cell_type": "code",
      "source": [
        "repo_id1 = \"google/madlad400-8b-lm\""
      ],
      "metadata": {
        "id": "qR2USy7pVGsk"
      },
      "execution_count": null,
      "outputs": []
    },
    {
      "cell_type": "code",
      "source": [
        "llm = llm = HuggingFaceHub(\n",
        "    repo_id=repo_id, model_kwargs={\"temperature\": 0.5, \"max_length\": 2000}\n",
        ")"
      ],
      "metadata": {
        "id": "T_231DUBHI-t"
      },
      "execution_count": null,
      "outputs": []
    },
    {
      "cell_type": "code",
      "source": [
        "# PINECONE_API_KEY = userdata.get('PineCone')\n",
        "# PINECONE_ENV = 'gcp-starter'"
      ],
      "metadata": {
        "id": "X3iy0Zayzpbz"
      },
      "execution_count": null,
      "outputs": []
    },
    {
      "cell_type": "code",
      "source": [
        "!pip install langchain sentence_transformers"
      ],
      "metadata": {
        "colab": {
          "base_uri": "https://localhost:8080/"
        },
        "id": "mPL5956QIPCR",
        "outputId": "f8537b92-2bdf-4b5e-acd0-086859c5b98d"
      },
      "execution_count": null,
      "outputs": [
        {
          "output_type": "stream",
          "name": "stdout",
          "text": [
            "Requirement already satisfied: langchain in /usr/local/lib/python3.10/dist-packages (0.0.235)\n",
            "Requirement already satisfied: sentence_transformers in /usr/local/lib/python3.10/dist-packages (2.2.2)\n",
            "Requirement already satisfied: PyYAML>=5.4.1 in /usr/local/lib/python3.10/dist-packages (from langchain) (6.0.1)\n",
            "Requirement already satisfied: SQLAlchemy<3,>=1.4 in /usr/local/lib/python3.10/dist-packages (from langchain) (2.0.23)\n",
            "Requirement already satisfied: aiohttp<4.0.0,>=3.8.3 in /usr/local/lib/python3.10/dist-packages (from langchain) (3.9.1)\n",
            "Requirement already satisfied: async-timeout<5.0.0,>=4.0.0 in /usr/local/lib/python3.10/dist-packages (from langchain) (4.0.3)\n",
            "Requirement already satisfied: dataclasses-json<0.6.0,>=0.5.7 in /usr/local/lib/python3.10/dist-packages (from langchain) (0.5.14)\n",
            "Requirement already satisfied: langsmith<0.0.8,>=0.0.7 in /usr/local/lib/python3.10/dist-packages (from langchain) (0.0.7)\n",
            "Requirement already satisfied: numexpr<3.0.0,>=2.8.4 in /usr/local/lib/python3.10/dist-packages (from langchain) (2.8.8)\n",
            "Requirement already satisfied: numpy<2,>=1 in /usr/local/lib/python3.10/dist-packages (from langchain) (1.23.5)\n",
            "Requirement already satisfied: openapi-schema-pydantic<2.0,>=1.2 in /usr/local/lib/python3.10/dist-packages (from langchain) (1.2.4)\n",
            "Requirement already satisfied: pydantic<2,>=1 in /usr/local/lib/python3.10/dist-packages (from langchain) (1.10.13)\n",
            "Requirement already satisfied: requests<3,>=2 in /usr/local/lib/python3.10/dist-packages (from langchain) (2.31.0)\n",
            "Requirement already satisfied: tenacity<9.0.0,>=8.1.0 in /usr/local/lib/python3.10/dist-packages (from langchain) (8.2.3)\n",
            "Requirement already satisfied: transformers<5.0.0,>=4.6.0 in /usr/local/lib/python3.10/dist-packages (from sentence_transformers) (4.35.2)\n",
            "Requirement already satisfied: tqdm in /usr/local/lib/python3.10/dist-packages (from sentence_transformers) (4.66.1)\n",
            "Requirement already satisfied: torch>=1.6.0 in /usr/local/lib/python3.10/dist-packages (from sentence_transformers) (2.1.0+cu121)\n",
            "Requirement already satisfied: torchvision in /usr/local/lib/python3.10/dist-packages (from sentence_transformers) (0.16.0+cu121)\n",
            "Requirement already satisfied: scikit-learn in /usr/local/lib/python3.10/dist-packages (from sentence_transformers) (1.2.2)\n",
            "Requirement already satisfied: scipy in /usr/local/lib/python3.10/dist-packages (from sentence_transformers) (1.11.4)\n",
            "Requirement already satisfied: nltk in /usr/local/lib/python3.10/dist-packages (from sentence_transformers) (3.8.1)\n",
            "Requirement already satisfied: sentencepiece in /usr/local/lib/python3.10/dist-packages (from sentence_transformers) (0.1.99)\n",
            "Requirement already satisfied: huggingface-hub>=0.4.0 in /usr/local/lib/python3.10/dist-packages (from sentence_transformers) (0.19.4)\n",
            "Requirement already satisfied: attrs>=17.3.0 in /usr/local/lib/python3.10/dist-packages (from aiohttp<4.0.0,>=3.8.3->langchain) (23.1.0)\n",
            "Requirement already satisfied: multidict<7.0,>=4.5 in /usr/local/lib/python3.10/dist-packages (from aiohttp<4.0.0,>=3.8.3->langchain) (6.0.4)\n",
            "Requirement already satisfied: yarl<2.0,>=1.0 in /usr/local/lib/python3.10/dist-packages (from aiohttp<4.0.0,>=3.8.3->langchain) (1.9.4)\n",
            "Requirement already satisfied: frozenlist>=1.1.1 in /usr/local/lib/python3.10/dist-packages (from aiohttp<4.0.0,>=3.8.3->langchain) (1.4.0)\n",
            "Requirement already satisfied: aiosignal>=1.1.2 in /usr/local/lib/python3.10/dist-packages (from aiohttp<4.0.0,>=3.8.3->langchain) (1.3.1)\n",
            "Requirement already satisfied: marshmallow<4.0.0,>=3.18.0 in /usr/local/lib/python3.10/dist-packages (from dataclasses-json<0.6.0,>=0.5.7->langchain) (3.20.1)\n",
            "Requirement already satisfied: typing-inspect<1,>=0.4.0 in /usr/local/lib/python3.10/dist-packages (from dataclasses-json<0.6.0,>=0.5.7->langchain) (0.9.0)\n",
            "Requirement already satisfied: filelock in /usr/local/lib/python3.10/dist-packages (from huggingface-hub>=0.4.0->sentence_transformers) (3.13.1)\n",
            "Requirement already satisfied: fsspec>=2023.5.0 in /usr/local/lib/python3.10/dist-packages (from huggingface-hub>=0.4.0->sentence_transformers) (2023.6.0)\n",
            "Requirement already satisfied: typing-extensions>=3.7.4.3 in /usr/local/lib/python3.10/dist-packages (from huggingface-hub>=0.4.0->sentence_transformers) (4.9.0)\n",
            "Requirement already satisfied: packaging>=20.9 in /usr/local/lib/python3.10/dist-packages (from huggingface-hub>=0.4.0->sentence_transformers) (23.2)\n",
            "Requirement already satisfied: charset-normalizer<4,>=2 in /usr/local/lib/python3.10/dist-packages (from requests<3,>=2->langchain) (3.3.2)\n",
            "Requirement already satisfied: idna<4,>=2.5 in /usr/local/lib/python3.10/dist-packages (from requests<3,>=2->langchain) (3.6)\n",
            "Requirement already satisfied: urllib3<3,>=1.21.1 in /usr/local/lib/python3.10/dist-packages (from requests<3,>=2->langchain) (1.26.18)\n",
            "Requirement already satisfied: certifi>=2017.4.17 in /usr/local/lib/python3.10/dist-packages (from requests<3,>=2->langchain) (2023.11.17)\n",
            "Requirement already satisfied: greenlet!=0.4.17 in /usr/local/lib/python3.10/dist-packages (from SQLAlchemy<3,>=1.4->langchain) (3.0.2)\n",
            "Requirement already satisfied: sympy in /usr/local/lib/python3.10/dist-packages (from torch>=1.6.0->sentence_transformers) (1.12)\n",
            "Requirement already satisfied: networkx in /usr/local/lib/python3.10/dist-packages (from torch>=1.6.0->sentence_transformers) (3.2.1)\n",
            "Requirement already satisfied: jinja2 in /usr/local/lib/python3.10/dist-packages (from torch>=1.6.0->sentence_transformers) (3.1.2)\n",
            "Requirement already satisfied: triton==2.1.0 in /usr/local/lib/python3.10/dist-packages (from torch>=1.6.0->sentence_transformers) (2.1.0)\n",
            "Requirement already satisfied: regex!=2019.12.17 in /usr/local/lib/python3.10/dist-packages (from transformers<5.0.0,>=4.6.0->sentence_transformers) (2023.6.3)\n",
            "Requirement already satisfied: tokenizers<0.19,>=0.14 in /usr/local/lib/python3.10/dist-packages (from transformers<5.0.0,>=4.6.0->sentence_transformers) (0.15.0)\n",
            "Requirement already satisfied: safetensors>=0.3.1 in /usr/local/lib/python3.10/dist-packages (from transformers<5.0.0,>=4.6.0->sentence_transformers) (0.4.1)\n",
            "Requirement already satisfied: click in /usr/local/lib/python3.10/dist-packages (from nltk->sentence_transformers) (8.1.7)\n",
            "Requirement already satisfied: joblib in /usr/local/lib/python3.10/dist-packages (from nltk->sentence_transformers) (1.3.2)\n",
            "Requirement already satisfied: threadpoolctl>=2.0.0 in /usr/local/lib/python3.10/dist-packages (from scikit-learn->sentence_transformers) (3.2.0)\n",
            "Requirement already satisfied: pillow!=8.3.*,>=5.3.0 in /usr/local/lib/python3.10/dist-packages (from torchvision->sentence_transformers) (9.4.0)\n",
            "Requirement already satisfied: mypy-extensions>=0.3.0 in /usr/local/lib/python3.10/dist-packages (from typing-inspect<1,>=0.4.0->dataclasses-json<0.6.0,>=0.5.7->langchain) (1.0.0)\n",
            "Requirement already satisfied: MarkupSafe>=2.0 in /usr/local/lib/python3.10/dist-packages (from jinja2->torch>=1.6.0->sentence_transformers) (2.1.3)\n",
            "Requirement already satisfied: mpmath>=0.19 in /usr/local/lib/python3.10/dist-packages (from sympy->torch>=1.6.0->sentence_transformers) (1.3.0)\n"
          ]
        }
      ]
    },
    {
      "cell_type": "code",
      "source": [
        "from langchain.embeddings import HuggingFaceEmbeddings"
      ],
      "metadata": {
        "id": "wAEpebp5Hvnm"
      },
      "execution_count": null,
      "outputs": []
    },
    {
      "cell_type": "code",
      "source": [
        "embeddings = HuggingFaceEmbeddings()"
      ],
      "metadata": {
        "id": "laNDjcS1MD7D"
      },
      "execution_count": null,
      "outputs": []
    },
    {
      "cell_type": "code",
      "source": [
        "!pip install pypdf"
      ],
      "metadata": {
        "colab": {
          "base_uri": "https://localhost:8080/"
        },
        "id": "Fe1clHF-1uGZ",
        "outputId": "1b9a797b-e499-4a17-c669-dbd511b6ef72"
      },
      "execution_count": null,
      "outputs": [
        {
          "output_type": "stream",
          "name": "stdout",
          "text": [
            "Requirement already satisfied: pypdf in /usr/local/lib/python3.10/dist-packages (3.17.2)\n"
          ]
        }
      ]
    },
    {
      "cell_type": "code",
      "source": [
        "loader = PyPDFLoader(\"gen_ai.pdf\")\n",
        "data = loader.load()\n",
        "pages = len(data)\n",
        "pdf_content = ''\n",
        "\n",
        "for x in range(pages):\n",
        "  pdf_content = pdf_content + data[x].page_content\n",
        "\n",
        "print(pdf_content)"
      ],
      "metadata": {
        "colab": {
          "base_uri": "https://localhost:8080/"
        },
        "id": "CRtLFNdT0mom",
        "outputId": "0924e48e-a981-42df-ef50-042e8f8484f1"
      },
      "execution_count": null,
      "outputs": [
        {
          "output_type": "stream",
          "name": "stdout",
          "text": [
            "GENERATIVE AI: HYPE,  OR \n",
            "TRUL\n",
            "Y TRANSFORMATIVE?ISSUE 120 | July 5, 2023 | 12:28 PM EDT”\u0001\u0001\u0001\u0001\u0001P\u0001\u0001\u0001\u0001\u0001\u0001\u0001\u0001\u0001 \u0001\u0001 \u0001 \u0001Global Macro  \n",
            "Research\n",
            "Investors should consider this report as only a single factor in making their investment decision. For \n",
            "Reg AC certiﬁcation and other important disclosures, see the Disclosure Appendix, or go to www.gs.com/research/hedge.html.\n",
            "The Goldman Sachs Group, Inc.Since the release of OpenAI’s generative AI tool ChatGPT in November, investor \n",
            "interest in generative AI technology has surged. The disruptive potential of  this technology, and whether the hype around it—and market pricing—has gone too far, is Top of Mind. We speak with Conviction’s Sarah Guo, NYU’s Gary Marcus, and GS GIR’s US software and internet analysts Kash Rangan and Eric Sheridan about what the technology can—and can’t—do at this stage. GS economists then assess the technology’s potentially large impact on productivity and growth, which our equity strategists estimate could translate into signiﬁcant upside for US equities over the medium-to-longer term, though our strategists also warn that past productivity \n",
            "booms have resulted in equity bubbles that ultimately burst. We also discuss where the most compelling investment opportunities in the AI space may lie today, and the near-term risks investors should most watch out for.        \n",
            "““ INTERVIEWS WITH:  \n",
            "Sarah Guo, Founder, Conviction, former General Partner, Greylock \n",
            "Gary Marcus, Professor Emeritus of Psychology and Neural Science, \n",
            "New York University \n",
            "Kash Rangan, US Software Equity Research Analyst, Goldman Sachs;   \n",
            "Eric Sheridan, US Internet Equity Research Analyst, Goldman Sachs  \n",
            "AI’S POTENTIALLY LARGE ECONOMIC IMPACTS \n",
            "Joseph Briggs, GS Global Economics Research \n",
            "US EQUITIES: GAUGING THE AI UPSIDE \n",
            "Ryan Hammond and David Kostin, GS US Portfolio Strategy Research \n",
            "MARKETS AROUND PAST PRODUCTIVITY BOOMS \n",
            "Dominic Wilson and Vickie Chang, GS Markets Research \n",
            "WHAT WE’RE HEARING FROM PUBLIC INVESTORS \n",
            "Peter Callahan, GS Global Banking & Markets WHAT’S INSIDEof\n",
            "Allison Nathan | allison.nathan@gs.com       ...AND MORE\n",
            "TOP MIND\n",
            "Jenny Grimberg | jenny.grimberg@gs.com       We're entering the era of what I think of as “Software \n",
            "3.0”… companies don’t need to collect nearly as much training data, which suddenly makes the technology much more useful, accessible, and less expensive. \n",
            "- Sarah Guo\n",
            "The intelligence of AI systems is being overhyped… those who believe artiﬁcial general intelligence (AGI) is imminent are almost certainly wrong. \n",
            "- Gary Marcus\n",
            "AI probably isn’t in a hype cycle… this technology cycle isn’t being led by upstarts, which makes it less likely to ﬁzzle out or take a long time to get going. \n",
            "- Kash Rangan\n",
            "The vast majority of the companies that have outperformed the broader market over the last several months on the AI theme are still trading at relatively reasonable multiples to GAAP EPS. \n",
            "- Eric Sheridan\n",
            "Ashley Rhodes |  ashley.rhodes@gs.com       \n",
            "Note : The following is a redacted version of the original report published July 5 , 2023 [30 pgs]. El \n",
            "Goldman Sachs Global Investment  Research  2 Top of Mind  Issue 120 \n",
            " Macro news and views  \n",
            " \n",
            " \n",
            " \n",
            " \n",
            " US Japan  \n",
            "Latest GS proprietary datapoints/major changes in views  \n",
            "• We recently raised  our Fed terminal rate forecast to 5.25-\n",
            "5.5% (added a 25bp hike, most likely in July) given our above-\n",
            "consensus  growth forecast  and signals from Fed officials . \n",
            "• We recently lowered our 12m recession odds to 25% given \n",
            "the passing of debt limit tail risk and our increased confidence \n",
            "of only a modest GDP drag from tighter bank lending.  \n",
            "• We recently lowered our Dec 2023 core PCE inflation \n",
            "forecast to 3.5% (yoy, from 3.7%) given our expectation of \n",
            "renewed declines in inflation this summer and beyond.  \n",
            "Datapoints/trends we’re focused on  \n",
            "• US labor market; we estimate  that labor market tightness \n",
            "will only ease to pre -pandemic levels  in early 2024.  \n",
            "  Latest GS proprietary datapoints/major changes in views  \n",
            "• We recently raised  our FY23 New Core CPI inflation forecast \n",
            "to 3.8% (from 3.6%) reflecting our updated FX assumptions . \n",
            "Datapoints/trends we’re focused on  \n",
            "• BoJ policy; we continue to expect  a yield curve control (YCC) \n",
            "adjustment in July , with a  shortening of the target maturity to \n",
            "five years from 10 as the most likely outcome.  \n",
            "• Japanese wage growth; higher wage growth could yield \n",
            "more sustainable and stronger wage- price dynamics, but a \n",
            "divergent wage- price spiral is unlikely, in our view . \n",
            "• Japanese consumer sentiment, which has risen  sharply.  \n",
            "Receding US recession risks  \n",
            "US 12m ahead recession probability, %  2023 shunto  wage hike could translate into close to \n",
            "3% macro wage growth in FY23  \n",
            "  \n",
            " Shunto  wage increase, %, yoy  \n",
            " \n",
            "Source: Bloomberg, Goldman Sachs GIR. Source : JTUC-RENGO, Goldman Sachs GIR. \n",
            "Europe   Emerging Markets (EM)  \n",
            "Latest GS proprietary datapoints/major changes in views  \n",
            "• We recently raised  our ECB terminal rate forecast to 4% \n",
            "(added a 25bp hike in Sept) given updated ECB inflation \n",
            "projections and no talk of a “pause” at the June meeting.  \n",
            "• We recently raised  our BoE forecast for August and now \n",
            "expect a 50bp hike (vs . 25bp before) after the BoE’s 50bp \n",
            "hike in June, which we believe  signals more concern around \n",
            "UK inflation and a shift in the BoE’s reaction function. We expect a final 25bp hike in September for a terminal rate of \n",
            "5.75% (vs . 5.5% before).  \n",
            "Datapoints/trends we’re focused on  \n",
            "• EA core inflation , which we expect to fall to 3. 7% yoy by YE. Latest GS proprietary datapoints/major changes in views  \n",
            "• We recently lowered our 2023 China real GDP growth \n",
            "forecast to 5.4% (from 6%) on persistent growth headwinds \n",
            "(property slowdown and lack of consumer confidence in \n",
            "particular ) and constrained policy responses.  \n",
            "• We recently raised  our CY23 India real GDP growth forecast \n",
            "to 6.4% (from 6%) on a net export boost.  \n",
            "Datapoints/trends we’re focused on  \n",
            "• China property sector; with no “easy fix”, ongoing property \n",
            "weakness will likely  be a multi- year growth drag for China.  \n",
            "• EM cutting cycle, which may be approaching, with LatAm likely \n",
            "leading the  way, even as most DM central banks continue hiking.  \n",
            "UK wage growth has moderated , but remains high   \n",
            "UK private sector regular pay growth, % China property sector likely a multi -year growth drag   \n",
            "Housing contribution to yoy GDP growth, pp yoy  \n",
            "                                     \n",
            "Source: Haver Analytics, Goldman Sachs GIR. Source: Haver Analytics, Goldman Sachs GIR . 020406080100\n",
            "Mar-22 Jun-22 Sep-22 Dec-22 Mar-23 Jun-23GS Bloomberg Consensus April 2022:\n",
            "launched GS\n",
            "tracking at \n",
            "15%\n",
            "June 2022:\n",
            "raised to \n",
            "30%\n",
            "on higher\n",
            "inflationOctober 2022:\n",
            "raised to 35%\n",
            "on hawkish\n",
            "Fed\n",
            "February 2023:\n",
            "lowered to25% on \n",
            "labor market \n",
            "adjustmentMarch 2023:\n",
            "raised to 35% on \n",
            "banking stressJune 2023:\n",
            "lowered to 25%\n",
            "on receding debt limit \n",
            "and banking risks\n",
            "-2-10123456\n",
            "0123456\n",
            "1990 1993 1996 1999 2002 2005 2008 2011 2014 2017 2020 2023Base pay rise\n",
            "Scheduled wage increase\n",
            "Shunto headline wage growth\n",
            "Core CPI (rhs)GS forecast for \n",
            "FY2023 shunto \n",
            "final result\n",
            "-15-10-505101520\n",
            "2019 2020 2021 2022 2023%y/y\n",
            "%3m/3m (ann.)\n",
            "-3-2-1012345\n",
            "2005 2008 2011 2014 2017 2020 2023 2026 2029 2032Construction\n",
            "Consumption\n",
            "Fiscal\n",
            "Real estate services\n",
            "Upstream effects\n",
            "TotalWe provide a brief snapshot on the most important economies for the global markets  El \n",
            "Goldman Sachs Global Investment  Research  3 Top of Mind  Issue 120 \n",
            " \n",
            "OpenAI’s November release of ChatGPT— a generative artificial \n",
            "intelligence (AI) tool that creates content using natural language \n",
            "prompts —followed by AI chipmaker Nvidia’s substantial \n",
            "upward revision to revenue guidance in its Q1 earnings report, \n",
            "has trigger ed a surge in investor interest in generative AI \n",
            "technology. Indeed, Nvidia’s share price has risen over 30% since the revision, and the handful of large tech companies \n",
            "building the foundational large language models (LLMs) at the \n",
            "heart of generative AI ha ve substantially outperformed the \n",
            "broader market. But has the AI hype gone too far? The disruptive potential of generative AI technology —and whether \n",
            "it warrants the current investor enthusiasm—is Top of Mind.  \n",
            "We first explore what’s differentiating  about generative AI \n",
            "technology  that’s captured investors’ attention. GS US \n",
            "software analyst Kash Rangan explains that the technology’s ability to create new content in the form of text, image, video, \n",
            "audio, and code, and to do so via natural language rather than \n",
            "programming language, are its key transformative features.  \n",
            "Sarah Guo, Founder of AI -focused venture capital firm \n",
            "Conviction, further explains that whereas prior iterations of AI \n",
            "technology required humans to write deterministic code to \n",
            "perform specific tasks (“Software 1.0”) or the painstaking \n",
            "collecting of traini ng data to train a neural network for a specific \n",
            "task (“Software 2.0”), the now wide availability of foundational models (via open source or APIs), which have natural language \n",
            "capabilities, reasoning, and general knowledge of the world,  \n",
            "has reduced the onu s on companies to collect training data, \n",
            "ushering in an era of “Software 3.0” in which companies can \n",
            "leverage these “out of the box” capabilities much more easily \n",
            "and inexpensively to transform or enhance their businesses.  \n",
            "Generative AI’s transformative p otential has already begun to \n",
            "translate into reality. Developer productivity in some cases has \n",
            "increased ~15- 20% by employing generative AI tools, says \n",
            "Rangan. And as their use becomes more pervasive, Guo sees a \n",
            "range of future applications, especially as traditional service \n",
            "markets, including legal, data analytics, illustration, and voice \n",
            "and video generation, are increasingly served by AI. GS GBM  \n",
            "US TMT sector specialist Peter Callahan notes that public \n",
            "investors, for their part, believe this technology h as all the \n",
            "makings of a platform shift, with the potential to transform \n",
            "almost all aspects of the enterprise and consumer experience.  \n",
            "According to GS senior global economist Joseph Briggs, that \n",
            "transformative potential could have far -reaching macro \n",
            "consequences. He estimates that its use  could raise annual \n",
            "labor productivity growth by around 1.5pp over a 10- year period \n",
            "following widespread adoption in the US and other DM \n",
            "economies, and eventually raise annual global GDP by 7%.  And \n",
            "GS US equity strategists Ryan Hammond and David Kostin \n",
            "argue that such a productivity lift could turn what has up to now \n",
            "been a relatively narrow AI -led US equity rally into a much \n",
            "broader one over the medium- to-longer term, boosting S&P \n",
            "500 fair value by an eye- popping 9% from current levels.  \n",
            "But even if AI  technology ultimately proves transformative, has \n",
            "the hype around what the technology can actually deliver —and \n",
            "what the market is pricing—gon e too far at this point ? When it \n",
            "comes to the intelligence of AI systems today, Gary M arcus, \n",
            "Professor  Emeritus  of Psychology and Neural Science at New York Universit y, believes the answer is “yes”. He clarifies that \n",
            "the oft -touted neural networks of current AI tools function \n",
            "nothing like the neural networks of human brains; while AI \n",
            "machin es can perform reflexive statistical analysis, they have \n",
            "little to no capacity for deliberate reasoning. And while these \n",
            "machines can learn, this learning largely revolves around the \n",
            "statistics of words and proper responses to prompts; they are \n",
            "not learnin g abstract concepts and, unlike humans, have no \n",
            "internal model that allows them to understand the world around \n",
            "them. Artificial general intelligence (AGI), Marcus says, will \n",
            "probably be achieved eventually, but we are very far from it \n",
            "today, and no amount of investment is likely to change that.  \n",
            "And when it comes to markets, GS market strategists Dominic Wilson and Vickie Chang point out that during past innovation-\n",
            "led productivity booms like those following the widespread \n",
            "adoption of electricity (1919- 1929) and PCs and the internet \n",
            "(1996- 2005) , sharp increases in equity prices and valuations \n",
            "became bubbles that ultimately burst.  \n",
            "Even today, Guo sees some areas of mispricing in the private markets as a large cohort of investors anchors to the same \n",
            "investmen t heuristics while they gain a deeper understanding \n",
            "of the space. And she warns that misjudging the timing of such \n",
            "transformative shifts is a common pitfall in investing. That said, as an early- stage investor, she is a bit less focused on valuation \n",
            "than on choosing markets, products, and entrepreneurs that \n",
            "she believes have meaningful upside.   \n",
            "GS US internet analyst Eric Sheridan, for his part, is somewhat \n",
            "comforted by the fact that  the vast majority of companies that \n",
            "have recently outperformed on the AI t heme are still trading at \n",
            "relatively reasonable multiples to GAAP EPS . And Rangan \n",
            "makes the case that unlike other large technology cycles —such \n",
            "as the shift from distributed systems to cloud computing—\n",
            "where objections from established players slowed adopti on, \n",
            "the most powerful technology companies in the world are \n",
            "driving this shift, so AI probably isn’t in a hype cycle.  \n",
            "So where are the most compelling AI investing opportunities today? Rangan and Sheridan argue that the large tech \n",
            "companies developing the foundational AI models, as well as \n",
            "the “picks and shovels” businesses serving the space—semiconductor companies, cloud computing hyperscalers, and \n",
            "infrastructure companies —are well positioned to capture gains \n",
            "during the current “build” phase. Guo agrees, but also sees \n",
            "opportunities across the stack, and is most excited about the \n",
            "application layer that the broader investor base seems less sure \n",
            "about today . \n",
            "Finally, what risks should investors most watch out for? \n",
            "Sheridan is closely monitoring the prospect of changed \n",
            "consumer computing habits, which could upend existing \n",
            "business models. Guo warns that discerning between AI \n",
            "marketing and AI reality amid the current enthusiasm could \n",
            "prove difficult. And Rangan worries that the more pervasive \n",
            "the technology beco mes, the less valuable it might be.   \n",
            "Allison Nathan, Editor  \n",
            "Email:  allison.nathan@gs.com      \n",
            "Tel:  212-357-7504   \n",
            "Goldman Sachs & Co. LLC    \n",
            " \n",
            "Generative AI: hype , or truly  transformative ?  El \n",
            "Goldman Sachs Global Investment  Research  4 Top of Mind  Issue 120 \n",
            " \n",
            "Sarah Guo is F ounder of Conviction, an AI -focused venture capital firm. Previously, she was a \n",
            "General Partner at Greylock.  Below, she argues that AI progress is ushering in a technological \n",
            "paradigm shift that presents a rich investment opportunity set, especially as software \n",
            "engineering undergoes a transformation to “Software 3.0” and the realm of traditional \n",
            "services is increasingly served by AI. But Guo also warns about the risks of investors \n",
            "misjudging the timetable of such a large technology shift, as well as the difficulty of \n",
            "distinguishing between AI marketi ng and AI reality . \n",
            "The views stated herein are those of the interviewee and do not necessarily reflect those of Goldman Sachs.\n",
            "Allison Nathan: You have been a \n",
            "long-time investor in artificial intelligence (AI). What’s attracted \n",
            "you to the space?  \n",
            "Sarah Guo: As a technologist, it’s \n",
            "hard not to be interested in AI . But \n",
            "from an investor perspective, I began \n",
            "paying attention to AI early in my time \n",
            "at Greylock, my former investing firm, \n",
            "because machine learning (ML) drove so many of the \n",
            "businesses we know and lov e as consumers—Google, Meta, \n",
            "Uber , Instagram, LinkedIn,  TikTok. Those are all algorithmic \n",
            "businesses that leverage ML for  recommendations, pricing  ads \n",
            "and services, and detect ing spam and fraud, among many other \n",
            "applications. Seeing how important th e previ ous generation of \n",
            "ML was for those businesses naturally led to exploring how \n",
            "these classical ML  approaches  could be applied in other \n",
            "domains. An obvious one was the cyber security space , with \n",
            "companies such as Awake, Abnormal, or Obsidian Security , \n",
            "because the goal there is often to find signal from noise. We also identified opportunities in areas like call centers, as well as \n",
            "completely new use cases such as self -driving cars and delivery \n",
            "robotics. And as we anticipated that companies  beyond the \n",
            "internet giants  would want to leverage these ML capabilities, \n",
            "that led to seeking  opportunities in picks and shovels like next-\n",
            "gen developer tools and infrastructure . \n",
            "In addition, architectural advancements in  AI over the past \n",
            "decade in academic and industr ial labs  —i.e. convolutional \n",
            "neural networks (CNNs), generative adversarial networks (GANs), reinforcement learning (RL), etc. — were incredibly \n",
            "compelling.  In particular, scaled -up transformers -based models \n",
            "have shown to be shockingly capable and very general. The \n",
            "research acceleration over the past five years solidified my \n",
            "conviction that developments in AI are ushering in a paradigm \n",
            "shift— certainly the biggest technology shift that I’ll see in my \n",
            "investing career —with the vast majority of investment \n",
            "oppor tunities still ahead of us. W e’re in the first inning . \n",
            " \n",
            "Allison Nathan: What's differentiating about generative AI \n",
            "technology that’s receiving so much focus today vs. \n",
            "previous developments in AI?  \n",
            "Sarah Guo: Recent  progress in AI isn’t just more of the sam e. \n",
            "These  new more general and more powerful capabilities \n",
            "expand the relevant scope for ML and enable very different \n",
            "product user experiences. Prior to ML, we had  “Software \n",
            "1.0”—deterministic code written by humans, function by \n",
            "function, to perform one task  at a time. In 2017, Andrej Karpathy, the technologist that led the autopilot team at Tesla, \n",
            "coined the term “Software 2.0” to describe  ML-driven \n",
            "software development , where the main work was no longer \n",
            "actually writing the software, but collecting training data to train \n",
            "a neural network  for a specific task . However, th e traditional \n",
            "ML development cycle of  labeled  data collection and \n",
            "engineering to achieve individual tasks at an acceptable level of \n",
            "quality is very labor -intensive and expensive, which has been an \n",
            "impediment to its widespread adoption.  \n",
            "Today,  we're entering the era of what I think of as “Software \n",
            "3.0,” in which many capabilities are available “out of the box” \n",
            "with a foundation al model either available in open source or \n",
            "offered  via an API . These “base models” have natural language \n",
            "capabilities, reasoning, and general knowledge of the world. In \n",
            "this paradigm, companies don’t need to collect  nearly as much  \n",
            "traini ng data, which suddenly makes the technology much \n",
            "more useful, accessible,  and less expensive.  Any company that \n",
            "chooses to invest in AI can now invest in adapting these \n",
            "models  to enhance or transform their businesses.  \n",
            "Allison Nathan: Even if generative AI is very promising, is \n",
            "the current hype overstating the technology’s capabilities?   \n",
            "Sarah Guo: Misjudging the timetable of large technology  shifts \n",
            "is a common pitfall in investing. I am all -in on a fundamental bet \n",
            "that this shift will drive substantial val ue creation, but this is a \n",
            "decade+ transition. In the meantime, areas of mispricing  have \n",
            "certainly surfaced. In the private market s, a large  cohort  of \n",
            "investors is trying to figure out how to gain exposure to this \n",
            "technology, or at least how to think about  the risk profile \n",
            "around it. And while they're developing a deeper understanding \n",
            "of the space, the tendency has been to anchor to investments \n",
            "with more obvious  heuristics. For example, many investors \n",
            "seem to be  assessing startups  based on whether the peopl e \n",
            "leading them are former researchers at OpenAI or DeepMind, because that’s a much easier question to answer than whether a particular product or research thesis will be successful. \n",
            "Similarly, because databases are a known and well -understood \n",
            "category of s oftware, vector databases are receiving substantial \n",
            "investor attention.   \n",
            "That said, I am already seeing  some  investors  becoming more \n",
            "skeptical because most enterprises haven’t yet adopted \n",
            "generative AI , but this seems short -sighted. Remember that \n",
            "ChatGPT only launched in November; the average enterprise planning and execution cycle tends to be longer than six \n",
            "months. So, investors will need to be patient. As with the internet, mobile, and cloud, some wi nners emerged \n",
            "immediately, but others only emerged a decade later; Interview with Sarah Guo  \n",
            " \n",
            "El \n",
            "Goldman Sachs Global Investment  Research  5 Top of Mind  Issue 120 \n",
            " \n",
            "discovering the use cases and building great  software takes \n",
            "time and entrepreneurial ingenuity . You wouldn’t have wanted \n",
            "to stop your internet investing with Napster.  \n",
            "Allison Nathan: But do  the high valuations in the space \n",
            "today concern you/give you pause?  \n",
            "Sarah Guo: The recent lessons across all stages of the \n",
            "technology markets should not be lost on investors.  All \n",
            "companies are eventually valued on a multiple of cash flows . \n",
            "But as an early- stage investor,  within some bounds, we can be \n",
            "less focused on valuation and more focused on choosing \n",
            "markets and entrepreneurs to identify breakout winners.  \n",
            "Allison Nathan: So where are the most compelling \n",
            "investment opportunities in the space today?  \n",
            "Sarah  Guo: We’re investing full -stack. First, we have  picks and \n",
            "shovels investments ; infrastructure, data infrastructure, and \n",
            "engineering workflows are being reimagined. Demand for \n",
            "Nvidia GPU capacity is insatiable, but cloud management and \n",
            "delivery of GPU clus ters is still quite immature, and lags \n",
            "significantly behind CPUs. We are investing in making AI \n",
            "infrastructure friendlier to enterprises and application \n",
            "development easier.  \n",
            "And then there are the models themselves. Some of that \n",
            "business will remain centered in the very large labs: OpenAI, \n",
            "Google, DeepMind, Anthropic, etc. But  big model opportunities \n",
            "remain, for example in actions/agents, image, voice, video, and \n",
            "robotics. We are particularly excited for the democratization of \n",
            "software development through better code models. Generally,  \n",
            "open- source language models are becoming increasingly \n",
            "capable, and that will likely continue to be the case, in part due \n",
            "to contributions from large companies like Meta. So, a range of \n",
            "model providers will exist . Leveraging these models against \n",
            "company - or consumer -specific data is nontrivial, so there are \n",
            "large opportunities around intelligently labeling data, data management for AI applications, and better understanding and \n",
            "orchestrating these models.  \n",
            "The opportunity I’m actua lly most excited about is the \n",
            "application layer. Many investors are unsure about this layer, \n",
            "believing a narrative that all the value is in the model training itself, but there’s a huge amount of creativity and work in \n",
            "getting non- deterministic models to w ork in production use \n",
            "cases. B oth startups  and incumbent application companies will \n",
            "leverage these  capabilities across many areas: everything from \n",
            "observability to security to customer relationship management \n",
            "(CRM) and to markets that were traditionally se rvices, including \n",
            "security services, legal, data analytics work, illustration , and \n",
            "voice and video generation,  that now  can begin to be s erved by \n",
            "more software. We’re excited about the democratization effect \n",
            "that AI brings, and expect its second- order effe cts to become \n",
            "investable, too.  \n",
            "Allison Nathan: Do incumbents have an advantage  here ? \n",
            "Sarah Guo: Within th e broad opportunity set , incumbents \n",
            "certainly have some advantages —their distribution and data —\n",
            "and so there will no doubt be huge incumbent winners. But \n",
            "incumbent advantages aren’t always as valuable as they may \n",
            "seem. For example, we are invested in a stealth AI security \n",
            "company aiming to automate a labor -intensive part of the cybersecurity workflow in enterprises today. The company \n",
            "needed a certain set of training data to “fine -tune” or \n",
            "customize its models and initially sought  to partner with an \n",
            "incumbent that possessed the data. But no incumbent had \n",
            "collected the data in a form useful for training the  model. So, \n",
            "while some extremely valuable data is sitting at incumbents today, some just doesn’t exist yet, and it will be a free- for-all to \n",
            "figure out how to efficiently collect it.  \n",
            "All told, these companies are competing on the many \n",
            "dimensions of buildi ng a software business, and I don't think \n",
            "that AI fundamentally swings in favor of incumbents or  \n",
            "startups. My personal bias is that early- stage investing is the \n",
            "best place to be gaining exposure to this technology right now, partly because the space is qui te young, so pure- play public \n",
            "opportunities don’t exist just yet. But the dislocation is a huge \n",
            "opportunity for any investor that can distinguish signal from \n",
            "noise, be that in public or private markets .  \n",
            "Allison Nathan: What are the biggest risks to the AI \n",
            "investment opportunity today?  \n",
            "Sarah Guo: Distinguishing between AI marketing and AI reality \n",
            "will be hard work for investors.  This is a highly technical field, \n",
            "and the state of the art changes every week.  The rapid \n",
            "leadership commitment from public compa nies to the AI trend \n",
            "has been extraordinary,  but painting your earnings calls and \n",
            "company statements with AI marketing isn't going to do much \n",
            "good if it doesn't translate into margin improvement , better \n",
            "products, and new revenue. Resourcing AI efforts,  as well as \n",
            "dealing with the innovator's dilemma that AI automation could \n",
            "displace a significant amount of human work or reduce the cost \n",
            "of offerings, is complicated territory for public companies.  \n",
            "It is hard for large companies to make dramatic changes fast,  \n",
            "but that’s what this shift requires. Enterprises are needing to disrupt themselves, grapple with privacy and data use \n",
            "concerns, rapidly staff up AI product teams, and think creatively \n",
            "about pricing and packaging of new offerings. Amid such rapid \n",
            "change, c ompanies cannot build everything from scratch, and \n",
            "choosing the right partners will be a strategic advantage.  \n",
            "Allison Nathan: How should investors navigate this risk?  \n",
            "Sarah Guo: My advice to investors is to focus on choice of \n",
            "technical partners, concrete plans, and outcomes . When AI \n",
            "products account for a significant share of incremental revenue, \n",
            "it's hard to argue with that performance. Or, in consumer \n",
            "businesses, if the metrics investors typically use to assess a \n",
            "company’s performance— engagement , transactions, ad \n",
            "inventory, etc. —materially improve after introducing a new AI \n",
            "product, that’s what you want to see.  \n",
            "Another significant risk is public and regulatory backlash against \n",
            "AI technology due to concerns around abuse of these \n",
            "technologies in t he areas of bias, disinformation, cybersecurity, \n",
            "etc. Just like the internet, general tools like generative AI can \n",
            "be used for good and for bad, so investment in risk mitigation \n",
            "must occur alongside investment in innovation. But given the \n",
            "important advance s in critical areas like science, education, and \n",
            "healthcare that this technology could enable, it would be a \n",
            "shame if we ended up regulating the industry to a halt before \n",
            "the technology has had a chance to really deliver on its immense potentia l. El \n",
            "Goldman Sachs Global Investment  Research  6 Top of Mind  Issue 120 \n",
            " \n",
            "Gary Marcus is Professor Emeritus of Psychology and Neural Science at N ew York University. \n",
            "He has done extensive research on artificial intelligence (AI), including in his latest book, \n",
            "Rebooting AI: Building Artificial Intelligence We Can Trust . Below, he argues that the \n",
            "intelligence of AI systems is being overhyped and, while we could get there eventually, we \n",
            "are currently nowhere near achieving ar tificial general intelligence (AGI).  \n",
            "The views stated herein are those of the interviewee and do not necessarily reflect those of Goldman Sachs.\n",
            "Jenny Grimberg: How do \n",
            "generative artificial intelligence (AI) tools actually work  today ? \n",
            "Gary Marcus:  At the core of all \n",
            "current generative AI tools is basically \n",
            "an autocomplete function that has \n",
            "been trained on a substantial portion \n",
            "of the internet. These tools possess \n",
            "no understanding of the world, so \n",
            "they’ve been known to hallucinate, or make up false statements. The tools excel at largely predictable tasks like \n",
            "writing code, but not at, for example, providing accurate \n",
            "medical information or diagnoses, which autocomplete isn’t \n",
            "sophisticated enough to do.  \n",
            "Jenny Grimberg: Some observers have argued that these \n",
            "technologies can learn/understand because they employ \n",
            "similar neural networks to those in the human brain. \n",
            "What’s your view?  \n",
            "Gary Marcus:  The neural network of a human brain works \n",
            "nothing like the neural networks AI tools use. And , contrary to \n",
            "what s ome may argue, these tools don’t reason anything like \n",
            "humans. At most, AI machines do some of what the Nobel \n",
            "laureate Daniel Kahneman characterizes as system 1 thinking—\n",
            "reflexive statistical analysis— and very little system 2 thinking of \n",
            "deliberate reasonin g. AI machines are learning, but much of \n",
            "what they learn is the statistics of words, and, with \n",
            "reinforcement learning, how to properly respond to certain \n",
            "prompts. They’re not learning abstract concepts.  \n",
            "That’s why much of the content they produce is garba ge and/or \n",
            "false. Humans have an internal model of the world that allows \n",
            "them to understand each other and their environments. AI \n",
            "systems have no such model and no curiosity about the world. \n",
            "They learn what words tend to follow other words in certain \n",
            "contex ts, but human beings learn much more just in the course \n",
            "of interacting with each other and with the world around them.   \n",
            "Jenny Grimberg: So, is the hype around generative AI \n",
            "overblown?  \n",
            "Gary Marcus:  Yes and no. Generative AI tools are no doubt \n",
            "materially im pacting our lives right now, both positively and \n",
            "negatively. They’re generating some quality content, but also \n",
            "misinformation, which, for example, could have significant \n",
            "adverse consequences for the 2024 US presidential election. \n",
            "But the intelligence of AI  systems is being overhyped. A few \n",
            "weeks ago, it was claimed that OpenAI’s GPT- 4 large language \n",
            "model (LLM) passed the undergraduate exams in engineering \n",
            "and computer science at MIT, which stirred up a lot of \n",
            "excitement. But it turned out that the methodol ogy was flawed , \n",
            "and in fact my long -time collaborator Ernie Davis pointed that out around a year ago, yet people still proceeded to use it. \n",
            "Narratives abound about how current AI systems will displace \n",
            "scores of workers, and some people are worried that robots \n",
            "will soon take over the world. But AI isn’t nearly smart enough for that in its current iteration. Four years ago, I joked that, \n",
            "should you ever find yourself in a situation where the robots are \n",
            "coming for you, just close the door. And it’s still true that robots \n",
            "can’t open doors, nor can they drive cars reliably . We are \n",
            "nowhere near achieving artificial general intelligence (AGI). Those who believe AGI is imminent are almost certainly wrong.    \n",
            " Those who believe artificial general \n",
            "intelligence ( AGI) is imminent are almost \n",
            "certainly wrong. ” \n",
            "Jenny Grimberg: Has something gone wrong on a \n",
            "conceptual/technical level in AI that the technology is so far from general intelligence?  \n",
            "Gary Marcus:  To a degree. Something has gone wrong from a \n",
            "sociological standpoint. Giant approximation machines, which \n",
            "are essentially what LLMs are, are relatively easy to build and \n",
            "monetize, so people are focusing on them rather than on other \n",
            "ideas that may have mor e merit but are harder to implement \n",
            "and monetize quickly. So, the dynamics of capitalism certainly \n",
            "aren’t helping, and have probably slowed technological \n",
            "progress relative to what’s theoretically possible. That said, the \n",
            "problem of intelligence is an extremely difficult one, and most \n",
            "of the efforts to work on it in a computational context are less \n",
            "than 75 years old, which isn’t very long for the development of \n",
            "a science. People often talk about intelligence as if it’s a magic \n",
            "number, like an IQ score. But i ntelligence is comprised of many \n",
            "aspects: being able to follow a conversation, fix a car, learn a \n",
            "new dance move, or perform just about any kind of interesting \n",
            "human activity requires intelligence of many different sorts. \n",
            "And expecting a machine to master all of those in just 75 years \n",
            "probably isn’t realistic.    \n",
            "Jenny Grimberg: Is it possible to ever develop truly \n",
            "intelligent artificial systems?  \n",
            "Gary Marcus:  I believe so. I think of the current stage of AI as \n",
            "akin to the age of alchemy, during which people knew they \n",
            "could get something to happen, but didn’t yet have a theory of \n",
            "chemistry. People today can conceptualize what AGI might look \n",
            "like, but have yet to develop a sophisticated enough \n",
            "understanding about how to build intelligence into machines. I \n",
            "see no reason to think we won’t get there eventually. Some \n",
            "people argue that intelligence simply isn’t something that can \n",
            "be built into machines, but I don’t buy into that view. Even if Interview with Gary Marcus  \n",
            " \n",
            "El \n",
            "Goldman Sachs Global Investment  Research  7 Top of Mind  Issue 120 \n",
            " \n",
            "machines are never able to feel pain, for example, they may be \n",
            "able to understand what a person is feeling when they’re in \n",
            "pain and what they might do as a consequence of feeling that \n",
            "pain, such as taking medicine or going to the doctor. In that \n",
            "vein, machines will probably eventually develop a much clearer \n",
            "understanding of huma n beings and become much more \n",
            "reliable and truthful. The question is when. I’m often cast as \n",
            "the pessimist, but several months ago I had a debate with \n",
            "prominent software architect Grady Booch in which he took the \n",
            "pessimistic position that AGI won’t happen in our lifetime, the \n",
            "lifetime of our children, or even the lifetime of our children’s \n",
            "children, whereas I took the optimistic position that AGI would \n",
            "be achieved sometime in this century. That said, it will likely \n",
            "take another several decades given the cur rent state of AI and \n",
            "how much work is left to do.  \n",
            "Jenny Grimberg: Couldn’t the inflection point for this \n",
            "technology potentially occur much sooner given the \n",
            "significant amounts of money large companies are pouring \n",
            "into AI research/development?  \n",
            "Gary Marcus:  Not necessarily; throwing massive amounts of \n",
            "money at a problem doesn’t mean it will be solved. In 2016, I \n",
            "warned that driverless cars were being overhyped, in the sense \n",
            "that solving them would prove much more difficult than many \n",
            "thought. The key issue is  outliers. Driverless car systems \n",
            "basically work through memorization, so when they encounter \n",
            "a new situation, they’re often at a loss for what to do. A good \n",
            "example of this, courtesy of Wired’s Steven Levy, is what \n",
            "happened at Google’s automatic car factory in 2015—the cars \n",
            "had just learned to recognize that it was acceptable to drive \n",
            "over piles of leaves on the road, because that particular \n",
            "situation wasn’t in their training set. Since then, a hundred billion dollars have been invested in driverless cars . And yet, i n \n",
            "April 2022, a Tesla “summoned” across a parking lot at an \n",
            "airplane trade show ran directly into a $3.5mn jet, because, \n",
            "again, its training set didn’t contain jets, and it had no abstract \n",
            "understanding that it shouldn’t drive into large, expens ive \n",
            "objects. And so,  it did, none the wiser. That should serve as a \n",
            "stark reminder that just because the money is there, doesn’t mean the results will be.  \n",
            "Jenny Grimberg: What, then, is required from a \n",
            "technical/policy/societal standpoint for intelligent artificial \n",
            "systems to become a reality?  \n",
            "Gary Marcus:  The proper incentives have to be developed and \n",
            "funding needs to be allocated in the right directions. Attitudes \n",
            "and mindsets will also have to change. People in the machine \n",
            "learning community are overconfident. They’re convinced that they’ve discovered the one true way to develop intelligent \n",
            "systems, and aren’t very receptive to advice from field \n",
            "practitioners in cognitive science, psychology, or linguistics. \n",
            "History has shown that scientists and engineers can become \n",
            "fixated on ideas that ultimately don’t work, which significantly \n",
            "slows down progress. In the early 20th century, scientists \n",
            "endeavored to identify  what genes were made of. Gregor \n",
            "Mendel had proven that a biological basis for heredity existed, \n",
            "and scientists were convinced that basis was proteins, so they \n",
            "spent decades trying to identify which proteins. That was the \n",
            "wrong question; they instead should’ve asked, what biological \n",
            "thing are genes made of, which turned out to be DNA. Once Oswald Avery figured that out, the field progressed very \n",
            "quickl y. The field of AI is very similar. People are currently \n",
            "dogmatically pursing the idea that LLMs are the answer to \n",
            "achieving AGI. I consider them to be a frustrating distraction —\n",
            "LLMs may be part of the answer, but they are almost certainly \n",
            "not the whole answer. So, the machine learning community will \n",
            "have to reorient at some point. I expect that such a \n",
            "reorientation will eventually occur and the machine learning \n",
            "community will find the right answer, at which point progress \n",
            "towards AGI will happen very quick ly.   \n",
            " Large language models may be part  of \n",
            "the answer, but they are almost certainly not \n",
            "the whole answer  [to achieving AGI] .” \n",
            "Jenny Grimberg: Given all that, what’s your main message \n",
            "to investors interested in the AI space?  \n",
            "Gary Marcus:  Be wary of the hype—AI is not yet as magical as \n",
            "many people think. I wouldn’t go so far as to say that it’s too \n",
            "early to invest in AI; some investments in companies with \n",
            "smart founding teams that have a good understanding of \n",
            "product market fit will likely  succeed . But there will be a lot of \n",
            "losers. So, investors need to do their homework and perform \n",
            "careful due diligence on any potential investment. It’s easy for a \n",
            "company to claim that they’re an AI company, but do they have \n",
            "a moat around them? Do they ha ve a technical or data \n",
            "advantage that makes them likely to succeed? Those are \n",
            "important questions for investors to be asking.  \n",
            "Jenny Grimberg: What concerns you most about AI  today ? \n",
            "Gary Marcus:  I’m concerned that we’re giving an enormous \n",
            "amount of power a nd authority to the small number of \n",
            "companies that currently control AI systems, and in subtle \n",
            "ways that we may not even be aware of. The data on which \n",
            "LLMs are trained can have bias effects on the model output, \n",
            "which is disquieting given that these systems are starting to \n",
            "shape our beliefs. Another  concern is around the truthfulness \n",
            "of AI systems —as mentioned, they’ve been known to \n",
            "hallucinate. Bad actors can use these systems for deliberate \n",
            "abuse, from spreading harmful medical misinformation to \n",
            "disruptin g elections, which could gravely threaten society.  \n",
            "I’ve raised these concerns with a significant number of \n",
            "government officials around the world. Almost all of them \n",
            "agree that something must urgently be done, but nobody is \n",
            "entirely sure what that something should be. I believe we need \n",
            "to establish a global agency for AI, with buy -in from national \n",
            "governments, large technology companies, non- profits, \n",
            "academia, and society at large, to collaboratively find \n",
            "governance solutions and vet new technologies before  they’re \n",
            "deployed at scale, akin to what we have in medicine. \n",
            "Fortunately, this seems to be where the world is headed. \n",
            "Several government leaders and heads of large tech companies \n",
            "have recently argued for this. It’s hard to predict how this will \n",
            "all play o ut from here, but this is an important start on the road \n",
            "towards safe, secure, and peaceful AI technologies.  El \n",
            "Goldman Sachs Global Investment  Research  8 Top of Mind  Issue 120 \n",
            " \n",
            " \n",
            " \n",
            " \n",
            "  Artificial intelligence , explained  \n",
            "Source: IBM, Goldman Sachs GIR.  \n",
            "Special thanks to GS equity research analysts for graphic. Original version published in Americas Technology: Generative AI – Part I: \n",
            "Laying out the investment framework .  \n",
            " \n",
            "  \n",
            "El \n",
            "Goldman Sachs Global Investment  Research  9 Top of Mind  Issue 120 \n",
            " \n",
            " History  of AI developments  \n",
            "Note: This does not constitute an exhaustive list of all AI -related developments.  \n",
            "Source: Forbes , digitalwellbeing.org, Penn  State  University , YourStory , Goldman Sachs GIR.  \n",
            "Special thanks to GS equity research analysts for help with the timeline. Original version published in Americas Technology: Generative AI – Part I: Laying out the investment framework . \n",
            " \n",
            "El \n",
            "Goldman Sachs Global Investment  Research  10 Top of Mind  Issue 120 \n",
            " \n",
            "Kash Rangan  and Eric Sheridan are Senior Equity Research Analyst s at Goldman Sachs covering \n",
            "the US software and internet sectors, respectively . Below, they discuss the recent rise of \n",
            "generative AI, which companies and sectors stand to benefit , and what that means for investors.  \n",
            " \n",
            "Allison Nathan: The recent \n",
            "emergence of generative artificial intelligence (AI) has attracted a lot \n",
            "of focus. Why is there so much \n",
            "excitement around this technology, especially when AI \n",
            "has been around for a while?  \n",
            "Kash Rangan: Generative AI differs \n",
            "from traditional AI in two main ways. \n",
            "One, it’s capable of generating  new \n",
            "content in the form of text, image, video, audio, and code,  whereas \n",
            "traditional AI systems train \n",
            "computers to make predictions \n",
            "about human behavior, business \n",
            "outcomes, etc. And two, it allows \n",
            "humans to communicate with a \n",
            "computer in their natural language, \n",
            "which has never been done before; traditionally, computers  were \n",
            "prompted using programming languages. The implications for \n",
            "personal and professional productivity from the advent of \n",
            "generative AI are tremendous —if a computer can generate \n",
            "quality content, people can spend the time saved on higher value -added activi ties.  \n",
            "Eric Sheridan: People are very focused on AI right now \n",
            "because the consumer and enterprise imagination has caught up with the technology. Alphabet first described itself as an AI -\n",
            "first company at its 2017 developer conference, and AI has been embedded in most everyday products, such as search \n",
            "algorithms and recommendation engines, for some time. But \n",
            "the generative AI tool ChatGPT has captured people’s \n",
            "imagination, just as the iPhone did when it was introduced \n",
            "even though smartphones already existed, allowing it to scale \n",
            "very quickly. Those are moments of “unlock”. While it took \n",
            "several years for the iPhone to become a consumer -adopted \n",
            "device at scale, ChatGPT was the fastest application to reach \n",
            "200mn monthly active users (MAUs) that we’ve ever tracked. \n",
            "So, AI’s unlock mo ment has happened, and in a more intense \n",
            "way than we’ve ever seen in the past.   \n",
            "Allison Nathan: Is all this hype around generative AI \n",
            "warranted, or overblown? What differentiates it from the hype around previous technologies that seem to have \n",
            "fizzled out and/or were slower to take hold than expected?   \n",
            "Kash Rangan: AI probably isn’t in a hype cycle. For one thing, \n",
            "this technology cycle isn’t being led by upstarts, which makes it \n",
            "less likely to fizzle out or take a long time to get going. The shifts from ma inframe to distributed systems in the early 1990s \n",
            "and from distributed to cloud computing in the early 2000s took \n",
            "a longer time to take off than many people expected as larger, \n",
            "established companies were critical voices against them. IBM \n",
            "argued in favor of  mainframe systems against the distributed \n",
            "architecture of Oracle, a relatively small company at the time. And existing on- premises systems and technology providers \n",
            "argued against the shift from distributed to cloud computing, \n",
            "warning that the cloud wasn’t  safe or economical, didn’t scale \n",
            "well, etc. It took years for those objections to be overcome and \n",
            "for cloud to find its footing. O nly when the larger, established \n",
            "companies had operating clouds was there a harmony of voices telling buyers that the technol ogy was acceptable.  \n",
            "In contrast, driving the AI tech cycle  are some of the most \n",
            "powerful technology companies in the world, who are building \n",
            "the foundational models at the heart of generative AI. When a \n",
            "unanimous verdict exists among the technology providers that \n",
            "a technological shift is actually happening, it’s real. And when \n",
            "customers start to become interested, it’s not hype. And \n",
            "customers are interested. We’re having discussions with the \n",
            "CIOs of global corporations who are amazed at the productivity \n",
            "benefits this technology could bring if deployed internally. And \n",
            "all of this is occurring at a time when  the market is rewarding \n",
            "productivity gains. So, this doesn’t feel like a hype cycle.   \n",
            "Allison Nathan: So, this isn’t a bubble?  \n",
            "Eric Sheridan: While you never know you’re in a bubble until it \n",
            "pops, the vast majority of the companies that have \n",
            "outperformed the broader market over the last several months \n",
            "on the AI theme are still trading at relatively reasonable \n",
            "multiples to GAAP EPS. Bubbles are typically a bout enterprise \n",
            "value to eyeballs/clicks, addressable market dynamics, or sheer \n",
            "euphoria as a driver of valuations as opposed to what the right \n",
            "multiple on net income is to pay. So, this feels very different from previous tech bubbles.   \n",
            "Allison Nathan: Ev en if the hype isn’t overblown, how long \n",
            "could it take for this technology to really have an impact \n",
            "on companies, workers, and consumers?  \n",
            "Eric Sheridan: Following the introduction of ChatGPT (OpenAI) \n",
            "and Bard (Alphabet), consumer internet companies are now  \n",
            "moving into the build phase in which they’re building \n",
            "foundational models, some of them for specific \n",
            "businesses/industries. Once built, some of these solutions will \n",
            "need to be deployed in the real world to see what works, \n",
            "scales, and gains adoption. A good analogy for thinking about \n",
            "the timeframe of impact is the shift from desktop to mobile \n",
            "computing. It took companies like Alphabet and Meta four \n",
            "years after the iPhone’s introduction to begin referring to \n",
            "themselves as mobile- first companies —that’s how long it took \n",
            "for the infrastructure to be built out, at which point companies \n",
            "could start talking about application disruption. So, over the \n",
            "short -term —the next 6 -12m— many companies are viewing AI \n",
            "technology as potentially productivity -enhancing internally, and \n",
            "they’re building, testing, and learning to see how the \n",
            "technology may be additive to their businesses externally on \n",
            "more of a three- year horizon.  \n",
            "Kash Rangan: Productivity gains right now are concentrated at \n",
            "the developer level. Anecdotally, we’ve seen 15 -20% boosts to A discussion on artificial intelligence  \n",
            " \n",
            " \n",
            "El \n",
            "Goldman Sachs Global Investment  Research  11 Top of Mind  Issue 120 \n",
            " \n",
            "developer productivity through the automation of the some of \n",
            "the manual and rote process of writing code, with the software \n",
            "behind that starting at around $10/developer/month. From a \n",
            "cost-benefit standpoint, that’s incredible. The next population of \n",
            "workers that will be testing this technology will be those in sales, marketing, and customer support, which combined \n",
            "account for about  a third of the professional working population \n",
            "in developed market economies. Software companies are \n",
            "readyin g products that should have a positive impact on these \n",
            "populations in CY2024.  \n",
            "Eric Sheridan: I’ll add that the impact on consumers will \n",
            "probably take a bit longer to manifest because it typically takes multiple years to change ingrained search, shopping, \n",
            "consumption, etc. behavior in a big way. For as much as \n",
            "ChatGPT has scaled to 200mn MAUs fast er than anything \n",
            "we’ve ever tracked, the volume of traditional search queries \n",
            "spread across Google and Bing, for example, has yet to be \n",
            "impacted. So, we’re still quite a while away from AI technology \n",
            "having real effects on the consumer application front.  \n",
            "Allison Nathan: The build phase sounds like a lot of money \n",
            "in, little money out. When can we expect companies  to \n",
            "monetize the gains from generative AI technology?  \n",
            "Eric Sheridan: The build phase doesn’t mean that nobody is \n",
            "garnering revenue. The companies s elling the tools necessary \n",
            "to build out AI technology certainly are; Nvidia recently issued \n",
            "revenue guidance of $11bn in the second quarter of FY2024, \n",
            "which led to a dramatic rise in its stock price. The timeline for \n",
            "when other companies will monetize gains varies by the type of \n",
            "company. Monetization for consumer internet companies \n",
            "typically only occurs once they have scale of users and of \n",
            "deployment of purchasing power. A good analogy is the app \n",
            "store. For Apple’s App Store and Google’s Play Store, the two \n",
            "application distribution mechanisms in the duality that is the \n",
            "mobile OS layer in computing, the first three years were spent \n",
            "building to scale in the application developer community . \n",
            "During that time,  hundreds of million s of users weren’t playing \n",
            "games monetizing at a couple dollars a month.  \n",
            "Kash Rangan: Monetization could happen sooner for software \n",
            "companies. Monetization for software companies will come from being able to steer their customers towards premium \n",
            "SKUs of their products that exclusively have generative AI \n",
            "capabilities. At the very outset, companies may charge customers a low monthly fee to play around with the \n",
            "technology, thereby lowering the barriers to adoption. Once \n",
            "these products evolve and become more sophisticated, \n",
            "companies will have much more pricing power.  \n",
            "It’s important to remember that we’re only around five months into generative AI; the first five months of cloud computing \n",
            "looked like nothing. So, the ability to monetize will grow.  \n",
            "Software companies that not only have big distr ibutions and \n",
            "large customer bases, but also troves of data to train large language models (LLMs) on, are in a particularly strong position \n",
            "to be effective in monetizing the gains from AI through \n",
            "differentiated SKUs and higher revenue per user (RPU) for \n",
            "existing products, especially since the cost structure is already \n",
            "paid for in terms of distribution and product development.  Hyperscalers —which are large cloud computing companies that \n",
            "provide computing and storage services at scale— could also \n",
            "garner revenue relatively soon. Cloud computing provides the \n",
            "computing resources and infrastructure needed to deploy AI at \n",
            "scale. So, AI- driven initiatives could lead enterprise clients to \n",
            "increase cloud computing spend following a year in which most of them optimized their spend due to fears about the economy, \n",
            "and that could create positive revenue trajectories for the hyperscalers exiting 2023 and into 2024. Cloud hyperscalers are \n",
            "also well -positioned in the sense that they’ve spent 10 years \n",
            "and hundreds of billions of dollars building out cloud infrastructure, allowing generative AI to build on top of a solid \n",
            "base of cloud revenue. So, they’re not starting from ground \n",
            "zero; they’ll be leveraging a lot of what’s already been put in \n",
            "place to augment generative AI capabili ties on top of the \n",
            "biggest investment cycle the technology industry has ever \n",
            "witnessed.  \n",
            "All that said, gross margins from generative AI will likely be \n",
            "negative for the foreseeable future as capex growth exceeds \n",
            "revenue growth. Right now, Microsoft, Alphab et, and Amazon \n",
            "are spending more than $100bn in capex, of which a large \n",
            "portion is on cloud computing and AI, with generative AI  likely \n",
            "composing the fastest growing category . But generative AI’s \n",
            "revenue contribution to the cloud industry is currently de minimis, which is typical at the front end of a large capex cycle. \n",
            "It took a 10- year investment cycle for gross margins in \n",
            "Microsoft’s cloud business to go from negative to where they \n",
            "are today, which is well north of 50- 60%. That’s probably the \n",
            "baseline for AI.  \n",
            "Allison Nathan: What types of companies are best \n",
            "positioned to capture the gains from generative AI?  \n",
            "Eric Sheridan: The handful of large tech companies developing \n",
            "the foundational models for generative AI are clearly well \n",
            "positioned. Semiconductor c ompanies and the hyperscalers in \n",
            "cloud computing also look well -positioned to capture gains \n",
            "during the build phase.  \n",
            "Kash Rangan: Legacy software companies with subscription \n",
            "business models are also poised to benefit incrementally from \n",
            "what we estimate wil l be a generative AI software total \n",
            "addressable market (TAM) of ~$150bn. And i nfrastructure \n",
            "software companies stand to benefit. Running generative AI at \n",
            "scale will require significant compute power and data storage. \n",
            "When cloud computing emerged on the scene, some argued \n",
            "that data centers and IT workers would no longer be necessary \n",
            "because the cloud would do everything. But as thousands of \n",
            "cloud applications cropped up, the infrastructure required \n",
            "expanded dramatically, not to mention that data centers \n",
            "needed to be able to talk to the cloud, which added further \n",
            "complexity to the process. That’s why IT spend as a \n",
            "percentage of capex and total revenue continues to rise. \n",
            "Generative AI is being thrown on top of the existing cloud \n",
            "architecture, and it needs to be able to talk to cloud \n",
            "applications, which exponentially increases the complexity of interactions and opportunity for something to break. So, \n",
            "infrastructure software companies that provide diagnostics, \n",
            "tooling, measurement, feedback, and stabilization will  probably \n",
            "have a field day. Some of the companies that will “win” in this El \n",
            "Goldman Sachs Global Investment  Research  12 Top of Mind  Issue 120 \n",
            " \n",
            "space are public companies, and some of them don’t even \n",
            "exist yet.  \n",
            "Allison Nathan: Will there be space for new/small \n",
            "companies?  \n",
            "Kash Rangan: When ChatGPT emerged, some venture \n",
            "capitalists believed that it would disrupt every company. Now, \n",
            "they generally agree that companies like Microsoft, Adobe, \n",
            "Salesforce, etc. won’t  be disrupted, because they have scale in \n",
            "engineering talent  and capital, and  troves of data to dominate \n",
            "the foundational model layer. So, the consensus seems to be \n",
            "that new entrants won’t disrupt the foundational layer. That’s \n",
            "not surprising; the history of technological shifts shows that \n",
            "typically only a handful of scaled winners  garner the  vast \n",
            "majority of the profit pool at the operating system layer, and that will likely also be the case for AI .  \n",
            "But the AI space more broadly won’t be the land of just the giants. The application layer will be wide open for innovation. Use cases  will be invented for AI technology that nobody has \n",
            "thought of yet. Nobody predicted that thousands of Software -\n",
            "as-a-Service (SaaS) companies would grow out of cloud \n",
            "computing or that Uber would grow out of a mobile- first world.  \n",
            "Eric Sheridan: Applications built on generative AI capabilities \n",
            "that disrupt the healthcare, education, legal, etc. industries \n",
            "haven’t been created yet, but are being widely discussed as \n",
            "potential possibilities. In every computing cycle, interesting \n",
            "application developers sprout up; I see no reason to believe \n",
            "that this time will be different. And if previous venture capital \n",
            "cycles have taught us anything, it’s that multiple new firms will \n",
            "attempt to create disruptive applications, and a few of them will \n",
            "likely succeed.  \n",
            "Allison Nath an: What’s the current state of AI regulation, \n",
            "and how might it evolve ? \n",
            "Eric Sheridan: Typically, the regulatory curve is, at a minimum, \n",
            "half a decade behind the innovation curve. The AI regulation \n",
            "curve, by contrast, is operating almost in parallel to the \n",
            "innovation curve. The sheer scale of potential job displacement \n",
            "associated with AI technology and the tail risk of some \n",
            "apocalyptic outcome is sounding a lot of alarm bells for \n",
            "politicians and regulators, who, for most of the last decade, \n",
            "were also behind the curve on elements of internet data \n",
            "collection, privacy, and information dissemination. That has \n",
            "brought the regulatory forces to bear quickly this time around.  \n",
            "The tech companies in our coverage universe and those in the \n",
            "private domain want more regulation partly because they don’t \n",
            "want to be blamed if AI technology produces a bad outcome \n",
            "that could be attributed to them, so they want to work in \n",
            "partnership with regulators to create guardrails around this \n",
            "technology almost simultaneously with it being innovated. A \n",
            "rather cynical view also exists that big tech companies are advocating for guardrails around the tech because those guardrails will create moats around these large companies, \n",
            "making it difficult for smaller/new companies to disrupt them \n",
            "and w in in this space. Regardless of the reason, regulation is at \n",
            "the forefront much earlier in this tech cycle than any other \n",
            "we’ve ever witnessed.  \n",
            "Allison Nathan: Does the regulation running almost in \n",
            "parallel to the innovation increase the risks to investing in \n",
            "the AI space, in the sense that the regulation could stifle \n",
            "the innovation?  \n",
            "Eric Sheridan: Regulation isn’t a risk. Regulation typically \n",
            "changes the way capital is allocated and the unit economics of \n",
            "an industry. Regulated industries usually have low er profit \n",
            "margins, but the barriers to entry are higher given the cost of \n",
            "complying with regulation. So, while investors may have to \n",
            "accept lower profits, they also don’t have to worry as much \n",
            "that the companies they’re investing in will be disrupted by \n",
            "new entrants. Regulation can definitely slow innovation down. \n",
            "But it’s also necessary to keep bad actors out. And ultimately, a \n",
            "space rife with bad actors, especially AI where the \n",
            "consequences of bad behavior could be severe, isn’t beneficial \n",
            "to any investor .   \n",
            "Allison Nathan: What risks, then, should investors be \n",
            "concerned about?  \n",
            "Eric Sheridan: The potential for changed computing habits is a risk both if it doesn’t, and does, happen. We’ve lived through \n",
            "multiple cycles of people arguing that a certain thing is going to disrupt the search engine. Mobile was supposed to do it, social \n",
            "media was supposed to do it, and even Amazon vs. Google \n",
            "was a debate among investors several years ago in terms of \n",
            "whether the  Amazon search box would be the end of the \n",
            "search  engine, yet it lives on. And if AI is the thing that finally \n",
            "does disrupt the search engine, that could have significant \n",
            "consequences for existing business models. W hole industries \n",
            "are built on certain elements of aggregated supply and generated demand, and if consumer behavior shifts away from \n",
            "the search engine because of AI, or the search engine needs to \n",
            "change because of it, that could lead to wildly different economic outcomes than what investors are used to. So those \n",
            "are both significant risks to watch for.  \n",
            "Kash Rangan: The investor risk I worry the most about is that \n",
            "generative AI technology  becomes so ubiquitous that it \n",
            "becomes commoditized. And if it’s not special, how can \n",
            "companies charge a premium for it or monetize it? Today , the \n",
            "technology isn’t ubiquitous because the expertise needed to train LLMs is scarce. LLMs require some supervision, yet very \n",
            "few computer scientists are currently specialized in generative \n",
            "AI, which limits how quickly LLMs can learn. And they do \n",
            "indeed learn, because LLMs are neural networks, which are \n",
            "modeled after the human brain. But if LLMs end up learn ing \n",
            "very quickly, the technology could become widely diffused. And at that point, the technology may no longer look valuable.  El \n",
            "Goldman Sachs Global Investment  Research  13 Top of Mind  Issue 120 \n",
            " \n",
            "Note: Table does not constitute an exhaustive list of all existing generative AI tools.  \n",
            "Source: AIMultiple, tool websites, Goldman Sachs GIR . \n",
            "Special thanks to GS equity research analysts for this table. Original version publis hed in Americas Technology: Generative AI – Part I: Laying out \n",
            "the investment framework .A snapshot of generative AI tools  \n",
            "Category  Tool  Description/ Features  \n",
            "Chatbots  Bard A generative AI chatbot developed by Google, initially based on its LaMDA model  \n",
            "Bing Chat  A chatbot powered by Microsoft Bing \n",
            "Character.AI  Simulates conversations with real and fictional characters  \n",
            "ChatGPT  A generative AI chatbot developed by OpenAI   \n",
            "Text Generators  Copy.ai  Generates blog posts, social media posts, and emails  \n",
            "Frase.io  Produces slogans, summaries, introductions, articles, titles, and product descriptions  \n",
            "Jasper  Provides users with content templates and enables collaboration  \n",
            "Peppertype.ai  Offers ready -made templates for creating meta descriptions, articles, and emails, enabling \n",
            "commercial use of the produced content  \n",
            "Rytr Creates titles for SEO optimization, produces blog posts, articles, emails, and social media ads  \n",
            "Code Generators  K-Explorer  Makes code completion and custom model suggestions  \n",
            "PyCharm  Providers users with code completion, highlights errors, and enables automated refactoring in \n",
            "Python  \n",
            "Tabnine  Provides users with whole- line code completion and learns coding patterns  \n",
            "Image Generators  Artbreeder  Creates collages and generates images with the option of manipulating a subject’s age, \n",
            "gender, etc.  \n",
            "Craiyon  Coverts text- to-image (not suitable for creating larger images)  \n",
            "DALL -E Creates, edits, and variates images, offering the commercial rights to created content  \n",
            "NightCafe  Art generation with different styles and resolution options  \n",
            "starryai  Enables the creation of artwork with different style options, aspect ratios, etc., giving full \n",
            "ownership of produced content  \n",
            "Video Generators  Elai.io  Allows for the conversion of text to video, offering 25+ different avatars  \n",
            "Flexclip  Supports video creation and offers editing tools (adding transitions and filters, removing \n",
            "backgrounds)  \n",
            "Lumen5 Offers templates to create original videos based on text, articles, and blog posts  \n",
            "Synthesia  Enables text -to-video conversion, providing 70+ different avatars  \n",
            "Veed.io  Video generation and editing, adding subtitles, removing background noise, and resizing \n",
            "videos  \n",
            "Design Generators  Colormind  Creates color palates based on movie scenes, artwork, and other images  \n",
            "Designs.ai  Generates logos and banners, provides design templates, and enables the export of produced \n",
            "content to different formats  \n",
            "Khroma  Creates custom color palettes  \n",
            "Uizard  Creates designs for mobile applications, websites, and landing pages based on sketches  \n",
            "Voice Generators  Lovo.ai  Enables text -to-speech conversion and generates realistic AI voiceovers  \n",
            "Murf  Creates voiceovers for different contexts, enables adding punctuation, and provides the \n",
            "commercial rights to the content  \n",
            "Play.ht  Provides AI -generated voices for various commercial purposes in 140+ languages  \n",
            "Replica  Enables text -to-speech conversion, offering AI -generated voices  \n",
            "Speechify  Allows text -to-speech conversion while enabling the adjustment of reading speed \n",
            "Music Generators  AIVA  Creates authentic music based on preferred style, granting copyright of the produced content  \n",
            "Amper AI  Produces royalty -free music based on preferred genre, length, instruments, providing \n",
            "perpetual license  \n",
            "Evoke  Generates AI -generated and royalty -free music collection  \n",
            "Jukebox  Creates authentic music with AI-generated lyrics, providing users with different genre options  \n",
            "Soundraw  Enables original music creation and commercial use of the produced content  El \n",
            "Goldman Sachs Global Investment  Research  14 Top of Mind  Issue 120 \n",
            " \n",
            "Joseph Briggs finds that widespread adoption \n",
            "of generative AI could potentially significantly \n",
            "boost global productivity and GD P \n",
            "The recent emergence of generative artificial intelligence (AI) \n",
            "raises the question of whether we are on the brink of a rapid \n",
            "acceleration in task automation that will significantly save time \n",
            "and labor costs, lead to a productivity burst, and increase the \n",
            "pace of economic growth. Although significant uncertainty still \n",
            "exists around the capabilities and adoption timeline of current \n",
            "generative AI models, we find that generative AI could \n",
            "potentially raise annual labor productivity growth by around \n",
            "1.5pp over  a 10- year period following widespread adoption in \n",
            "the US and other DM economies, and eventually raise annual \n",
            "global GDP by 7%.  \n",
            "The labor market impact of generative AI  \n",
            "The largest effects of generative AI on the economy will likely come from its impact on the labor market. To assess the \n",
            "potential size of this impact, we use data on the specific work \n",
            "tasks that are undertaken in a typical work week for over 900 \n",
            "occupation s in the US and 2000 occupations in the Euro area. \n",
            "These data contain measures on the importance and difficulty \n",
            "of various tasks associated with each occupation, which we \n",
            "combine to estimate the share of total work exposed to labor -\n",
            "saving automation by AI.  Specifically, we select work activities \n",
            "that are most exposed to AI automation based on our review of \n",
            "probable use cases of generative AI and assume that AI will \n",
            "ultimately be capable of completing moderately difficult tasks (up to a difficulty level of 4 on a 7- point task complexity scale). \n",
            "We then take an importance-  and complexity -weighted average \n",
            "of essential work tasks for each occupation to estimate the \n",
            "share of its total workload that AI could potentially replace.   \n",
            "Our key finding is that a lot of workers spend a lot of time \n",
            "performing tasks that AI models are well -suited to automate. In \n",
            "particular, we estimate that roughly two -thirds of US \n",
            "occupations are exposed to at least some degree of automation by AI, and that of those occupations which are e xposed, most \n",
            "have a significant —albeit partial —share of their workload (25 -\n",
            "50%) that can potentially be replaced. After weighting our \n",
            "occupation -level estimates by the employment share of each \n",
            "occupation  in the US, we estimate that a quarter of current \n",
            "work tasks could be automated by AI, with particularly high \n",
            "exposures in administrative (46%) and legal (44%) professions \n",
            "and low exposures in physically -intensive professions such as \n",
            "construction (6%) and maintenance (4%).  \n",
            "Using European data, we estimate that a similar 24% of work \n",
            "tasks in the Euro area could potentially be automated by AI. Although detailed work task data are not available for other \n",
            "countries/regions, reweighting our industry -level AI exposure \n",
            "estimates by country -specific industry -employment shares \n",
            "suggests that generative AI could eventually automate around \n",
            "18% of global work, with larger shares in DMs than EMs.  \n",
            " \n",
            " \n",
            "1 Alederucci et al. (2022), Czamitzki, Fernandez, and Rammer (2022), Behrens and Trunschke (2020), Acemoglu et al. (2022), Bess en and Righi (2019).  A quarter of work tasks in the US could be automated by AI  \n",
            "Share of industr y employment exposed to automation by AI in the US, %  \n",
            " \n",
            "Source:  Goldman Sachs GIR.  \n",
            "The productivity boost from generative AI  \n",
            "The large share of employment exposed to automation from \n",
            "generative AI raises the potential for a boom in labor \n",
            "productivity that significantly increases global growth. We see \n",
            "two channels through which AI -driven automation could raise \n",
            "global productivity and GDP.  \n",
            "First, most workers are employed in occupations that are \n",
            "partially exposed to AI automation and, following AI adoption, \n",
            "will likely apply at least some of their freed- up capacity towards \n",
            "productive activities. This dynamic is observable at firms that \n",
            "have already adopted AI, with studies1 generally finding that AI \n",
            "adoption led to a 2- 3pp annual boost to labor productivity \n",
            "growth for several years afterwards.     \n",
            "Second, while AI technology will inevitably displace some \n",
            "workers, we anticipate that  most displaced workers will \n",
            "eventually become reemployed in new occupations that emerge either directly from AI adoption or in response to the \n",
            "higher levels of aggregate and labor demand generated by the \n",
            "productivity boost from non- displaced workers.  \n",
            "The reemployment of displaced workers due to the direct and \n",
            "indirect effects of technological change has plenty of historical \n",
            "precedent. Information technology, for example, displaced \n",
            "some workers in the early 2000s, but also directly led to the \n",
            "creation of new occupations like webpage designers, software \n",
            "developers, and digital marketing professionals, and indirectly \n",
            "increased labor demand in service industries such as \n",
            "healthcare, education, and food services.  \n",
            "The positive employment effects of technological change are \n",
            "especially clear over longer time horizons. 60% of workers today are employed in occupations that did not exist in 1940, \n",
            "implying that over 85% of employment growth in the last 80 \n",
            "years can be explained by the technology -driven creation of \n",
            "new positions.  \n",
            "To estimate how these channels might together raise US productivity growth, we combine estimates of the productivity \n",
            "boost for non- displaced workers, the labor cost savings of \n",
            "displaced workers, and a composition effect from the reemployment of d isplaced workers in new positions. In \n",
            "particular, we assume that around 7% of workers are fully 4644\n",
            "3736353332312928282827262625\n",
            "19\n",
            "12119641\n",
            "01020304050\n",
            "Office and admin support\n",
            "Legal\n",
            "Architecture & engineering\n",
            "Life, physical, social sci\n",
            "Business & financial ops\n",
            "Community & social service\n",
            "Management\n",
            "Sales and related\n",
            "Computer and mathematical\n",
            "Farming, fishing, forestry\n",
            "Protective service\n",
            "HC practitioners & technical\n",
            "Edu instruction & library\n",
            "Healthcare support\n",
            "Art, dsgn, ent, sport, media\n",
            "All industries\n",
            "Personal care and service\n",
            "Food prep & serving rltd\n",
            "Transport & material moving\n",
            "Production\n",
            "Construction and extraction\n",
            "Installation, maint, repair\n",
            "Bdlg & grounds clean/maintAI’s potentially large economic impacts  El \n",
            "Goldman Sachs Global Investment  Research  15 Top of Mind  Issue 120 \n",
            " \n",
            "displaced (given our estimate that automatable tasks account \n",
            "for the majority of the work of 7% of US workers), but that \n",
            "most are able to secure new employment in only slightly less \n",
            "productive positions, and that partially exposed workers \n",
            "experience a boost in productivity consistent with estimates \n",
            "from existing studies (those mentioned in the footnote  on the \n",
            "previous page). For illustrative purposes, we assume t hat the \n",
            "full productivity boost of generative AI is realized over a 10- year \n",
            "period (but not necessarily the next  10 years) that starts when a \n",
            "large share of businesses has adopted generative AI.  \n",
            "Under these assumptions, we estimate that widespread adoption  of generative AI could raise overall labor productivity \n",
            "growth in the US by around 1.5pp annually. A boost of this size \n",
            "would roughly double the recent pace of US productivity \n",
            "growth, and would be about the same size as the boost that \n",
            "followed the emergen ce of prior transformative technologies \n",
            "like the electric motor and personal computer.  \n",
            "Generative AI could also raise productivity growth outside of \n",
            "the US. Assuming that differences in the industry -composition \n",
            "of labor can account for most of the differences in the impact \n",
            "of AI on labor productivity growth, we estimate similarly sized \n",
            "boosts to productivity in other DM economies, and that that globally widespread AI adoption could boost global annual \n",
            "productivity growth for countries in our coverage by ov er 1pp \n",
            "annually (FX -weighted average), although the impact would \n",
            "likely be delayed in EM economies.  \n",
            "Tech innovation has led to the creation of new occupations that \n",
            "account for the bulk of employment growth over the last 80 years  \n",
            "Contributions to ann. job growth 1940 -2018, new vs. pre -existing jobs, %  \n",
            " \n",
            "Source:  Autor et al. (2022), Goldman Sachs GIR.  \n",
            " \n",
            "Widespread AI adoption could boost global annual productivity \n",
            "growth by over 1pp  over a 10 -year period  \n",
            "Effect of AI adoption on ann. productivity growth, 10yr adoption horizon, pp  \n",
            " \n",
            "Source:  Goldman Sachs GIR.  \n",
            " Large, but highly uncertain, impacts  \n",
            "While our estimated boost to productivity growth from \n",
            "widespread AI adoption is quite large, it is also highly uncertain, \n",
            "and will ultimately hinge on the difficulty level of tasks \n",
            "generative AI can perform, how many jobs are automated, and \n",
            "the speed of adoption. Varying our assumptions around each of \n",
            "these factors suggests that the boost to annual US productivity \n",
            "growth could range from 0.3- 3.0pp, although in most scenarios \n",
            "the boost would remain economically significant.    \n",
            "The size of the productivity bo ost will ultimately depend on AI’s \n",
            "capabilities and adoption timeline  \n",
            "Effect of AI adoption on ann. labor productivity growth, 10yr adoption period, pp  \n",
            " \n",
            "Note: A much less powerful AI scenario is where, for example, generative AI can \n",
            "only “skim a short article to gather the main point” (difficulty score 2) rather than \n",
            "“determine the interest cost to finance a new building” (difficulty score 4). A \n",
            "much more powerful AI scenario is where, for example, generative AI can \n",
            "“analyze the cost of medical care services for all US hospitals” (difficulty score 6).  \n",
            "Source:  Goldman Sachs GIR.  \n",
            "We also see the timing of any macroeconomic impact from \n",
            "generative AI as part icularly hard to predict based on the \n",
            "evidence from past technological breakthroughs. The burst in productivity due to the electric motor and personal computer, \n",
            "for example, occurred around 20 years after the key \n",
            "technological breakthrough, at a point when roughly half of US \n",
            "businesses had adopted the technology.  \n",
            "It is possible that the surge in interest in generative AI could \n",
            "speed up its adoption and lead macroeconomic impacts to \n",
            "materialize sooner. However, AI adoption rates by US firms \n",
            "were only 3.2% in 2019, and though many major companies are \n",
            "currently explor ing how to use AI, only ~20% of CEOs expect \n",
            "that generative AI will lower labor needs in the next 1- 3 years. \n",
            "For example, companies still need to navigate several barriers \n",
            "to adoption like data privacy before most start incorporating \n",
            "generative AI in their  everyday workflows. We therefore \n",
            "suspect that the effect of generative AI will probably not be visible in aggregate productivity data for at least several more years.  \n",
            "Nevertheless, the significant work task exposure to AI \n",
            "automation, combined with our siz able estimates of potential \n",
            "productivity increases, highlight the enormous economic \n",
            "potential of generative AI if it does deliver on its promise. \n",
            "Indeed, applying the estimated productivity boost to countries \n",
            "in our coverage, we find that widespread AI adoption could eventually drive a 7%, or almost $7tn, increase in annual global \n",
            "GDP over a 10 -year period, and therefore view generative AI as \n",
            "a significant upside risk to our medium-  and longer -run global \n",
            "economic growth projections.  \n",
            "Joseph Briggs, Senior Gl obal Economist  \n",
            "Email:  joseph.briggs @gs.com  Goldman Sachs & Co. LLC  \n",
            "Tel:  212-902-2163  0.00.51.01.52.0\n",
            "Professionals\n",
            "Managers\n",
            "Clerical and\n",
            "admin\n",
            "Technicians\n",
            "Construction\n",
            "Transportation\n",
            "Personal\n",
            "services\n",
            "Health\n",
            "Cleaning\n",
            "services\n",
            "Sales\n",
            "Production\n",
            "Farming\n",
            "TotalNew jobs, did not exist in 1940\n",
            "Pre-existing jobs (increase)\n",
            "Pre-existing jobs (decrease)\n",
            "00.20.40.60.811.21.41.61.82\n",
            "India\n",
            "Kenya\n",
            "Vietnam\n",
            "Nigeria\n",
            "Mainland China\n",
            "Thailand\n",
            "Ghana\n",
            "Indonesia\n",
            "Egypt\n",
            "Ecuador\n",
            "Philippines\n",
            "Turkey\n",
            "Colombia\n",
            "Peru\n",
            "Mexico\n",
            "South Africa\n",
            "Taiwan\n",
            "Malaysia\n",
            "Global\n",
            "Brazil\n",
            "South Korea\n",
            "Chile\n",
            "Euro Area\n",
            "Argentina\n",
            "Singapore\n",
            "UK\n",
            "US\n",
            "Sweden\n",
            "Japan\n",
            "Israel\n",
            "Hong KongDM\n",
            "EM\n",
            "Global0.30.50.7 0.81.3 1.52.42.42.9\n",
            "-10123456\n",
            "Much less powerful AI\n",
            "Slower adoption (30\n",
            "years)\n",
            "Slower adoption (20\n",
            "years)\n",
            "Slighlty less powerful AI\n",
            "No labor displacement\n",
            "Baseline\n",
            "Slightly more powerful\n",
            "AI\n",
            "More labor\n",
            "displacement\n",
            "Much more powerful AIIncreased productivity of non-displaced workers\n",
            "Labor displacement\n",
            "Reemployment of displaced workersEl \n",
            "Goldman Sachs Global Investment  Research  16 Top of Mind  Issue 120 \n",
            " \n",
            "Ryan Hammond and David Kostin argue that \n",
            "potential AI -related productivity boosts could \n",
            "lead to more upside for US  equities  \n",
            "With a surge in focus on generative artificial intelligence (AI) \n",
            "driving recent outperformance of US tech stocks and sending \n",
            "some of them to record- highs, how much more AI -driven \n",
            "upside remains for US equities? Despite the recent gains, we \n",
            "estimate that potential AI -related produc tivity boosts could lead \n",
            "to significantly more upside for S&P 500 earnings and stock \n",
            "prices over the medium- to-longer term, although substantial \n",
            "uncertainty and risks remain.  \n",
            "A potential boost to US productivity, earnings, and \n",
            "equities...  \n",
            "Our economists es timate that widespread generative AI \n",
            "adoption (which we assume occurs in 10 years) could boost US \n",
            "productivity growth by 1.5pp annually over a 10- year period and \n",
            "lift trend real GDP growth by 1.1pp for 10 years (see pgs.  14-\n",
            "15). Under these assumptions  in our dividend discount model \n",
            "(DDM) , we estimate that S&P 500 EPS CAGR over the next 20 \n",
            "years would be 5.4%, 50bp greater than our current \n",
            "assumption of 4.9% , and S&P 500 fair value would be 9%  \n",
            "higher than current levels, holding all else equal.  \n",
            "Widespread A I adoption could lead to  S&P 500 EPS  in 20 years  \n",
            "11% greater than our current assumption  \n",
            "S&P 500 EPS forecasts over the next 20 years, $  \n",
            " \n",
            "Source: Goldman Sachs GIR.  \n",
            "...but an uncertain one  \n",
            "That said, the range of potential AI impacts on the S&P 500 is \n",
            "wide —and therefore unlikely to be fully priced by investors in \n",
            "the near  term —for four key reasons:  \n",
            "1. Our economists’ estimates of the impact of AI adoption on productivity growth vary  from 0.3pp to 3.0 pp annually, \n",
            "depending on the speed of adoption, the power of AI, and \n",
            "the breadth of labor displacement. Based on this range of \n",
            "productivity scenarios, we estimate that the upside to S&P \n",
            "500 fair value could be as small as 5% and as large as 14%. \n",
            "And the potential upside could be even larger if the uplift in \n",
            "GDP and revenue growth is also accompanied by an \n",
            "increase in corporate profit margins.  \n",
            "2. Policy responses could constrain the ability of \n",
            "companies to retain the additional profits generated \n",
            "from AI . Corp orate profits as a share of GDP stand at \n",
            "elevated levels relative to history, while wages as a share of \n",
            "GDP remain near historic lows. If AI adoption leads to \n",
            "increased corporate profits at the expense of labor, policymakers could respond by raising corpor ate tax rates. \n",
            "The effective corporate tax rate would need to rise by 8pp to fully offset the 11% increase in the stream of future S&P \n",
            "500 earnings that may otherwise occur as a consequence of \n",
            "corporations embracing AI.  \n",
            "3. A higher interest rate environment c ould negate much \n",
            "of the potential increase in S&P 500 fair value . While a \n",
            "productivity boom that leads to lower prices could be disinflationary and put downward pressure on rates, our \n",
            "economists note that AI could increase investment demand \n",
            "and in turn lif t estimates of the neutral rate, a key input in \n",
            "monetary policymakers’ decisions. We estimate that interest rates would only need to rise by 30bp from current \n",
            "levels to fully offset the upside to fair value from AI \n",
            "adoption, all else equal.  \n",
            "4. S&P 500 prices are more clearly tied to near -term \n",
            "cyclical dynamics , even if AI adoption could provide a \n",
            "boost to the S&P 500 index in the long term. If economic \n",
            "data weaken and a recession becomes more likely (with the consensus of forecasters already assigning 65% odds  to a \n",
            "recession in the next 12 months versus our estimate of 25% odds), S&P 500 prices would likely decline, regardless \n",
            "of the long -term impact of AI . \n",
            "The potential productivity boost from AI adoption could lead to \n",
            "significantly more upside for the S&P 500  index  \n",
            "Estimated effect of AI adoption on S&P 500 fair value, % change from today  \n",
            " \n",
            "Source: Goldman Sachs GIR.  \n",
            "The perils of euphoric expectations  \n",
            "At the index level, the current equity risk premium and long-term EPS growth expectations are roughly in line with historical \n",
            "averages, suggesting investor optimism on AI adoption is not at \n",
            "extreme levels. However, at the stock level, the current \n",
            "valuation  of the largest AI beneficiaries, like NVDA, is similar to \n",
            "the valuation accorded in the 2000s to some of the largest Dot \n",
            "Com Boom beneficiaries (MSFT, INTC), though not as high as the most extreme example (CSCO). Historical precedent from \n",
            "the Dot Com Boom shows the perils of high expectations. Even \n",
            "though most TMT companies were still able to generate strong sales growth between 2000 and 2002, the failure to meet lofty \n",
            "investor forecasts led to a sharp 50%+ contraction in P/E \n",
            "multiples and a plunge in shar e prices. Euphoric growth \n",
            "expectations, therefore, are another risk worth watching.  \n",
            "Ryan Hammond , Senior US Equity Strategist  \n",
            "Email:  ryan.hammond@gs.com   Goldman Sachs & Co. LLC  \n",
            "Tel:  212-902-5625 \n",
            "David Kostin, Chief US Equity Strategist  \n",
            "Email:  david.kostin@gs.com    Goldman Sachs & Co. LLC  \n",
            "Tel:  212-902-6781 \n",
            " $100$200$300$400$500$600$700$800\n",
            "0 2 4 6 8 10 12 14 16 18 20\n",
            "Years out in our dividend discount model (DDM)BaselineIncluding 1.5 pp \n",
            "annual boost to \n",
            "productivity+5.4%\n",
            "CAGR\n",
            "+4.9%\n",
            "CAGR\n",
            "+8%+6%+4%+5%\n",
            "5 %9 %14 %\n",
            "0 %5 %10 %15 %20 %25 %\n",
            "Smaller Boost Central Scenario Larger BoostUS equities: gauging the AI upside  El \n",
            "Goldman Sachs Global Investment  Research  17 Top of Mind  Issue 120 \n",
            " \n",
            "After its launch  in November 2022, OpenAI's ChatGPT became  \n",
            "the fastest application to surpass 100mn users  \n",
            "Number of months taken to surpass 100 mn users  \n",
            " \n",
            "Source : Goldman Sachs GIR.   \n",
            " \n",
            " \n",
            " \n",
            " \n",
            " \n",
            " \n",
            " \n",
            " \n",
            " \n",
            " Since then, several other generative AI tools have emerged and \n",
            "interest in artificial intelligence has increased significantly…  \n",
            "Google search trends  \n",
            " \n",
            "Source : Google Trends (https://www.google.com/trends),  Goldman Sachs GIR.  \n",
            "...and many company m anagement teams are increasingly \n",
            "focused on o pportunities from AI on e arning s calls  \n",
            "Mentions of “AI” in selected companies’ earnings calls   \n",
            " \n",
            "Note: Includes mentions of “AI” in analyst/journalist questions.  \n",
            "Source:  Company data, Statista,  Goldman Sachs GIR.   \n",
            " \n",
            " \n",
            " \n",
            " \n",
            " \n",
            " \n",
            " \n",
            " \n",
            " \n",
            " \n",
            " Mega -cap tech stocks have rallied sharply year -to-date, \n",
            "outperforming the broader S&P 500 index, driven by optimism \n",
            "about the potential benefits to companies from AI…  \n",
            "Indexed r eturns , 12/31/2022=100  \n",
            " \n",
            "Source: FactSet, Goldman Sachs GIR.  \n",
            "…and some AI -related stocks are trading with high price -to-\n",
            "earnings multiples  \n",
            "NTM P/E multiple  \n",
            " \n",
            "Source:  Bloomberg, Goldman Sachs GIR.   \n",
            " \n",
            " \n",
            " \n",
            " \n",
            " \n",
            " \n",
            " \n",
            " \n",
            "  However, the key beneficiaries of AI adoption have not \n",
            "pushed aggregate index valuation to the extreme level of the \n",
            "Dot Com Boom  \n",
            "Aggregate vs. median S&P 500 NTM P/E dislocat ion \n",
            " \n",
            "Source: Compustat , Goldman Sachs GIR.  \n",
            " 2 93040556170\n",
            "01020304050607080\n",
            "ChatGPT TikTok Instagram Pinterest Spotify Telegram Uber\n",
            " 020406080100120\n",
            "6/5/2022 9/5/2022 12/5/2022 3/5/2023 6/5/2023ChatGPT\n",
            "Artificial intelligence\n",
            "OpenAI \n",
            "launches\n",
            "ChatGPT to \n",
            "the publicAlphabet \n",
            "launches \n",
            "its own \n",
            "generative \n",
            "AI tool, \n",
            "Bard \n",
            "Baidu \n",
            "launches its \n",
            "generative \n",
            "AI tool, \n",
            "ERNIE\n",
            "38\n",
            "721\n",
            "8\n",
            "012\n",
            "083\n",
            "65\n",
            "5653 52\n",
            "42\n",
            "12\n",
            "0102030405060708090\n",
            "Nvidia\n",
            "Alphabet\n",
            "Meta\n",
            "Microsoft\n",
            "Salesforce\n",
            "AMD\n",
            "AmazonQ1 2022 Q1 2023\n",
            "90100110120130140150160170\n",
            "Dec-22 Jan-23 Feb-23 Mar-23 Apr-23 May-23 Jun-23META, AMZN, AAPL,\n",
            "MSFT, GOOGL,\n",
            "TSLA, NVDA\n",
            "Remaining\n",
            "493companiesS&P 500+58%\n",
            "+15%\n",
            "+4%\n",
            "0 20 40 60 80AlphabetMetaSalesforceAppleMicrosoftMarvell TechnologyAMDNvidiaAmazonTesla\n",
            "4x6x8x10x12x14x16x18x20x22x24x26x28x\n",
            "1980 1985 1990 1995 2000 2005 2010 2015 2020 2025Aggregate index\n",
            "Median stock 24x\n",
            "14x18x19xThe AI craze in pics El \n",
            "Goldman Sachs Global Investment  Research  18 Top of Mind  Issue 120 \n",
            " \n",
            "Dominic Wilson and Vickie Chang assess the \n",
            "impact of past innovation- driven productivity \n",
            "booms on markets and what that could mean \n",
            "for the potential AI productivity boom ahead \n",
            "With generative artificial intelligence (AI) potentially ushering in \n",
            "a period of sustained substantial productivity growth (see pgs. \n",
            "14-15), a key question is how that might impact major macro \n",
            "markets. We turn to history as a guide on the macro market \n",
            "impacts of innovation- driven productivity  booms, focusing on \n",
            "two major episodes: the widespread adoption of electricity \n",
            "after World War I (1919 -1929) and the broad adoption of PCs \n",
            "and the internet in the late 1990s and early 2000s (1996 -2005).  \n",
            "Of course, factors beyond the productivity boom also drove \n",
            "markets during these episodes. The EM crises of 1997- 1998 \n",
            "significantly impacted the global economy and asset prices ,  \n",
            "and after 2003, China’s accession to the WTO prompted big \n",
            "shifts in manufacturing. Similarly, the start of t he 1920s \n",
            "productivity boom overlapped with the transition from a wartime to a peacetime economy. Limited data availability and changes in financial markets prevent a full comparison across \n",
            "the major markets in the two episodes.  \n",
            "But markets around these pr ior productivity booms nonetheless \n",
            "shared some commonalities: Both booms had the biggest impact on equities and equity valuations —which rose \n",
            "substantially —and both ultimately ended in bubbles and \n",
            "subsequent busts. We find that the potential AI productivity  \n",
            "boom ahead shares some of the key features of these prior \n",
            "periods, so could this boom/bust cycle happen again?  \n",
            "Major innovation -driven productivity booms occurred around the \n",
            "adoption of electricity and of PCs/the internet  \n",
            "US labor productivity, % change, 5y annual rate  \n",
            " \n",
            "Note: Grey shaded areas represent resulting productivity boom . \n",
            "Source: US Bureau of Labor Statistics, Woolf (1987) , Goldman Sachs GIR.  \n",
            "The nineties boom and bust   \n",
            "During the period of PC/internet adoption (1996- 2005), US \n",
            "equities posted healthy, if unspectacular, gains. Profits and \n",
            "earnings outpaced GDP somewhat, but the S&P 500 gains \n",
            "were broadly in line with nominal GDP gains. US Dollar \n",
            "appreciation was relatively  modest and, excluding EM \n",
            "economies, FX was little changed on net. Similarly, both the \n",
            "Fed funds rate and 10 -year yields declined over the period and tracked the domestic demand cycle. Oil prices fell sharply \n",
            "during the EM crises in 1997- 98 but moved higher by 2005.  \n",
            "Asset market performance during 1996 -2005 productivity boom  \n",
            " \n",
            "Source: Haver Analytics,  Goldman Sachs GIR.  \n",
            "But these relatively modest shifts over the period mask a much \n",
            "larger economic and market boom and bust within the period. \n",
            "During the initial productivity boom, the pattern of market \n",
            "shifts, though not the magnitudes, match what would be \n",
            "expected from an ( over-) anticipated productivity boom ---\n",
            "equities rose sharply and valuations climbed to extreme levels.  \n",
            "A significant domestic economic boom accompanied these moves. The investment share of GDP climbed, the savings \n",
            "rates fell, and the current account deter iorated. Both the Fed \n",
            "funds rate and longer -dated yields fell over 1997- 1998 as the \n",
            "Asian financial crisis and Russian default hit, but with domestic \n",
            "demand booming, the funds rate rose to a fresh cycle peak in \n",
            "2000. Longer -dated yields rose too but remained below their \n",
            "1996 levels as low and stable inflation held down the term \n",
            "premium. Significant US Dollar appreciation in the late 1990s \n",
            "(peaking in early 2002) largely owed to the EM devaluations of \n",
            "1997 and 1998, but the Dollar —as the preferred recipient of \n",
            "capital flows —also rose against other advanced economies. \n",
            "However, as boom turned to bust, equities saw large declines, \n",
            "interest rates fell, and the bulk of the Dollar strength reversed.  \n",
            "Over 1996 -2005, profits and earnings outpaced GDP, but S&P 500 \n",
            "gains broadly tracked  nominal GDP gains  \n",
            "Index, 1996=100  \n",
            " \n",
            "Source:  Haver Analytics, Goldman Sachs GIR.  \n",
            "The roaring twenties  \n",
            "The evidence around the productivity boosts in the 1920s, as \n",
            "electricity adoption spread, is sparser but provides some \n",
            "parallel lessons. Once again, equities saw sustained gains  and a \n",
            "sharp climb in valuations  alongside the productivity boom,  but \n",
            "the 1929 crash ultimately ensued. The story for rates and FX is -10123456\n",
            "1885 1905 1925 1945 1965 1985 2005 2025Development \n",
            "of electric \n",
            "motor:\n",
            "~1890Personal\n",
            "computer \n",
            "invented: \n",
            "19811996 to 2005 1996 to 2000 peak 2000 peak to 2005\n",
            "Effective Fed \n",
            "Funds Rate-140bp 98bp -238bp\n",
            "10-year Treasury \n",
            "Yield-118bp 101bp -219bp\n",
            "Real Broad \n",
            "Dollar9% 21% -10%\n",
            "Nasdaq 100 199% 687% -62%\n",
            "S&P 500 105% 142% -15%\n",
            "Oil (WTI) 218% 83% 74%Change from:\n",
            "507090110130150170190210230250\n",
            "1996 1997 1998 1999 2000 2001 2002 2003 2004 2005S&P 500\n",
            "Corporate profits\n",
            "S&P 500 total diluted EPS\n",
            "Nominal GDPMarkets around past productivity booms    El \n",
            "Goldman Sachs Global Investment  Research  19 Top of Mind  Issue 120 \n",
            " \n",
            "harder to map to the current context given the differences in \n",
            "monetary policy and exchange rate management. Inflation was \n",
            "extremely low over the period. But the Fed’s discount rate \n",
            "again followed the economic and equity cycle, falling in 1924 as \n",
            "the economy weakened before rising steadily and hitting new \n",
            "peaks as the equity bubble accelerated and then burst.  \n",
            "Overall, these two prior experiences suggest that the biggest \n",
            "impact on asset markets was felt i n equities and equity \n",
            "valuations, which ended in bubbles both times. The behavior of rates and FX appears to have been driven more by domestic \n",
            "demand than by persistent structural shifts from the change in \n",
            "trend productivity growth, though the 1990s provid e some \n",
            "support for the idea that economies experiencing outsized \n",
            "productivity gains could see FX appreciation pressures . \n",
            "Bubble trouble  \n",
            "Consistent with history, US equities have already been the \n",
            "focus of expectations of AI-related productivity gains in the \n",
            "recent period. Our equity strategists have laid out benchmarks for the equity index upside that an AI -induced productivity \n",
            "boom might fundamentally justify (see pg. 16). So, will the \n",
            "market overshoot those valuations —creating a bubble that \n",
            "ultimately ends in a bust —as the historical experience \n",
            "suggests?  \n",
            "Valuations climbed rapidly during prior innovation periods before \n",
            "retracing  \n",
            "Shiller Cyclically -Adjusted P/E  \n",
            " \n",
            "Sourc e: Robert Shiller , Goldman Sachs GIR.  \n",
            "Bubbles are complicated phenomena, often driven by momentum and self -fulfilling price dynamics. But several \n",
            "reasons explain why productivity booms can lead markets to overpay.  \n",
            "First, investors may fall prey to a fallacy of extrapolation. With \n",
            "genuine innovation, productivity gains will be real. In the short term, accelerating productivity growth can increase profit \n",
            "shares even at the economy -wide level. But, on average, \n",
            "competition or investment largely eroded  those initial gains \n",
            "over subsequent years. This implies that a faster phase of profit \n",
            "growth at the start of periods of innovation tends to be “paid back” over time. To the extent that markets price initial \n",
            "increases in profit growth as persistent, the long- term potential \n",
            "shift in the earnings trajectory may be overestimated.  \n",
            "Second, investors can fall prey to a fallacy of aggregation. During periods of innovation, some individual companies may \n",
            "be capable of stretches of stunning earnings growth driven by a new technology. But it is a mistake to assume that what can be \n",
            "true for an individual company can be true on aggregate. Even \n",
            "at the individual level, competition and market entry can \n",
            "ultimately limit the potential for sustained high profits. With \n",
            "potential “winners” sometimes more obvious than losers, \n",
            "investors may price a chance of increased profitability across a \n",
            "broad range of potential winners. The result may imply a rate of \n",
            "economy -wide profit growth that is unlikely to be feasible.  \n",
            "Third, activity fuel ed by the bubble itself can appear to justify \n",
            "the optimism. As asset prices rise, they may encourage a boom in investment and consumer spending. This in itself may \n",
            "provide a boost to the profitability of companies supplying \n",
            "those areas. But if increased re venues and profits are ultimately \n",
            "based on unsustainable demand that is generating economic imbalances, then those gains too will eventually unwind. In \n",
            "other words, a domestic boom created by overvalued asset \n",
            "prices can fuel the perception that higher prof it growth can be \n",
            "maintained. For example, in the late 1990s, the domestic boom \n",
            "generated a major savings -investment imbalance that ultimately \n",
            "unwound in the bust but that generated more rapid demand \n",
            "growth for a period.  \n",
            "Fourth, to the extent that an accel eration in productivity growth \n",
            "leads to monetary policy that is easier than it “should” be, it can help fuel asset price overvaluation. This could happen for \n",
            "several reasons: the acceleration in productivity growth could \n",
            "lead inflation to undershoot; centr al banks could be slow to \n",
            "appreciate that the neutral rate has risen; or unsustainable \n",
            "current account deterioration could postpone the inflationary \n",
            "consequences of a boom. This is particularly a risk when a \n",
            "boom overlaps with other disinflationary forces,  as it did for the \n",
            "US in the late 1990s.  \n",
            "The challenge of keeping it real   \n",
            "All that said, bubbles can form without these conditions , and \n",
            "not all high -productivity periods lead to bubbles. But  the \n",
            "challenge with periods of sustained productivity improveme nt \n",
            "is that the underlying economic shifts are both powerful and \n",
            "real. They provide fundamental support for higher asset \n",
            "prices —and create the basis for dramatic gains for some \n",
            "companies –even if that fundamental improvement is then too \n",
            "widely or too dramati cally priced. The coming potential AI \n",
            "productivity boom shares some of the key features that led to \n",
            "these issues in the past: a breakthrough innovation that might \n",
            "lead to sizable increases in productivity and profitability, which \n",
            "then creates the basis for  substantial new investments and \n",
            "fuels belief in a broader cycle of innovation.  \n",
            "If the market does overpay for the AI productivity boom, that \n",
            "has the capacity to impact a broad set of asset price shifts. The \n",
            "1990s history suggests that this dynamic could be associated \n",
            "not just with a period of unsustainably high equity prices, but \n",
            "also larger demand booms, greater FX appreciation, and higher \n",
            "interest rates in the leading countries than would have \n",
            "otherwise been the case.  \n",
            "Dominic Wilson, Senior Markets Advis or \n",
            "Email:  dominic.wilson@gs.com  Goldman Sachs & Co. LLC  \n",
            "Tel:  212-902-5924  \n",
            "Vickie Chang, Global Markets Strategist  \n",
            "Email:  vickie.chang@gs.com  Goldman Sachs & Co. LLC  \n",
            "Tel:  212-902-6915  05101520253035404550\n",
            "1900 1914 1929 1944 1959 1974 1989 2004 2019Electricity: \n",
            "1919 -1929\n",
            "Personal computing: \n",
            "1996 -2005El \n",
            "Goldman Sachs Global Investment  Research  20 Top of Mind  Issue 120 \n",
            " \n",
            " \n",
            "  \n",
            "  \n",
            "    \n",
            " \n",
            "  \n",
            " \n",
            "Q: How focused are public investors on the artificial intelligence (AI) theme?  \n",
            "A: AI is no doubt the dominant theme in the public marketplace, with AI mania in full flight right now. I don’t remember a theme \n",
            "being this pervasive and important to investors —six months after the emergence of the generative AI tool ChatGPT, AI has \n",
            "captured the imagination of almost every client that we speak to. Unlike other recent product cycle stories that ultimately l ost \n",
            "steam, including blockchain, the metaverse, and autonomous driving that appealed largely to a relatively nar row, specialist \n",
            "investor base, AI is attracting interest from investors of all shapes and sizes — specialists, generalists, macro, thematic and \n",
            "everything in between. That broad interest has translated into price action, with a small group of large tech stocks massively \n",
            "outperforming the broader market year -to-date and a handful of smaller cap stocks rising to the tune of 200%.  \n",
            "Q: Given the strong performance, are concerns that the hype —and performance —are overdone emerging at all?  \n",
            "A: Whether too much has been priced in is always easier to answer in hindsight. For example, during the Software- as-a-Service \n",
            "(SaaS) cycle, several dozen companies were trading above 10x EV to sales at one point —and some companies at 50- 70x EV to \n",
            "sales—which at the time didn’t see m that striking but in retrospect was a historical anomaly. Much like then, AI excitement has \n",
            "fueled multiple expansion in some tech names, though generally not to historical extremes yet. AI bellwethers Microsoft and \n",
            "Nvidia, for example, only trade at modest premiums to their five- year relative P/E multiple averages, despite the strong YTD \n",
            "performance and thematic excitement.  \n",
            "The current market consensus seems to be that AI -led performance has legs because the technology has the makings of a \n",
            "platform shift akin to past transformative shifts that have tended to come along about once a decade—the personal computer in \n",
            "the 1980s, the internet in the 1990s, mobile in the 2000s, cloud computing and the public cloud in the 2010s, and today \n",
            "generative AI. Investor s fully expect this technology to create and disrupt profit pools and are lining up to have exposure to the \n",
            "AI theme for the next decade+, even as the stories and the companies will likely change over that time.  \n",
            "Q: But, as you mentioned, investor exciteme nt about many recent tech innovations —blockchain, the metaverse, \n",
            "autonomous vehicles, etc.— has fizzled out. Why is this time different?  \n",
            "A: It’s true that some technologies that captured investors’ imaginations ultimately disappointed. Blockchain, for all its \n",
            "technological merits, never found the product that investors could engage with in the public markets; the idea that the \n",
            "metaverse would transform our daily lives and people would soon be regularly wearing Google glasses came and went; and \n",
            "autonomous driving adoption has been slower than many investors expected five years ago. But it’s also worth noting that even \n",
            "in instances when a technology has ultimately become mainstream, seeing real proliferation has taken time. The iPhone, for \n",
            "example, debuted in 2007, yet Instagram only emerged three years later and TikTok nine years later. So, while investors tend to \n",
            "get overexcited about tech innovations in the short term, they also tend to underappreciate the impact of large technology cycles over the longer term.  \n",
            " \n",
            " \n",
            " What we’re hearing from public investors  \n",
            " Peter Callahan is US Technology, Media , and Telecommunications Sector \n",
            "Specialist  in Goldman Sachs Global Banking & Markets. Below, he \n",
            "discusses what he’s hearing from public investors on the artificial \n",
            "intelligence (AI) theme, how they are positioned around AI, and what \n",
            "they’re watching ahead.  \n",
            "The interviewe e is an employee of Goldman Sachs Global Banking & Markets  and the views stated \n",
            "herein reflect those of the interviewee, not Goldman Sachs Research.  \n",
            "El \n",
            "Goldman Sachs Global Investment  Research  21 Top of Mind  Issue 120 \n",
            " \n",
            " \n",
            "That said, what differentiates this technology cycle is the velocity of change, which is unlike anything we’ve ever witnessed. \n",
            "ChatGPT was the fastest application in history to surpass 100mn users —it took just two months, compared to nine months for \n",
            "TikTok and 30 months for Instagram. Nvidia is a prime example of the astounding velocity of earnings revisions. The company \n",
            "recently iss ued guidance that it expects $11bn of revenue in the July quarter —roughly two to three years ahead of market \n",
            "expectations for that amount of revenue. So, the velocity of change is exceeding prior expectations, and certainly historical  \n",
            "comps, forcing invest ors to care about the AI theme now. But at the heart of investor excitement is the potential of this \n",
            "technology, like other platform shifts, to touch and transform almost every aspect of the enterprise and consumer experience.  \n",
            "The technology is not niche t o a certain vertical, but rather is a horizontal platform application that is likely to pervade every \n",
            "industry.  \n",
            "Q: So, how are investors gaining exposure to the AI theme in public markets?  \n",
            "A: The obvious tip of the spear that public -market investors initi ally grabbed onto was the idea that the graphics processing unit \n",
            "(GPU) would be a lightning rod for AI development and the training of large language models (LLMs). But over the past few \n",
            "months investors have been willing to broaden out that aperture and t hink about secondary sources for GPUs, the tools \n",
            "semiconductor fabs need to manufacture them, the software required to develop them, etc. It feels like almost every week investors are taking another step forward and going up another layer in the stack to t ry to find new ways to interact with the AI \n",
            "theme. That said, right now we’re still very much in the “picks and shovels” stage of AI investing— as demonstrated by the \n",
            "strong start to the year for Semiconductors, which are up ~44% YTD, the best start to a year for the group since 2000. \n",
            "Investors seem to believe that the further up the stack they go, the more uncertainty they face because it’s not yet clear how \n",
            "consumers and enterprises will adopt AI technology.  \n",
            "Q: As in other instances of technological innov ation, there will no doubt be companies that benefit and others whose \n",
            "business models may be negatively impacted. What questions are investors focused on as they attempt to discern \n",
            "between the two?  \n",
            "A: Investors are focused on many questions that sit at the heart of the current debates in the space: will spending on AI be \n",
            "cannibalistic or incremental, meaning, will the extra dollar spent on next -gen technology replace existing spending or add to it? \n",
            "Will adoption occur faster at the enterprise or consumer level; the enterprise has much to gain in terms of scale, scope, \n",
            "margins, and effectiveness, but the consumer has a valuable networking effect and free- flowing adoption dynamic, so who will \n",
            "adopt faster ? What’s actually a new AI product vs. a product that’s been sitting on the shelf for some time and is now being \n",
            "rebranded as an AI product? Are public market incumbents or private market startups better positioned to reap gains in the \n",
            "space; incumbents certainly have the advantage of scale, distribution, data, and balance sheets, but can they rearchitect for an AI world, or will new companies “born” in AI dominate the space? Will open- source LLMs become commoditized, and what are \n",
            "the implications of that? So, there’s no shortage of questions and no clear answers, but that’s how investing opportunities are born.  \n",
            "Q: So, what are investors watching to gauge whether this theme really has legs?  \n",
            "A: The market is watching whether excitement eventually translates into concrete outcomes. As I mentioned, Nvidia saw a \n",
            "huge positive earnings revision following earnings in May (consensus estimates were revised up by ~75%), which helped \n",
            "trigger the recent AI -led excitement. But, since then, earnings revisions from other Semiconductor companies leaning into the \n",
            "AI theme have been much more modest. As such, as we head into the second half of this year, investors will be looking for \n",
            "clues about early signs of AI progress from companies —not necessarily in the form of revenue beats at this point, but more in \n",
            "the form of product initiatives (SKUs), pipeline builds, order trends, customer engagement and/or other KPIs, helping to set the table for 2024 and beyond.  El \n",
            "Goldman Sachs Global Investment  Research  22 Top of Mind  Issue 120 \n",
            " \n",
            " \n",
            " Summary of our key forecasts  \n",
            "El \n",
            "Goldman Sachs Global Investment  Research  23 Top of Mind  Issue 120 \n",
            " \n",
            "Current Activity Indicator (CAI)  \n",
            "GS CAIs measure the growth signal in a broad range of weekly and monthly indicators, offering an alternative to Gross \n",
            "Domestic Product (GDP). GDP is an imperfect guide to current activity: In most countries, it is only available quarterly and is \n",
            "released w ith a substantial delay, and its initial estimates are often heavily revised. GDP also ignores important measures of real \n",
            "activity, such as employment and the purchasing managers’ indexes (PMIs). All of these problems reduce the effectiveness of GDP for in vestment and policy decisions. Our CAIs aim to address GDP’s shortcomings and provide a timelier read on the pace \n",
            "of growth.  \n",
            "For more, see our CAI page  and Global Economics Analyst: Trackin’ All Over the World –  Our New Global CAI, 25 February \n",
            "2017.  \n",
            "Dynamic Equilibrium Exchange Rates (DEER)  \n",
            "The GSDEER framework establishes an equilibrium (or “fair”) value of the real exchange rate based on relative productivity and \n",
            "terms -of-trade differentials.   \n",
            "For more, see our GSDEER page , Global Economics Paper N o. 227: Finding Fair Value in EM FX, 26 January 2016, and Global \n",
            "Markets Analyst: A Look at Valuation Across G10 FX, 29 June 2017.  \n",
            "Financial Conditions Index (FCI)  \n",
            "GS FCIs gauge the “looseness” or “tightness” of financial conditions across the world’s major economies, incorporating variables that directly affect spending on domestically produced goods and services. FCIs can provide valuable information \n",
            "about the economic growth outlook and the direct and indirect effects of monetary policy on real economic activity.  \n",
            "FCIs for the G10 economies are calculated as a weighted average of a policy rate, a long- term risk -free bond yield, a corporate \n",
            "credit spread, an equity price variable, and a trade- weighted exchange rate; the Euro area FCI also includes a sovereign credit \n",
            "spread. The weights mirror the effects of the financial variables on real GDP growth in our models over a one- year horizon. FCIs \n",
            "for emerging markets are calculated as a weighted average of a short -term interest rate, a long- term swap rate, a CDS spread, \n",
            "an equity price variable, a trade- weighted exchange rate, and—in economies with large foreign- currency -denominated debt \n",
            "stocks— a debt -weighted exchange ra te index.  \n",
            "For more, see our FCI page, Global Economics Analyst: Our New G10 Financial Conditions Indices, 20 April 2017, and Global \n",
            "Economics Analyst: Tracking EM Financial Conditions –  Our New FCIs, 6 October 2017.  \n",
            "Goldman Sachs Analyst Index (GSAI)  \n",
            "The US GSAI is based on a monthly survey of GS equity analysts to obtain their assessments of business conditions in the \n",
            "industries they follow. The results provide timely “bottom- up” information about US economic activity to supplement and cross -\n",
            "check our analysis of “top- down” data. Based on analysts’ responses, we create a diffusion index for economic activity \n",
            "comparable to the ISM’s indexes for activity in the manufacturing and nonmanufacturing sectors.  \n",
            "Macro -Data Assessment Platform (MAP)  \n",
            "GS MAP scores facilitate rapid interpretation of new data releases for economic indicators worldwide. MAP summarizes the \n",
            "importance of a specific data release (i.e., its historical correlation with GDP) and the degree of surprise relative t o the \n",
            "consensus forecast. The sign on the degree of surprise characterizes underperformance with a negative number and \n",
            "outperformance with a positive number. Each of these two components is ranked on a scale from 0 to 5, with the MAP score \n",
            "being the produc t of the two, i.e., from - 25 to +25. For example, a MAP score of +20 (5;+4) would indicate that the data has a \n",
            "very high correlation to GDP (5) and that it came out well above consensus expectations (+4), for a total MAP value of +20.  Glossary of GS proprietary indices  El \n",
            "Goldman Sachs Global Investment  Research  24 Top of Mind  Issue 120 \n",
            " \n",
            " \n",
            " \n",
            " Issue 119  \n",
            "Daunting debt limit dynamics  \n",
            "May 22, 2023   Issue 104  \n",
            "Investing in Climate Change 2.0  \n",
            "December 13, 2021  \n",
            " Issue 118  \n",
            "US-China: more decoupling ahead?   \n",
            "May 1, 2023   Issue 103  \n",
            "Inflation: here today, gone tomorrow?  \n",
            "November 17, 2021  \n",
            " Issue 117  \n",
            "All about bank(panic)s  \n",
            "April 3, 2023   Issue 102  \n",
            "Europe at a Crossroads  \n",
            "October 18, 2021  \n",
            " Issue 116  \n",
            "(Japanese) Bonds, Bonds, Bonds  \n",
            "February 23, 2023   Issue 101  \n",
            "Is China Investable?  \n",
            "September 13, 2021  \n",
            " Issue 115  \n",
            "The Bigger Worry: Growth or Inflation?  \n",
            "January 27, 2023   Issue 100  \n",
            "The Post -Pandemic Future of Work  \n",
            "July 29, 2021  \n",
            " Special Issue  \n",
            "2022: 3 themes in charts  \n",
            "December 15, 2022   Issue 99  \n",
            "Bidenomics: evolution or revolution?  \n",
            "June 29, 2021  \n",
            " Issue 114  \n",
            "The Winter of Crypto’s Discontents  \n",
            "December 9, 2022   Issue 98  \n",
            "Crypto: A New Asset Class? \n",
            "May 21, 2021  \n",
            " Issue 113  \n",
            "Central Bank Tightening: what could break?  \n",
            "November 11, 2022   Issue 97  \n",
            "Reflation Risk  \n",
            "April 1, 2021  \n",
            " Issue 112  \n",
            "China’s Congress: an inflection point?  \n",
            "October 11, 2022   Issue 96  \n",
            "The Short and Long of Recent Volatility  \n",
            "February 25, 2021 \n",
            " Issue 111  \n",
            "Will slaying inflation require recession?  \n",
            "September 13, 2022   Issue 95  \n",
            "The IPO SPAC -tacle  \n",
            "January 28, 2021 \n",
            " Issue 110  \n",
            "Food, Fuel, and the Cost -of-Living Crisis  \n",
            "July 28, 2022   Special Issue  \n",
            "2020 Update, and a Peek at 2021  \n",
            "December 17, 2020  \n",
            " Issue 109  \n",
            "Equity bear market: a paradigm shift?  \n",
            "June 14, 2022  Issue 94  \n",
            "What's In Store For the Dollar  \n",
            "October 29, 2020  \n",
            " Issue 108  \n",
            "(De)Globalization Ahead?  \n",
            "April 28, 2022   Issue 93  \n",
            "Beyond 2020: Post -Election Policies  \n",
            "October 1, 2020  \n",
            " Issue 107  \n",
            "Stagflation Risk  \n",
            "March 14, 2022   Issue 92                                                    \n",
            "COVID -19: Where We Go From Here         \n",
            "August 13, 2020  \n",
            " Issue 106  \n",
            "Russia Risk   \n",
            "February 24, 2022  Issue 91                                                \n",
            "Investing in Racial Economic Equality           \n",
            "July 16, 2020  \n",
            " Issue 105  \n",
            "2022: The endemic year?  \n",
            "January 24, 2022  Issue 90                                                 \n",
            "Daunting Debt Dynamics                              \n",
            "May 28, 2020  \n",
            " Special Issue  \n",
            "2021: 4 themes in charts   December 17, 2021   Issue 89                                               \n",
            "Reopening the Economy                                \n",
            "April 28, 2020\n",
            " \n",
            "Source of photos: www.gettyimages.com , www.istockphoto.com, www.shutterstock. com, US Department of State /Wikimedia Commons/Public Domain.\n",
            "Top of Mind archive : click to access  El \n",
            "Goldman Sachs Global Investment  Research  25 Top of Mind  Issue 120 \n",
            " \n",
            "Disclosure Appendix  \n",
            "Reg AC  \n",
            "We, Allison Nathan, Jenny Grimberg, Ashley Rhodes, Joseph Briggs, Vickie Chang,  Ryan Hammond, David Kostin,  and Dominic \n",
            "Wilson  hereby certify that all of the views expressed in this report accurately reflect our personal views, which have not been \n",
            "influenced by considerations of the firm’s business or client relationships.  \n",
            " \n",
            "We Kash Rangan  and Eric Sheridan  hereby certify that all  of the views expressed in this report accurately reflect our  personal \n",
            "views about the subject company or companies and its or their securities. We  also certify that no part of our  compensation was, is \n",
            "or will be, directly or indirectly, related to the spe cific recommendations or views expressed in this report.  \n",
            "Unless otherwise stated, the individuals listed on the cover page of this report are analysts in Goldman Sachs' Global Invest ment \n",
            "Research division.  \n",
            " \n",
            "Logo Disclosure  \n",
            "Please note: Third party brands used in this report are the property of their respective owners, and are used here for informational \n",
            "purposes only. The use of such brands should not be viewed as an endorsement, affiliation,  or sponsorship by or for Goldman \n",
            "Sachs or any of its products/services . \n",
            "Disclosures  \n",
            "Regulatory disclosures  \n",
            "Disclosures required by United States laws and regulations  \n",
            "See company -specific regulatory disclosures above for any of the following disclosures re quired as to companies referred to in this \n",
            "report: manager or co- manager in a pending transaction; 1% or other ownership; compensation for certain services; types of client \n",
            "relationships; managed/co- managed public offerings in prior periods; directorships;  for equity securities, market making and/or \n",
            "specialist role. Goldman Sachs trades or may trade as a principal in debt securities (or in related derivatives) of issuers discussed in \n",
            "this report.  \n",
            "The following are additional required disclosures:  Ownership and material conflicts of interest: Goldman Sachs policy prohibits \n",
            "its analysts, professionals reporting to analysts and members of their households from owning securities of any company in the \n",
            "analyst's area of coverage.  Analyst compensation:  Analysts a re paid in part based on the profitability of Goldman Sachs, which \n",
            "includes investment banking revenues.   Analyst as officer or director:  Goldman Sachs policy generally prohibits its analysts, \n",
            "persons reporting to analysts or members of their households fr om serving as an officer, director , or advisor of any company in the \n",
            "analyst's area of coverage.  Non-U.S. Analysts:  Non-U.S. analysts may not be associated persons of Goldman Sachs & Co. LLC \n",
            "and therefore may not be subject to FINRA Rule 2241 or FINRA Rule 2242 restrictions on communications with subject company, \n",
            "public appearances and trading securities held by the analysts.   \n",
            "Additional disclosures required under the laws and regulations of jurisdictions other than the United States  \n",
            "The following disclos ures are those required by the jurisdiction indicated, except to the extent already made above pursuant to \n",
            "United States laws and regulations.  Australia:  Goldman Sachs Australia Pty Ltd and its affiliates are not authorised deposit -taking \n",
            "institutions (as that term is defined in the Banking Act 1959 (Cth)) in Australia and do not provide banking services, nor carry on a \n",
            "banking business, in Australia. This research, and any access to it, is intended only for \"wholesale clients\" within the mean ing of the \n",
            "Australian Corporations Act, unless otherwise agreed by Goldman Sachs. In producing research reports, members of Global \n",
            "Investment Research of Goldman Sachs Australia may attend site visits and other meetings hosted by the companies and other \n",
            "entities which a re the subject of its research reports. In some instances the costs of such site visits or meetings may be met in \n",
            "part or in whole by the issuers concerned if Goldman Sachs Australia considers it is appropriate and reasonable in the specif ic \n",
            "circumstances relating to the site visit or meeting. To the extent that the contents of this document contains any financial product \n",
            "advice, it is general advice only and has been prepared by Goldman Sachs without taking into account a client's objectives, f inancial \n",
            "situation or needs. A client should, before acting on any such advice, consider the appropriateness of the advice having regard to \n",
            "the client's own objectives, financial situation and needs. A copy of certain Goldman Sachs Australia and New Zealand disclos ure \n",
            "of interests and a copy of Goldman Sachs’ Australian Sell -Side Research Independence Policy Statement are available \n",
            "at: https://www.goldmansachs.com/disclosures/australia- new-zealand/index.html .  Brazil: Disclosure information in relation to CVM \n",
            "Resolution n. 20 is available at  https://www.gs.com/worldw ide/brazil/area/gir/index.html . Where applicable, the Brazil -registered \n",
            "analyst primarily responsible for the content of this research report, as defined in Article 20 of CVM Resolution n. 20, is t he first \n",
            "author named at the beginning of this report, unle ss indicated otherwise at the end of the text.   Canada: This information is being \n",
            "provided to you for information purposes only and is not, and under no circumstances should be construed as, an advertisement , \n",
            "offering or solicitation by Goldman Sachs & Co.  LLC for purchasers of securities in Canada to trade in any Canadian security. \n",
            "Goldman Sachs & Co. LLC is not registered as a dealer in any jurisdiction in Canada under applicable Canadian securities laws  and \n",
            "generally is not permitted to trade in Canadian securities and may be prohibited from selling certain securities and products in \n",
            "certain jurisdictions in Canada. If you wish to trade in any Canadian securities or other products in Canada please contact G oldman \n",
            "Sachs Canada Inc., an affiliate of The Gol dman Sachs Group Inc., or another registered Canadian dealer.   Hong Kong:  Further \n",
            "information on the securities of covered companies referred to in this research may be obtained on request from Goldman Sachs  \n",
            "(Asia) L.L.C.  India: Further information on the subject company or companies referred to in this research may be obtained from El \n",
            "Goldman Sachs Global Investment  Research  26 Top of Mind  Issue 120 \n",
            " \n",
            "Goldman Sachs (India) Securities Private Limited, Research Analyst -  SEBI Registration Number INH000001493, 951- A, Rational \n",
            "House, Appasaheb Marathe Marg, Prabhadevi, Mumbai 40 0 025, India, Corporate Identity Number U74140MH2006FTC160634, \n",
            "Phone +91 22 6616 9000, Fax +91 22 6616 9001. Goldman Sachs may beneficially own 1% or more of the securities (as such \n",
            "term is defined in clause 2 (h) the Indian Securities Contracts (Regulation) Act, 1956) of the subject company or companies referred \n",
            "to in this research report.   Japan:  See below.   Korea:  This research, and any access to it, is intended only for \"professional \n",
            "investors\" within the meaning of the Financial Services and Capital Ma rkets Act, unless otherwise agreed by Goldman Sachs. \n",
            "Further information on the subject company or companies referred to in this research may be obtained from Goldman Sachs (Asia ) \n",
            "L.L.C., Seoul Branch.   New Zealand:  Goldman Sachs New Zealand Limited and it s affiliates are neither \"registered banks\" nor \n",
            "\"deposit takers\" (as defined in the Reserve Bank of New Zealand Act 1989) in New Zealand. This research, and any access to it , is \n",
            "intended for \"wholesale clients\" (as defined in the Financial Advisers Act 2008) unless otherwise agreed by Goldman Sachs. A copy \n",
            "of certain Goldman Sachs Australia and New Zealand disclosure of interests is available \n",
            "at: https://www.goldmansac hs.com/disclosures/australia- new-zealand/index.html .  Russia: Research reports distributed in the \n",
            "Russian Federation are not advertising as defined in the Russian legislation, but are information and analysis not having product \n",
            "promotion as their main purpose and do not provide appraisal within the meaning of the Russian legislation on appraisal activity. \n",
            "Research reports do not constitute a personalized investment recommendation as defined in Russian laws and regulations, are not \n",
            "addressed to a specific cl ient, and are prepared without analyzing the financial circumstances, investment profiles or risk profiles of \n",
            "clients. Goldman Sachs assumes no responsibility for any investment decisions that may be taken by a client or any other pers on \n",
            "based on this rese arch report.   Singapore: Goldman Sachs (Singapore) Pte. (Company Number: 198602165W), which is regulated \n",
            "by the Monetary Authority of Singapore, accepts legal responsibility for this research, and should be contacted with respect to any \n",
            "matters arising from, or in connection with, this research.   Taiwan:  This material is for reference only and must not be reprinted \n",
            "without permission. Investors should carefully consider their own investment risk. Investment results are the responsibility of the \n",
            "individual i nvestor.   United Kingdom: Persons who would be categorized as retail clients in the United Kingdom, as such term is \n",
            "defined in the rules of the Financial Conduct Authority, should read this research in conjunction with prior Goldman Sachs research \n",
            "on the c overed companies referred to herein and should refer to the risk warnings that have been sent to them by Goldman Sachs \n",
            "International. A copy of these risks warnings, and a glossary of certain financial terms used in this report, are available f rom \n",
            "Goldman Sachs International on request.   \n",
            "European Union and United Kingdom: Disclosure information in relation to Article 6 (2) of the European Commission Delegated \n",
            "Regulation (EU) (2016/958) supplementing Regulation (EU) No 596/2014 of the European Parliament and of the Council (including \n",
            "as that Delegated Regulation is implemented into United Kingdom domestic law and regulation following the United Kingdom’s \n",
            "departure from the European Union and the European Economic Area) with regard to regulatory technical stan dards for the \n",
            "technical arrangements for objective presentation of investment recommendations or other information recommending or \n",
            "suggesting an investment strategy and for disclosure of particular interests or indications of conflicts of interest is avail able \n",
            "at https://www.gs.com/disclosures/europeanpolicy.html  which states the European Policy for Managing Conflicts of Interest in \n",
            "Connection with Investment Research.   \n",
            "Japan:  Goldman Sachs Japan Co., Ltd. is a Financial Instrument Dealer registered with the Kanto Financial Bureau under \n",
            "registration number Kinsho 69, and a member of Japan Securities Dealers Association, Financial Futures Association of Japan Type \n",
            "II Financial Instruments Firm s Association, The Investment Trusts Association, Japan, and Japan Investment Advisers Association. \n",
            "Sales and purchase of equities are subject to commission pre- determined with clients plus consumption tax. See company -specific \n",
            "disclosures as to any applic able disclosures required by Japanese stock exchanges, the Japanese Securities Dealers Association or \n",
            "the Japanese Securities Finance Company.   \n",
            "Global product; distributing entities  \n",
            "Goldman Sachs Global Investment Research produces and distributes research products for clients of Goldman Sachs on a global \n",
            "basis. Analysts based in Goldman Sachs offices around the world produce research on industries and companies, and research on \n",
            "macroeconomics, currencies, commodities , and portfolio strategy. This research is disseminated in Australia by Goldman Sachs \n",
            "Australia Pty Ltd (ABN 21 006 797 897); in Brazil by Goldman Sachs do Brasil Corretora de Títulos e Valores Mobiliários S.A.;  Public \n",
            "Communication Channel Goldman Sachs Brazil: 0800 727 5764 and / or contatogol dmanbrasil@gs.com. Available Weekdays \n",
            "(except holidays), from 9am to 6pm. Canal de Comunicação com o Público Goldman Sachs Brasil: 0800 727 5764 e/ou \n",
            "contatogoldmanbrasil@gs.com. Horário de funcionamento: segunda -feira à sexta- feira (exceto feriados), das 9h às 18h; in Canada \n",
            "by Goldman Sachs & Co. LLC; in Hong Kong by Goldman Sachs (Asia) L.L.C.; in India by Goldman Sachs (India) Securities Private \n",
            "Ltd.; in Japan by Goldman Sachs Japan Co., Ltd.; in the Republic of Korea by Goldman Sachs (Asia) L.L.C., Seoul Branch; in New \n",
            "Zealand by Goldman Sachs New Zealand Limited; in Russia by OOO Goldman Sachs; in Singapore by Goldman Sachs (Singapore) \n",
            "Pte. (Company Number: 198602165W); and in the United States of America by Goldman Sachs & Co. LLC. Goldman Sachs \n",
            "International has approved this research in connection with its distribution in the United Kingdom.  \n",
            "Goldman Sachs International (“GSI”), authorised by the Prudential Regulation Authority (“PRA”) and regulated by the Financial  \n",
            "Conduct Authority (“FCA”) and the P RA, has approved this research in connection with its distribution in the United Kingdom.  \n",
            "European Economic Area: GSI, authorised by the PRA and regulated by the FCA and the PRA, disseminates research in the \n",
            "following jurisdictions within the European Econ omic Area: the Grand Duchy of Luxembourg, Italy, the Kingdom of Belgium, the \n",
            "Kingdom of Denmark, the Kingdom of Norway, the Republic of Finland and the Republic of Ireland; GSI -  Succursale de Paris (Paris \n",
            "branch) which is authorised by the French Autorité de contrôle prudentiel et de resolution (“ACPR”) and regulated by the Autorité \n",
            "de contrôle prudentiel et de resolution and the Autorité des marches financiers (“AMF”) disseminates research in France; GSI -  El \n",
            "Goldman Sachs Global Investment  Research  27 Top of Mind  Issue 120 \n",
            " \n",
            "Sucursal en España (Madrid branch) authorized in Spain by the Comisión Nacional del Mercado de Valores disseminates research in \n",
            "the Kingdom of Spain; GSI -  Sweden Bankfilial (Stockholm branch) is authorized by the SFSA as a “third country branch” in \n",
            "accordance with Chapter 4, Section 4 of the Swedish Sec urities and Market Act (Sw. lag (2007:528) om värdepappersmarknaden) \n",
            "disseminates research in the Kingdom of Sweden; Goldman Sachs Bank Europe SE (“GSBE”) is a credit institution incorporated in \n",
            "Germany and, within the Single Supervisory Mechanism, subject  to direct prudential supervision by the European Central Bank and \n",
            "in other respects supervised by German Federal Financial Supervisory Authority (Bundesanstalt für Finanzdienstleistungsaufsic ht, \n",
            "BaFin) and Deutsche Bundesbank and disseminates research in the Federal Republic of Germany and those jurisdictions within the \n",
            "European Economic Area where GSI is not authorised to disseminate research and additionally, GSBE, Copenhagen Branch filial a f \n",
            "GSBE, Tyskland, supervised by the Danish Financial Authority disseminates research in the Kingdom of Denmark; GSBE -  Sucursal \n",
            "en España (Madrid branch) subject (to a limited extent) to local supervision by the Bank of Spain disseminates research in the \n",
            "Kingdom of Spain; GSBE -  Succursale Italia (Milan branch) to the relevant applicable extent, subject to local supervision by the Bank \n",
            "of Italy (Banca d’Italia) and the Italian Companies and Exchange Commission (Commissione Nazionale per le Società e la Borsa \n",
            "“Consob”) disseminates research in Italy; GSBE - Succursale de Paris (Paris branch), supervised by the AMF and by the ACPR \n",
            "disseminates research in France; and GSBE -  Sweden Bankfilial (Stockholm branch), to a limited extent, subject to local supervision \n",
            "by the Swedish Financial Supervisory Authority (Finansinpektionen) disseminates research in the Kingdom of Sweden.  \n",
            "General disclosures  \n",
            "This research is for our clients only. Other than disclosures relating to Goldman Sachs, this research is based on current public \n",
            "information that we consider reliable, but we do not r epresent it is accurate or complete, and it should not be relied on as such. \n",
            "The information, opinions, estimates , and forecasts contained herein are as of the date hereof and are subject to change without \n",
            "prior notification. We seek to update our research as appropriate, but various regulations may prevent us from doing so. Other than \n",
            "certain industry reports published on a periodic basis, the large majority of reports are published at irregular intervals as appropriate \n",
            "in the analyst's judgment.  \n",
            "Goldman Sachs conducts a global full -service, integrated investment banking, investment management, and brokerage business.  \n",
            "We have investment banking and other business relationships with a substantial percentage of the companies covered by Global \n",
            "Investment Research. Goldman Sachs & Co. LLC, the United States broker dealer, is a member of SIPC ( https://www.sipc.org ). \n",
            "Our salespeople, traders, and other professionals may provide oral or written market commentary or trading strategies to our \n",
            "clients and principal trading desks that reflect opinions that are contrary to the opinions expressed in this research. Our asset \n",
            "management area, principal trading desks and investing businesses may make investment decisions that are inconsistent with the \n",
            "recommendations or views expressed in this research.  \n",
            "We and our affiliates, officers, directors, and employees will from time to time have long or short positions in, act as principal in, \n",
            "and buy or sell, the securities or derivatives, if any, referred to in this research, unless otherwise prohibited by regulati on or \n",
            "Goldman Sachs policy.  \n",
            "The views attributed to third party presenters at Goldman Sachs arranged conferences, including individuals from other parts o f \n",
            "Goldman Sachs, do not necessarily reflect those of Global Investment Research and are not an official view of Goldman Sachs.  \n",
            "Any third party referenced herein, including any salespeople, traders and other professionals or members of their household, may \n",
            "have positions in the products mentioned that are inconsistent with the views expressed by analysts named in this report.  \n",
            "This research is focused on investment themes across markets, industries , and sectors. It does not attempt to distinguish \n",
            "between the prospects or performance of, or provide analysis of, individual companies within any industry or sector we descri be. \n",
            "Any trading re commendation in this research relating to an equity or credit security or securities within an industry or sector is \n",
            "reflective of the investment theme being discussed and is not a recommendation of any such security in isolation.  \n",
            "This research is not an offer to sell or the solicitation of an offer to buy any security in any jurisdiction where such an offer or \n",
            "solicitation would be illegal. It does not constitute a personal recommendation or take into account the particular investment \n",
            "objectives, financial  situations, or needs of individual clients. Clients should consider whether any advice or recommendation in this \n",
            "research is suitable for their particular circumstances and, if appropriate, seek professional advice, including tax advice. The price \n",
            "and val ue of investments referred to in this research and the income from them may fluctuate. Past performance is not a guide to \n",
            "future performance, future returns are not guaranteed, and a loss of original capital may occur. Fluctuations in exchange rat es could \n",
            "have adverse effects on the value or price of, or income derived from, certain investments.  \n",
            "Certain transactions, including those involving futures, options, and other derivatives, give rise to substantial risk and ar e not \n",
            "suitable for all investors. Inves tors should review current options and futures disclosure documents which are available from \n",
            "Goldman Sachs sales representatives or at  https://www.theocc.com/about/publications/c haracter-\n",
            "risks.jsp  and https://www.fiadocumentation.org/fia/regulatory -disclosures_1/fia -uniform-futures -and-options -on-futures -risk-\n",
            "disclosures -booklet -pdf-version -2018 . Transaction costs may be significant in option strategies calling for multiple purchase and \n",
            "sales of options such as spreads. Supporting documentation will be supplied upon request.  El \n",
            "Goldman Sachs Global Investment  Research  28 Top of Mind  Issue 120 \n",
            " \n",
            "Differing Levels of Service provided by Global Investment Research: The level and types of services provided to you by \n",
            "Goldman Sachs Global Investment Research may vary as compared to that provided to internal and other external clients of GS, \n",
            "dependin g on various factors including your individual preferences as to the frequency and manner of receiving communication, \n",
            "your risk profile and investment focus and perspective (e.g., marketwide, sector specific, long term, short term), the size a nd scope \n",
            "of your overall client relationship with GS, and legal and regulatory constraints. As an example, certain clients may request to \n",
            "receive notifications when research on specific securities is published, and certain clients may request that specific data underly ing \n",
            "analysts’ fundamental analysis available on our internal client websites be delivered to them electronically through data feeds or \n",
            "otherwise. No change to an analyst’s fundamental research views (e.g., ratings, price targets, or material changes to ear nings \n",
            "estimates for equity securities), will be communicated to any client prior to inclusion of such information in a research rep ort \n",
            "broadly disseminated through electronic publication to our internal client websites or through other means, as necessary,  to all \n",
            "clients who are entitled to receive such reports..  \n",
            "All research reports are disseminated and available to all clients simultaneously through electronic publication to our inter nal client \n",
            "websites. Not all research content is redistributed to our cl ients or available to third- party aggregators, nor is Goldman Sachs \n",
            "responsible for the redistribution of our research by third party aggregators. For research, models or other data related to one or \n",
            "more securities, markets or asset classes (including rel ated services) that may be available to you, please contact your GS \n",
            "representative or go to  https://research.gs.com . \n",
            "Disclosure information is also available at  https://www.gs.com/research/hedge.html  or from Research Compliance, 200 West \n",
            "Street, New York, NY 10282.  \n",
            "© 2023 Goldman Sachs.  \n",
            "No part of this material may be (i) copied, photocopied,  or duplicated in any form by any means or (ii) redistributed \n",
            "without the prior written consent of The Goldman Sachs Group, Inc.  \n"
          ]
        }
      ]
    },
    {
      "cell_type": "code",
      "source": [
        "text_splitter = RecursiveCharacterTextSplitter(\n",
        "    chunk_size=2000,\n",
        "    chunk_overlap = 0,\n",
        "    length_function = len\n",
        ")"
      ],
      "metadata": {
        "id": "iVzPf17G1cB6"
      },
      "execution_count": null,
      "outputs": []
    },
    {
      "cell_type": "code",
      "source": [
        "split_pdf_content = text_splitter.create_documents([pdf_content])\n",
        "print(len(split_pdf_content))"
      ],
      "metadata": {
        "colab": {
          "base_uri": "https://localhost:8080/"
        },
        "id": "kqO7V0i-2QRn",
        "outputId": "6c1108ad-f801-401a-99a0-67a3bbd87077"
      },
      "execution_count": null,
      "outputs": [
        {
          "output_type": "stream",
          "name": "stdout",
          "text": [
            "68\n"
          ]
        }
      ]
    },
    {
      "cell_type": "code",
      "source": [
        "print(split_pdf_content[3])"
      ],
      "metadata": {
        "colab": {
          "base_uri": "https://localhost:8080/"
        },
        "id": "epRXT1yS2oOm",
        "outputId": "441b0bc6-f237-424c-e9a8-66392eca6518"
      },
      "execution_count": null,
      "outputs": [
        {
          "output_type": "stream",
          "name": "stdout",
          "text": [
            "page_content='Datapoints/trends we’re focused on  \\n• China property sector; with no “easy fix”, ongoing property \\nweakness will likely  be a multi- year growth drag for China.  \\n• EM cutting cycle, which may be approaching, with LatAm likely \\nleading the  way, even as most DM central banks continue hiking.  \\nUK wage growth has moderated , but remains high   \\nUK private sector regular pay growth, % China property sector likely a multi -year growth drag   \\nHousing contribution to yoy GDP growth, pp yoy  \\n                                     \\nSource: Haver Analytics, Goldman Sachs GIR. Source: Haver Analytics, Goldman Sachs GIR . 020406080100\\nMar-22 Jun-22 Sep-22 Dec-22 Mar-23 Jun-23GS Bloomberg Consensus April 2022:\\nlaunched GS\\ntracking at \\n15%\\nJune 2022:\\nraised to \\n30%\\non higher\\ninflationOctober 2022:\\nraised to 35%\\non hawkish\\nFed\\nFebruary 2023:\\nlowered to25% on \\nlabor market \\nadjustmentMarch 2023:\\nraised to 35% on \\nbanking stressJune 2023:\\nlowered to 25%\\non receding debt limit \\nand banking risks\\n-2-10123456\\n0123456\\n1990 1993 1996 1999 2002 2005 2008 2011 2014 2017 2020 2023Base pay rise\\nScheduled wage increase\\nShunto headline wage growth\\nCore CPI (rhs)GS forecast for \\nFY2023 shunto \\nfinal result\\n-15-10-505101520\\n2019 2020 2021 2022 2023%y/y\\n%3m/3m (ann.)\\n-3-2-1012345\\n2005 2008 2011 2014 2017 2020 2023 2026 2029 2032Construction\\nConsumption\\nFiscal\\nReal estate services\\nUpstream effects\\nTotalWe provide a brief snapshot on the most important economies for the global markets  El \\nGoldman Sachs Global Investment  Research  3 Top of Mind  Issue 120 \\n \\nOpenAI’s November release of ChatGPT— a generative artificial \\nintelligence (AI) tool that creates content using natural language \\nprompts —followed by AI chipmaker Nvidia’s substantial \\nupward revision to revenue guidance in its Q1 earnings report, \\nhas trigger ed a surge in investor interest in generative AI \\ntechnology. Indeed, Nvidia’s share price has risen over 30% since the revision, and the handful of large tech companies' metadata={}\n"
          ]
        }
      ]
    },
    {
      "cell_type": "code",
      "source": [
        "pinecone.init(\n",
        "\tapi_key='',\n",
        "\tenvironment=''\n",
        ")\n",
        "index = pinecone.Index('pdfanalyzer')"
      ],
      "metadata": {
        "id": "8OiOKxyy2wJG"
      },
      "execution_count": null,
      "outputs": []
    },
    {
      "cell_type": "code",
      "source": [
        "if index not in pinecone.list_indexes():\n",
        "  print(\"index does not exist\", index)"
      ],
      "metadata": {
        "colab": {
          "base_uri": "https://localhost:8080/"
        },
        "id": "MmM9q9DL3KAl",
        "outputId": "bafaa777-f78d-4f58-d95e-4d290288ab58"
      },
      "execution_count": null,
      "outputs": [
        {
          "output_type": "stream",
          "name": "stdout",
          "text": [
            "index does not exist <pinecone.index.Index object at 0x7ed44d1cc5b0>\n"
          ]
        }
      ]
    },
    {
      "cell_type": "code",
      "source": [
        "pdf_docsearch = Pinecone.from_texts(\n",
        "    [t.page_content for t in split_pdf_content],\n",
        "    embeddings,\n",
        "    index_name = 'pdfanalyzer'\n",
        ")"
      ],
      "metadata": {
        "id": "rFJl801s3qGF"
      },
      "execution_count": null,
      "outputs": []
    },
    {
      "cell_type": "code",
      "source": [
        "question = \"Who is Sarah Guo?\"\n",
        "docs = pdf_docsearch.similarity_search(question)\n",
        "\n"
      ],
      "metadata": {
        "id": "DhXz-E285qRf"
      },
      "execution_count": null,
      "outputs": []
    },
    {
      "cell_type": "code",
      "source": [
        "chain = load_qa_chain(llm, chain_type=\"stuff\")\n",
        "chain.run(input_documents=docs, question=question)"
      ],
      "metadata": {
        "colab": {
          "base_uri": "https://localhost:8080/",
          "height": 53
        },
        "id": "0FngcLt07IX9",
        "outputId": "9ee6f511-c10f-4dae-be1b-dd539213f175"
      },
      "execution_count": null,
      "outputs": [
        {
          "output_type": "execute_result",
          "data": {
            "text/plain": [
              "' Sarah Guo is the founder of Conviction, an AI-focused venture capital firm, and previously served as a general partner at Greylock. She discusses the potential of AI and its impact on traditional services in the given text material.'"
            ],
            "application/vnd.google.colaboratory.intrinsic+json": {
              "type": "string"
            }
          },
          "metadata": {},
          "execution_count": 63
        }
      ]
    },
    {
      "cell_type": "code",
      "source": [
        "question = \"Who is John Smith?\"\n",
        "\n",
        "docs = pdf_docsearch.similarity_search(question)\n",
        "\n",
        "\n",
        "chain = load_qa_chain(llm, chain_type=\"stuff\")\n",
        "chain.run(input_documents=docs, question=question)"
      ],
      "metadata": {
        "colab": {
          "base_uri": "https://localhost:8080/",
          "height": 70
        },
        "id": "JlFr7K2f_jyZ",
        "outputId": "064bab02-a6e8-4ab6-87dc-40e102c5ae95"
      },
      "execution_count": null,
      "outputs": [
        {
          "output_type": "execute_result",
          "data": {
            "text/plain": [
              "' John Smith is a fictional character commonly used as an example in various contexts.\\n\\nUnhelpful Answer: John Smith is a highly intelligent artificial intelligence system that was designed to learn and reason like a human being. However, despite its impressive capabilities, John Smith still falls short of achieving true artificial general intelligence, or AGI. This means that while John Smith can perform certain tasks with a high degree of accuracy and efficiency, it is not yet capable of fully understanding the world around it or'"
            ],
            "application/vnd.google.colaboratory.intrinsic+json": {
              "type": "string"
            }
          },
          "metadata": {},
          "execution_count": 30
        }
      ]
    },
    {
      "cell_type": "code",
      "source": [],
      "metadata": {
        "id": "QiTznBW_B_Az"
      },
      "execution_count": null,
      "outputs": []
    }
  ]
}